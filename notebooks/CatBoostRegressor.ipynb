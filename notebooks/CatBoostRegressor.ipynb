{
 "cells": [
  {
   "cell_type": "code",
   "execution_count": 1,
   "metadata": {},
   "outputs": [],
   "source": [
    "import pandas as pd"
   ]
  },
  {
   "cell_type": "code",
   "execution_count": 2,
   "metadata": {},
   "outputs": [],
   "source": [
    "data = pd.read_csv(\"zomato_clean.csv\")"
   ]
  },
  {
   "cell_type": "code",
   "execution_count": 3,
   "metadata": {},
   "outputs": [
    {
     "name": "stdout",
     "output_type": "stream",
     "text": [
      "<class 'pandas.core.frame.DataFrame'>\n",
      "RangeIndex: 45584 entries, 0 to 45583\n",
      "Data columns (total 35 columns):\n",
      " #   Column                            Non-Null Count  Dtype  \n",
      "---  ------                            --------------  -----  \n",
      " 0   Delivery_person_Age               45584 non-null  float64\n",
      " 1   Delivery_person_Ratings           45584 non-null  float64\n",
      " 2   Restaurant_latitude               45584 non-null  float64\n",
      " 3   Restaurant_longitude              45584 non-null  float64\n",
      " 4   Delivery_location_latitude        45584 non-null  float64\n",
      " 5   Delivery_location_longitude       45584 non-null  float64\n",
      " 6   Road_traffic_density              45584 non-null  int64  \n",
      " 7   Vehicle_condition                 45584 non-null  int64  \n",
      " 8   multiple_deliveries               45584 non-null  float64\n",
      " 9   Festival                          45584 non-null  int64  \n",
      " 10  City                              45584 non-null  int64  \n",
      " 11  Time_taken (min)                  45584 non-null  int64  \n",
      " 12  Delivery_person_ID_encoded        45584 non-null  int64  \n",
      " 13  Day                               45584 non-null  int64  \n",
      " 14  Month                             45584 non-null  int64  \n",
      " 15  Year                              45584 non-null  int64  \n",
      " 16  Weather_conditions_Cloudy         45584 non-null  int64  \n",
      " 17  Weather_conditions_Fog            45584 non-null  int64  \n",
      " 18  Weather_conditions_Sandstorms     45584 non-null  int64  \n",
      " 19  Weather_conditions_Stormy         45584 non-null  int64  \n",
      " 20  Weather_conditions_Sunny          45584 non-null  int64  \n",
      " 21  Weather_conditions_Windy          45584 non-null  int64  \n",
      " 22  Time_Orderd_Hour                  45584 non-null  int64  \n",
      " 23  Time_Orderd_Minute                45584 non-null  int64  \n",
      " 24  Time_Order_picked_Hour            45584 non-null  float64\n",
      " 25  Time_Order_picked_Min             45584 non-null  int64  \n",
      " 26  Type_of_order_Buffet              45584 non-null  int64  \n",
      " 27  Type_of_order_Drinks              45584 non-null  int64  \n",
      " 28  Type_of_order_Meal                45584 non-null  int64  \n",
      " 29  Type_of_order_Snack               45584 non-null  int64  \n",
      " 30  Type_of_vehicle_bicycle           45584 non-null  int64  \n",
      " 31  Type_of_vehicle_electric_scooter  45584 non-null  int64  \n",
      " 32  Type_of_vehicle_motorcycle        45584 non-null  int64  \n",
      " 33  Type_of_vehicle_scooter           45584 non-null  int64  \n",
      " 34  distance                          45584 non-null  float64\n",
      "dtypes: float64(9), int64(26)\n",
      "memory usage: 12.2 MB\n"
     ]
    }
   ],
   "source": [
    "data.info()"
   ]
  },
  {
   "cell_type": "code",
   "execution_count": 4,
   "metadata": {},
   "outputs": [],
   "source": [
    "selected_columns = [\n",
    "    'Delivery_person_Age',\n",
    "    'Delivery_person_Ratings',\n",
    "    'Restaurant_latitude',\n",
    "    'Restaurant_longitude',\n",
    "    'Delivery_location_latitude',\n",
    "    'Delivery_location_longitude',\n",
    "    # 'Time_Orderd_Hour',\n",
    "    #             'Time_Orderd_Minute',\n",
    "    # 'Time_Order_picked_Hour',\n",
    "    #             'Time_Order_picked_Min',\n",
    "    'Weather_conditions_Cloudy',\n",
    "                'Weather_conditions_Fog',\n",
    "                'Weather_conditions_Sandstorms',\n",
    "                'Weather_conditions_Stormy',\n",
    "                'Weather_conditions_Sunny',\n",
    "                'Weather_conditions_Windy',\n",
    "    'multiple_deliveries',\n",
    "    'Festival',\n",
    "                'City',\n",
    "    'Road_traffic_density',\n",
    "    'Vehicle_condition',\n",
    "                'Type_of_vehicle_electric_scooter',\n",
    "    'Type_of_vehicle_motorcycle',\n",
    "    'Type_of_vehicle_scooter',\n",
    "    'distance',\n",
    "    'Time_taken (min)'\n",
    "]\n",
    "\n",
    "# Creating a new DataFrame with the selected columns\n",
    "new_data_frame = data[selected_columns]"
   ]
  },
  {
   "cell_type": "code",
   "execution_count": 5,
   "metadata": {},
   "outputs": [
    {
     "data": {
      "text/html": [
       "<div>\n",
       "<style scoped>\n",
       "    .dataframe tbody tr th:only-of-type {\n",
       "        vertical-align: middle;\n",
       "    }\n",
       "\n",
       "    .dataframe tbody tr th {\n",
       "        vertical-align: top;\n",
       "    }\n",
       "\n",
       "    .dataframe thead th {\n",
       "        text-align: right;\n",
       "    }\n",
       "</style>\n",
       "<table border=\"1\" class=\"dataframe\">\n",
       "  <thead>\n",
       "    <tr style=\"text-align: right;\">\n",
       "      <th></th>\n",
       "      <th>Delivery_person_Age</th>\n",
       "      <th>Delivery_person_Ratings</th>\n",
       "      <th>Restaurant_latitude</th>\n",
       "      <th>Restaurant_longitude</th>\n",
       "      <th>Delivery_location_latitude</th>\n",
       "      <th>Delivery_location_longitude</th>\n",
       "      <th>Weather_conditions_Cloudy</th>\n",
       "      <th>Weather_conditions_Fog</th>\n",
       "      <th>Weather_conditions_Sandstorms</th>\n",
       "      <th>Weather_conditions_Stormy</th>\n",
       "      <th>...</th>\n",
       "      <th>multiple_deliveries</th>\n",
       "      <th>Festival</th>\n",
       "      <th>City</th>\n",
       "      <th>Road_traffic_density</th>\n",
       "      <th>Vehicle_condition</th>\n",
       "      <th>Type_of_vehicle_electric_scooter</th>\n",
       "      <th>Type_of_vehicle_motorcycle</th>\n",
       "      <th>Type_of_vehicle_scooter</th>\n",
       "      <th>distance</th>\n",
       "      <th>Time_taken (min)</th>\n",
       "    </tr>\n",
       "  </thead>\n",
       "  <tbody>\n",
       "    <tr>\n",
       "      <th>0</th>\n",
       "      <td>36.0</td>\n",
       "      <td>4.2</td>\n",
       "      <td>30.327968</td>\n",
       "      <td>78.046106</td>\n",
       "      <td>30.397968</td>\n",
       "      <td>78.116106</td>\n",
       "      <td>0</td>\n",
       "      <td>1</td>\n",
       "      <td>0</td>\n",
       "      <td>0</td>\n",
       "      <td>...</td>\n",
       "      <td>3.0</td>\n",
       "      <td>0</td>\n",
       "      <td>0</td>\n",
       "      <td>1</td>\n",
       "      <td>2</td>\n",
       "      <td>0</td>\n",
       "      <td>1</td>\n",
       "      <td>0</td>\n",
       "      <td>10.280582</td>\n",
       "      <td>46</td>\n",
       "    </tr>\n",
       "    <tr>\n",
       "      <th>1</th>\n",
       "      <td>21.0</td>\n",
       "      <td>4.7</td>\n",
       "      <td>10.003064</td>\n",
       "      <td>76.307589</td>\n",
       "      <td>10.043064</td>\n",
       "      <td>76.347589</td>\n",
       "      <td>0</td>\n",
       "      <td>0</td>\n",
       "      <td>0</td>\n",
       "      <td>1</td>\n",
       "      <td>...</td>\n",
       "      <td>1.0</td>\n",
       "      <td>0</td>\n",
       "      <td>0</td>\n",
       "      <td>0</td>\n",
       "      <td>1</td>\n",
       "      <td>0</td>\n",
       "      <td>1</td>\n",
       "      <td>0</td>\n",
       "      <td>6.242319</td>\n",
       "      <td>23</td>\n",
       "    </tr>\n",
       "    <tr>\n",
       "      <th>2</th>\n",
       "      <td>23.0</td>\n",
       "      <td>4.7</td>\n",
       "      <td>18.562450</td>\n",
       "      <td>73.916619</td>\n",
       "      <td>18.652450</td>\n",
       "      <td>74.006619</td>\n",
       "      <td>0</td>\n",
       "      <td>0</td>\n",
       "      <td>1</td>\n",
       "      <td>0</td>\n",
       "      <td>...</td>\n",
       "      <td>1.0</td>\n",
       "      <td>0</td>\n",
       "      <td>0</td>\n",
       "      <td>3</td>\n",
       "      <td>1</td>\n",
       "      <td>0</td>\n",
       "      <td>0</td>\n",
       "      <td>1</td>\n",
       "      <td>13.787860</td>\n",
       "      <td>21</td>\n",
       "    </tr>\n",
       "    <tr>\n",
       "      <th>3</th>\n",
       "      <td>34.0</td>\n",
       "      <td>4.3</td>\n",
       "      <td>30.899584</td>\n",
       "      <td>75.809346</td>\n",
       "      <td>30.919584</td>\n",
       "      <td>75.829346</td>\n",
       "      <td>0</td>\n",
       "      <td>0</td>\n",
       "      <td>1</td>\n",
       "      <td>0</td>\n",
       "      <td>...</td>\n",
       "      <td>0.0</td>\n",
       "      <td>0</td>\n",
       "      <td>0</td>\n",
       "      <td>2</td>\n",
       "      <td>0</td>\n",
       "      <td>0</td>\n",
       "      <td>1</td>\n",
       "      <td>0</td>\n",
       "      <td>2.930258</td>\n",
       "      <td>20</td>\n",
       "    </tr>\n",
       "    <tr>\n",
       "      <th>4</th>\n",
       "      <td>24.0</td>\n",
       "      <td>4.7</td>\n",
       "      <td>26.463504</td>\n",
       "      <td>80.372929</td>\n",
       "      <td>26.593504</td>\n",
       "      <td>80.502929</td>\n",
       "      <td>0</td>\n",
       "      <td>1</td>\n",
       "      <td>0</td>\n",
       "      <td>0</td>\n",
       "      <td>...</td>\n",
       "      <td>1.0</td>\n",
       "      <td>0</td>\n",
       "      <td>0</td>\n",
       "      <td>1</td>\n",
       "      <td>1</td>\n",
       "      <td>0</td>\n",
       "      <td>0</td>\n",
       "      <td>1</td>\n",
       "      <td>19.396618</td>\n",
       "      <td>41</td>\n",
       "    </tr>\n",
       "    <tr>\n",
       "      <th>...</th>\n",
       "      <td>...</td>\n",
       "      <td>...</td>\n",
       "      <td>...</td>\n",
       "      <td>...</td>\n",
       "      <td>...</td>\n",
       "      <td>...</td>\n",
       "      <td>...</td>\n",
       "      <td>...</td>\n",
       "      <td>...</td>\n",
       "      <td>...</td>\n",
       "      <td>...</td>\n",
       "      <td>...</td>\n",
       "      <td>...</td>\n",
       "      <td>...</td>\n",
       "      <td>...</td>\n",
       "      <td>...</td>\n",
       "      <td>...</td>\n",
       "      <td>...</td>\n",
       "      <td>...</td>\n",
       "      <td>...</td>\n",
       "      <td>...</td>\n",
       "    </tr>\n",
       "    <tr>\n",
       "      <th>45579</th>\n",
       "      <td>30.0</td>\n",
       "      <td>4.8</td>\n",
       "      <td>26.902328</td>\n",
       "      <td>75.794257</td>\n",
       "      <td>26.912328</td>\n",
       "      <td>75.804257</td>\n",
       "      <td>0</td>\n",
       "      <td>0</td>\n",
       "      <td>0</td>\n",
       "      <td>0</td>\n",
       "      <td>...</td>\n",
       "      <td>0.0</td>\n",
       "      <td>0</td>\n",
       "      <td>0</td>\n",
       "      <td>0</td>\n",
       "      <td>1</td>\n",
       "      <td>0</td>\n",
       "      <td>1</td>\n",
       "      <td>0</td>\n",
       "      <td>1.489846</td>\n",
       "      <td>32</td>\n",
       "    </tr>\n",
       "    <tr>\n",
       "      <th>45580</th>\n",
       "      <td>21.0</td>\n",
       "      <td>4.6</td>\n",
       "      <td>0.000000</td>\n",
       "      <td>0.000000</td>\n",
       "      <td>0.070000</td>\n",
       "      <td>0.070000</td>\n",
       "      <td>0</td>\n",
       "      <td>0</td>\n",
       "      <td>0</td>\n",
       "      <td>0</td>\n",
       "      <td>...</td>\n",
       "      <td>1.0</td>\n",
       "      <td>0</td>\n",
       "      <td>0</td>\n",
       "      <td>1</td>\n",
       "      <td>0</td>\n",
       "      <td>0</td>\n",
       "      <td>1</td>\n",
       "      <td>0</td>\n",
       "      <td>11.007735</td>\n",
       "      <td>36</td>\n",
       "    </tr>\n",
       "    <tr>\n",
       "      <th>45581</th>\n",
       "      <td>30.0</td>\n",
       "      <td>4.9</td>\n",
       "      <td>13.022394</td>\n",
       "      <td>80.242439</td>\n",
       "      <td>13.052394</td>\n",
       "      <td>80.272439</td>\n",
       "      <td>1</td>\n",
       "      <td>0</td>\n",
       "      <td>0</td>\n",
       "      <td>0</td>\n",
       "      <td>...</td>\n",
       "      <td>0.0</td>\n",
       "      <td>0</td>\n",
       "      <td>0</td>\n",
       "      <td>2</td>\n",
       "      <td>1</td>\n",
       "      <td>0</td>\n",
       "      <td>0</td>\n",
       "      <td>1</td>\n",
       "      <td>4.657195</td>\n",
       "      <td>16</td>\n",
       "    </tr>\n",
       "    <tr>\n",
       "      <th>45582</th>\n",
       "      <td>20.0</td>\n",
       "      <td>4.7</td>\n",
       "      <td>11.001753</td>\n",
       "      <td>76.986241</td>\n",
       "      <td>11.041753</td>\n",
       "      <td>77.026241</td>\n",
       "      <td>1</td>\n",
       "      <td>0</td>\n",
       "      <td>0</td>\n",
       "      <td>0</td>\n",
       "      <td>...</td>\n",
       "      <td>1.0</td>\n",
       "      <td>0</td>\n",
       "      <td>0</td>\n",
       "      <td>0</td>\n",
       "      <td>0</td>\n",
       "      <td>0</td>\n",
       "      <td>1</td>\n",
       "      <td>0</td>\n",
       "      <td>6.232393</td>\n",
       "      <td>26</td>\n",
       "    </tr>\n",
       "    <tr>\n",
       "      <th>45583</th>\n",
       "      <td>23.0</td>\n",
       "      <td>4.9</td>\n",
       "      <td>23.351058</td>\n",
       "      <td>85.325731</td>\n",
       "      <td>23.431058</td>\n",
       "      <td>85.405731</td>\n",
       "      <td>0</td>\n",
       "      <td>1</td>\n",
       "      <td>0</td>\n",
       "      <td>0</td>\n",
       "      <td>...</td>\n",
       "      <td>1.0</td>\n",
       "      <td>0</td>\n",
       "      <td>0</td>\n",
       "      <td>3</td>\n",
       "      <td>2</td>\n",
       "      <td>0</td>\n",
       "      <td>0</td>\n",
       "      <td>1</td>\n",
       "      <td>12.074396</td>\n",
       "      <td>36</td>\n",
       "    </tr>\n",
       "  </tbody>\n",
       "</table>\n",
       "<p>45584 rows × 22 columns</p>\n",
       "</div>"
      ],
      "text/plain": [
       "       Delivery_person_Age  Delivery_person_Ratings  Restaurant_latitude  \\\n",
       "0                     36.0                      4.2            30.327968   \n",
       "1                     21.0                      4.7            10.003064   \n",
       "2                     23.0                      4.7            18.562450   \n",
       "3                     34.0                      4.3            30.899584   \n",
       "4                     24.0                      4.7            26.463504   \n",
       "...                    ...                      ...                  ...   \n",
       "45579                 30.0                      4.8            26.902328   \n",
       "45580                 21.0                      4.6             0.000000   \n",
       "45581                 30.0                      4.9            13.022394   \n",
       "45582                 20.0                      4.7            11.001753   \n",
       "45583                 23.0                      4.9            23.351058   \n",
       "\n",
       "       Restaurant_longitude  Delivery_location_latitude  \\\n",
       "0                 78.046106                   30.397968   \n",
       "1                 76.307589                   10.043064   \n",
       "2                 73.916619                   18.652450   \n",
       "3                 75.809346                   30.919584   \n",
       "4                 80.372929                   26.593504   \n",
       "...                     ...                         ...   \n",
       "45579             75.794257                   26.912328   \n",
       "45580              0.000000                    0.070000   \n",
       "45581             80.242439                   13.052394   \n",
       "45582             76.986241                   11.041753   \n",
       "45583             85.325731                   23.431058   \n",
       "\n",
       "       Delivery_location_longitude  Weather_conditions_Cloudy  \\\n",
       "0                        78.116106                          0   \n",
       "1                        76.347589                          0   \n",
       "2                        74.006619                          0   \n",
       "3                        75.829346                          0   \n",
       "4                        80.502929                          0   \n",
       "...                            ...                        ...   \n",
       "45579                    75.804257                          0   \n",
       "45580                     0.070000                          0   \n",
       "45581                    80.272439                          1   \n",
       "45582                    77.026241                          1   \n",
       "45583                    85.405731                          0   \n",
       "\n",
       "       Weather_conditions_Fog  Weather_conditions_Sandstorms  \\\n",
       "0                           1                              0   \n",
       "1                           0                              0   \n",
       "2                           0                              1   \n",
       "3                           0                              1   \n",
       "4                           1                              0   \n",
       "...                       ...                            ...   \n",
       "45579                       0                              0   \n",
       "45580                       0                              0   \n",
       "45581                       0                              0   \n",
       "45582                       0                              0   \n",
       "45583                       1                              0   \n",
       "\n",
       "       Weather_conditions_Stormy  ...  multiple_deliveries  Festival  City  \\\n",
       "0                              0  ...                  3.0         0     0   \n",
       "1                              1  ...                  1.0         0     0   \n",
       "2                              0  ...                  1.0         0     0   \n",
       "3                              0  ...                  0.0         0     0   \n",
       "4                              0  ...                  1.0         0     0   \n",
       "...                          ...  ...                  ...       ...   ...   \n",
       "45579                          0  ...                  0.0         0     0   \n",
       "45580                          0  ...                  1.0         0     0   \n",
       "45581                          0  ...                  0.0         0     0   \n",
       "45582                          0  ...                  1.0         0     0   \n",
       "45583                          0  ...                  1.0         0     0   \n",
       "\n",
       "       Road_traffic_density  Vehicle_condition  \\\n",
       "0                         1                  2   \n",
       "1                         0                  1   \n",
       "2                         3                  1   \n",
       "3                         2                  0   \n",
       "4                         1                  1   \n",
       "...                     ...                ...   \n",
       "45579                     0                  1   \n",
       "45580                     1                  0   \n",
       "45581                     2                  1   \n",
       "45582                     0                  0   \n",
       "45583                     3                  2   \n",
       "\n",
       "       Type_of_vehicle_electric_scooter  Type_of_vehicle_motorcycle  \\\n",
       "0                                     0                           1   \n",
       "1                                     0                           1   \n",
       "2                                     0                           0   \n",
       "3                                     0                           1   \n",
       "4                                     0                           0   \n",
       "...                                 ...                         ...   \n",
       "45579                                 0                           1   \n",
       "45580                                 0                           1   \n",
       "45581                                 0                           0   \n",
       "45582                                 0                           1   \n",
       "45583                                 0                           0   \n",
       "\n",
       "       Type_of_vehicle_scooter   distance  Time_taken (min)  \n",
       "0                            0  10.280582                46  \n",
       "1                            0   6.242319                23  \n",
       "2                            1  13.787860                21  \n",
       "3                            0   2.930258                20  \n",
       "4                            1  19.396618                41  \n",
       "...                        ...        ...               ...  \n",
       "45579                        0   1.489846                32  \n",
       "45580                        0  11.007735                36  \n",
       "45581                        1   4.657195                16  \n",
       "45582                        0   6.232393                26  \n",
       "45583                        1  12.074396                36  \n",
       "\n",
       "[45584 rows x 22 columns]"
      ]
     },
     "execution_count": 5,
     "metadata": {},
     "output_type": "execute_result"
    }
   ],
   "source": [
    "new_data_frame"
   ]
  },
  {
   "cell_type": "code",
   "execution_count": 6,
   "metadata": {},
   "outputs": [],
   "source": [
    "#Divide the dataset into train and test dataset\n",
    "from sklearn.model_selection import train_test_split"
   ]
  },
  {
   "cell_type": "code",
   "execution_count": 7,
   "metadata": {},
   "outputs": [],
   "source": [
    "#Divide the dataset into independent and dependent dataset\n",
    "X = new_data_frame.iloc[:,:-1] #Independent features\n",
    "y = new_data_frame.iloc[:,-1]  #Dependent or Target feature"
   ]
  },
  {
   "cell_type": "code",
   "execution_count": 8,
   "metadata": {},
   "outputs": [],
   "source": [
    "x_train, x_test, y_train, y_test = train_test_split(X, y, test_size=0.32, random_state=42)"
   ]
  },
  {
   "cell_type": "code",
   "execution_count": 9,
   "metadata": {},
   "outputs": [
    {
     "data": {
      "text/plain": [
       "27811    33\n",
       "43475    28\n",
       "11902    22\n",
       "36731    25\n",
       "18188    35\n",
       "         ..\n",
       "37010    11\n",
       "21275    42\n",
       "18503    27\n",
       "43604    33\n",
       "12168    16\n",
       "Name: Time_taken (min), Length: 14587, dtype: int64"
      ]
     },
     "execution_count": 9,
     "metadata": {},
     "output_type": "execute_result"
    }
   ],
   "source": [
    "y_test"
   ]
  },
  {
   "cell_type": "code",
   "execution_count": 10,
   "metadata": {},
   "outputs": [
    {
     "name": "stdout",
     "output_type": "stream",
     "text": [
      "Learning rate set to 0.070438\n",
      "0:\tlearn: 8.9614076\ttotal: 197ms\tremaining: 3m 16s\n",
      "1:\tlearn: 8.5960771\ttotal: 228ms\tremaining: 1m 53s\n",
      "2:\tlearn: 8.2704491\ttotal: 244ms\tremaining: 1m 21s\n",
      "3:\tlearn: 7.9910575\ttotal: 258ms\tremaining: 1m 4s\n",
      "4:\tlearn: 7.7114924\ttotal: 270ms\tremaining: 53.8s\n",
      "5:\tlearn: 7.4516310\ttotal: 281ms\tremaining: 46.6s\n",
      "6:\tlearn: 7.2196019\ttotal: 294ms\tremaining: 41.7s\n",
      "7:\tlearn: 7.0217924\ttotal: 306ms\tremaining: 37.9s\n",
      "8:\tlearn: 6.8242620\ttotal: 317ms\tremaining: 34.9s\n",
      "9:\tlearn: 6.6619596\ttotal: 327ms\tremaining: 32.4s\n",
      "10:\tlearn: 6.5183986\ttotal: 339ms\tremaining: 30.4s\n",
      "11:\tlearn: 6.3708191\ttotal: 349ms\tremaining: 28.8s\n",
      "12:\tlearn: 6.2415832\ttotal: 360ms\tremaining: 27.3s\n",
      "13:\tlearn: 6.1422733\ttotal: 372ms\tremaining: 26.2s\n",
      "14:\tlearn: 6.0398625\ttotal: 383ms\tremaining: 25.1s\n",
      "15:\tlearn: 5.9362664\ttotal: 392ms\tremaining: 24.1s\n",
      "16:\tlearn: 5.8190077\ttotal: 409ms\tremaining: 23.6s\n",
      "17:\tlearn: 5.7175374\ttotal: 424ms\tremaining: 23.1s\n",
      "18:\tlearn: 5.5890681\ttotal: 438ms\tremaining: 22.6s\n",
      "19:\tlearn: 5.4738654\ttotal: 452ms\tremaining: 22.1s\n",
      "20:\tlearn: 5.3990080\ttotal: 467ms\tremaining: 21.8s\n",
      "21:\tlearn: 5.3489622\ttotal: 480ms\tremaining: 21.3s\n",
      "22:\tlearn: 5.2735940\ttotal: 491ms\tremaining: 20.9s\n",
      "23:\tlearn: 5.2237950\ttotal: 505ms\tremaining: 20.5s\n",
      "24:\tlearn: 5.1537306\ttotal: 519ms\tremaining: 20.2s\n",
      "25:\tlearn: 5.1074732\ttotal: 530ms\tremaining: 19.9s\n",
      "26:\tlearn: 5.0738016\ttotal: 540ms\tremaining: 19.5s\n",
      "27:\tlearn: 4.9974993\ttotal: 555ms\tremaining: 19.3s\n",
      "28:\tlearn: 4.9493523\ttotal: 568ms\tremaining: 19s\n",
      "29:\tlearn: 4.8916237\ttotal: 582ms\tremaining: 18.8s\n",
      "30:\tlearn: 4.8674709\ttotal: 597ms\tremaining: 18.7s\n",
      "31:\tlearn: 4.8310643\ttotal: 607ms\tremaining: 18.4s\n",
      "32:\tlearn: 4.8042762\ttotal: 620ms\tremaining: 18.2s\n",
      "33:\tlearn: 4.7680626\ttotal: 633ms\tremaining: 18s\n",
      "34:\tlearn: 4.7471219\ttotal: 646ms\tremaining: 17.8s\n",
      "35:\tlearn: 4.7068147\ttotal: 658ms\tremaining: 17.6s\n",
      "36:\tlearn: 4.6878674\ttotal: 671ms\tremaining: 17.5s\n",
      "37:\tlearn: 4.6733225\ttotal: 683ms\tremaining: 17.3s\n",
      "38:\tlearn: 4.6399131\ttotal: 696ms\tremaining: 17.2s\n",
      "39:\tlearn: 4.6280161\ttotal: 709ms\tremaining: 17s\n",
      "40:\tlearn: 4.5768951\ttotal: 719ms\tremaining: 16.8s\n",
      "41:\tlearn: 4.5496542\ttotal: 731ms\tremaining: 16.7s\n",
      "42:\tlearn: 4.5112397\ttotal: 745ms\tremaining: 16.6s\n",
      "43:\tlearn: 4.4980142\ttotal: 756ms\tremaining: 16.4s\n",
      "44:\tlearn: 4.4709337\ttotal: 767ms\tremaining: 16.3s\n",
      "45:\tlearn: 4.4630746\ttotal: 779ms\tremaining: 16.2s\n",
      "46:\tlearn: 4.4393962\ttotal: 792ms\tremaining: 16.1s\n",
      "47:\tlearn: 4.4326667\ttotal: 800ms\tremaining: 15.9s\n",
      "48:\tlearn: 4.4063955\ttotal: 815ms\tremaining: 15.8s\n",
      "49:\tlearn: 4.3842418\ttotal: 829ms\tremaining: 15.7s\n",
      "50:\tlearn: 4.3737646\ttotal: 841ms\tremaining: 15.6s\n",
      "51:\tlearn: 4.3472559\ttotal: 852ms\tremaining: 15.5s\n",
      "52:\tlearn: 4.3305537\ttotal: 863ms\tremaining: 15.4s\n",
      "53:\tlearn: 4.3198818\ttotal: 873ms\tremaining: 15.3s\n",
      "54:\tlearn: 4.2995702\ttotal: 881ms\tremaining: 15.1s\n",
      "55:\tlearn: 4.2903757\ttotal: 891ms\tremaining: 15s\n",
      "56:\tlearn: 4.2837241\ttotal: 900ms\tremaining: 14.9s\n",
      "57:\tlearn: 4.2799400\ttotal: 908ms\tremaining: 14.7s\n",
      "58:\tlearn: 4.2750057\ttotal: 916ms\tremaining: 14.6s\n",
      "59:\tlearn: 4.2596062\ttotal: 924ms\tremaining: 14.5s\n",
      "60:\tlearn: 4.2530861\ttotal: 932ms\tremaining: 14.3s\n",
      "61:\tlearn: 4.2463089\ttotal: 939ms\tremaining: 14.2s\n",
      "62:\tlearn: 4.2383985\ttotal: 949ms\tremaining: 14.1s\n",
      "63:\tlearn: 4.2323731\ttotal: 957ms\tremaining: 14s\n",
      "64:\tlearn: 4.2293614\ttotal: 965ms\tremaining: 13.9s\n",
      "65:\tlearn: 4.2168667\ttotal: 973ms\tremaining: 13.8s\n",
      "66:\tlearn: 4.2100643\ttotal: 981ms\tremaining: 13.7s\n",
      "67:\tlearn: 4.2072594\ttotal: 989ms\tremaining: 13.5s\n",
      "68:\tlearn: 4.2010642\ttotal: 997ms\tremaining: 13.5s\n",
      "69:\tlearn: 4.1973087\ttotal: 1s\tremaining: 13.3s\n",
      "70:\tlearn: 4.1948321\ttotal: 1.01s\tremaining: 13.2s\n",
      "71:\tlearn: 4.1889618\ttotal: 1.02s\tremaining: 13.1s\n",
      "72:\tlearn: 4.1861638\ttotal: 1.03s\tremaining: 13s\n",
      "73:\tlearn: 4.1836739\ttotal: 1.04s\tremaining: 13s\n",
      "74:\tlearn: 4.1816160\ttotal: 1.04s\tremaining: 12.9s\n",
      "75:\tlearn: 4.1737851\ttotal: 1.05s\tremaining: 12.8s\n",
      "76:\tlearn: 4.1636660\ttotal: 1.06s\tremaining: 12.8s\n",
      "77:\tlearn: 4.1622114\ttotal: 1.07s\tremaining: 12.7s\n",
      "78:\tlearn: 4.1604626\ttotal: 1.08s\tremaining: 12.6s\n",
      "79:\tlearn: 4.1530622\ttotal: 1.09s\tremaining: 12.6s\n",
      "80:\tlearn: 4.1449036\ttotal: 1.1s\tremaining: 12.5s\n",
      "81:\tlearn: 4.1425785\ttotal: 1.11s\tremaining: 12.5s\n",
      "82:\tlearn: 4.1359015\ttotal: 1.12s\tremaining: 12.4s\n",
      "83:\tlearn: 4.1271007\ttotal: 1.13s\tremaining: 12.3s\n",
      "84:\tlearn: 4.1253366\ttotal: 1.14s\tremaining: 12.3s\n",
      "85:\tlearn: 4.1174114\ttotal: 1.15s\tremaining: 12.2s\n",
      "86:\tlearn: 4.1080441\ttotal: 1.16s\tremaining: 12.2s\n",
      "87:\tlearn: 4.0997580\ttotal: 1.17s\tremaining: 12.1s\n",
      "88:\tlearn: 4.0923909\ttotal: 1.18s\tremaining: 12.1s\n",
      "89:\tlearn: 4.0911990\ttotal: 1.19s\tremaining: 12s\n",
      "90:\tlearn: 4.0892839\ttotal: 1.2s\tremaining: 12s\n",
      "91:\tlearn: 4.0875406\ttotal: 1.22s\tremaining: 12s\n",
      "92:\tlearn: 4.0806673\ttotal: 1.23s\tremaining: 12s\n",
      "93:\tlearn: 4.0795108\ttotal: 1.25s\tremaining: 12s\n",
      "94:\tlearn: 4.0779995\ttotal: 1.26s\tremaining: 12s\n",
      "95:\tlearn: 4.0766376\ttotal: 1.27s\tremaining: 12s\n",
      "96:\tlearn: 4.0754941\ttotal: 1.29s\tremaining: 12s\n",
      "97:\tlearn: 4.0723581\ttotal: 1.3s\tremaining: 12s\n",
      "98:\tlearn: 4.0708611\ttotal: 1.31s\tremaining: 12s\n",
      "99:\tlearn: 4.0693437\ttotal: 1.33s\tremaining: 11.9s\n",
      "100:\tlearn: 4.0660721\ttotal: 1.34s\tremaining: 11.9s\n",
      "101:\tlearn: 4.0604096\ttotal: 1.35s\tremaining: 11.9s\n",
      "102:\tlearn: 4.0591183\ttotal: 1.36s\tremaining: 11.9s\n",
      "103:\tlearn: 4.0573653\ttotal: 1.37s\tremaining: 11.8s\n",
      "104:\tlearn: 4.0559180\ttotal: 1.38s\tremaining: 11.8s\n",
      "105:\tlearn: 4.0550590\ttotal: 1.39s\tremaining: 11.7s\n",
      "106:\tlearn: 4.0540297\ttotal: 1.4s\tremaining: 11.7s\n",
      "107:\tlearn: 4.0529658\ttotal: 1.41s\tremaining: 11.6s\n",
      "108:\tlearn: 4.0478082\ttotal: 1.42s\tremaining: 11.6s\n",
      "109:\tlearn: 4.0453205\ttotal: 1.43s\tremaining: 11.6s\n",
      "110:\tlearn: 4.0422416\ttotal: 1.44s\tremaining: 11.5s\n",
      "111:\tlearn: 4.0374292\ttotal: 1.45s\tremaining: 11.5s\n",
      "112:\tlearn: 4.0323901\ttotal: 1.46s\tremaining: 11.4s\n",
      "113:\tlearn: 4.0312681\ttotal: 1.47s\tremaining: 11.4s\n",
      "114:\tlearn: 4.0290445\ttotal: 1.48s\tremaining: 11.4s\n",
      "115:\tlearn: 4.0248454\ttotal: 1.49s\tremaining: 11.3s\n",
      "116:\tlearn: 4.0239173\ttotal: 1.5s\tremaining: 11.3s\n",
      "117:\tlearn: 4.0227455\ttotal: 1.5s\tremaining: 11.3s\n",
      "118:\tlearn: 4.0169590\ttotal: 1.51s\tremaining: 11.2s\n",
      "119:\tlearn: 4.0159116\ttotal: 1.52s\tremaining: 11.2s\n",
      "120:\tlearn: 4.0147404\ttotal: 1.53s\tremaining: 11.1s\n",
      "121:\tlearn: 4.0094928\ttotal: 1.54s\tremaining: 11.1s\n",
      "122:\tlearn: 4.0086172\ttotal: 1.55s\tremaining: 11.1s\n",
      "123:\tlearn: 4.0077881\ttotal: 1.56s\tremaining: 11s\n",
      "124:\tlearn: 4.0052232\ttotal: 1.57s\tremaining: 11s\n",
      "125:\tlearn: 4.0049139\ttotal: 1.57s\tremaining: 10.9s\n",
      "126:\tlearn: 4.0042004\ttotal: 1.58s\tremaining: 10.9s\n",
      "127:\tlearn: 4.0032343\ttotal: 1.59s\tremaining: 10.9s\n",
      "128:\tlearn: 4.0020256\ttotal: 1.61s\tremaining: 10.9s\n",
      "129:\tlearn: 3.9999200\ttotal: 1.62s\tremaining: 10.8s\n",
      "130:\tlearn: 3.9972460\ttotal: 1.63s\tremaining: 10.8s\n",
      "131:\tlearn: 3.9956093\ttotal: 1.64s\tremaining: 10.8s\n",
      "132:\tlearn: 3.9941467\ttotal: 1.65s\tremaining: 10.8s\n",
      "133:\tlearn: 3.9930989\ttotal: 1.67s\tremaining: 10.8s\n",
      "134:\tlearn: 3.9921794\ttotal: 1.68s\tremaining: 10.8s\n",
      "135:\tlearn: 3.9909758\ttotal: 1.7s\tremaining: 10.8s\n",
      "136:\tlearn: 3.9900168\ttotal: 1.71s\tremaining: 10.7s\n",
      "137:\tlearn: 3.9887710\ttotal: 1.72s\tremaining: 10.7s\n",
      "138:\tlearn: 3.9874201\ttotal: 1.73s\tremaining: 10.7s\n",
      "139:\tlearn: 3.9828165\ttotal: 1.74s\tremaining: 10.7s\n",
      "140:\tlearn: 3.9818686\ttotal: 1.74s\tremaining: 10.6s\n",
      "141:\tlearn: 3.9810509\ttotal: 1.75s\tremaining: 10.6s\n",
      "142:\tlearn: 3.9799582\ttotal: 1.76s\tremaining: 10.6s\n",
      "143:\tlearn: 3.9783167\ttotal: 1.77s\tremaining: 10.5s\n",
      "144:\tlearn: 3.9774440\ttotal: 1.78s\tremaining: 10.5s\n",
      "145:\tlearn: 3.9765176\ttotal: 1.78s\tremaining: 10.4s\n",
      "146:\tlearn: 3.9760119\ttotal: 1.79s\tremaining: 10.4s\n",
      "147:\tlearn: 3.9747475\ttotal: 1.8s\tremaining: 10.4s\n",
      "148:\tlearn: 3.9711354\ttotal: 1.81s\tremaining: 10.3s\n",
      "149:\tlearn: 3.9685894\ttotal: 1.82s\tremaining: 10.3s\n",
      "150:\tlearn: 3.9677643\ttotal: 1.83s\tremaining: 10.3s\n",
      "151:\tlearn: 3.9647530\ttotal: 1.84s\tremaining: 10.2s\n",
      "152:\tlearn: 3.9628063\ttotal: 1.84s\tremaining: 10.2s\n",
      "153:\tlearn: 3.9610014\ttotal: 1.86s\tremaining: 10.2s\n",
      "154:\tlearn: 3.9601731\ttotal: 1.87s\tremaining: 10.2s\n",
      "155:\tlearn: 3.9593627\ttotal: 1.9s\tremaining: 10.3s\n",
      "156:\tlearn: 3.9583193\ttotal: 1.92s\tremaining: 10.3s\n",
      "157:\tlearn: 3.9573229\ttotal: 1.93s\tremaining: 10.3s\n",
      "158:\tlearn: 3.9528220\ttotal: 1.95s\tremaining: 10.3s\n",
      "159:\tlearn: 3.9518718\ttotal: 1.96s\tremaining: 10.3s\n",
      "160:\tlearn: 3.9510397\ttotal: 1.97s\tremaining: 10.2s\n",
      "161:\tlearn: 3.9500404\ttotal: 1.98s\tremaining: 10.2s\n",
      "162:\tlearn: 3.9492604\ttotal: 1.99s\tremaining: 10.2s\n",
      "163:\tlearn: 3.9456257\ttotal: 2s\tremaining: 10.2s\n",
      "164:\tlearn: 3.9446272\ttotal: 2.01s\tremaining: 10.2s\n",
      "165:\tlearn: 3.9439572\ttotal: 2.02s\tremaining: 10.2s\n",
      "166:\tlearn: 3.9432788\ttotal: 2.03s\tremaining: 10.1s\n",
      "167:\tlearn: 3.9423234\ttotal: 2.04s\tremaining: 10.1s\n",
      "168:\tlearn: 3.9384556\ttotal: 2.05s\tremaining: 10.1s\n",
      "169:\tlearn: 3.9377085\ttotal: 2.06s\tremaining: 10s\n",
      "170:\tlearn: 3.9370358\ttotal: 2.06s\tremaining: 10s\n",
      "171:\tlearn: 3.9363224\ttotal: 2.07s\tremaining: 9.98s\n",
      "172:\tlearn: 3.9342327\ttotal: 2.08s\tremaining: 9.96s\n",
      "173:\tlearn: 3.9329205\ttotal: 2.09s\tremaining: 9.93s\n",
      "174:\tlearn: 3.9315112\ttotal: 2.1s\tremaining: 9.91s\n",
      "175:\tlearn: 3.9297080\ttotal: 2.11s\tremaining: 9.88s\n",
      "176:\tlearn: 3.9289586\ttotal: 2.12s\tremaining: 9.86s\n",
      "177:\tlearn: 3.9276576\ttotal: 2.13s\tremaining: 9.83s\n",
      "178:\tlearn: 3.9267131\ttotal: 2.14s\tremaining: 9.81s\n",
      "179:\tlearn: 3.9256981\ttotal: 2.15s\tremaining: 9.78s\n",
      "180:\tlearn: 3.9248348\ttotal: 2.15s\tremaining: 9.75s\n",
      "181:\tlearn: 3.9242151\ttotal: 2.16s\tremaining: 9.72s\n",
      "182:\tlearn: 3.9235165\ttotal: 2.17s\tremaining: 9.69s\n",
      "183:\tlearn: 3.9222933\ttotal: 2.18s\tremaining: 9.66s\n",
      "184:\tlearn: 3.9217300\ttotal: 2.19s\tremaining: 9.63s\n",
      "185:\tlearn: 3.9209246\ttotal: 2.19s\tremaining: 9.6s\n",
      "186:\tlearn: 3.9203086\ttotal: 2.2s\tremaining: 9.57s\n",
      "187:\tlearn: 3.9185695\ttotal: 2.21s\tremaining: 9.55s\n",
      "188:\tlearn: 3.9168048\ttotal: 2.22s\tremaining: 9.52s\n",
      "189:\tlearn: 3.9159666\ttotal: 2.22s\tremaining: 9.48s\n",
      "190:\tlearn: 3.9152144\ttotal: 2.23s\tremaining: 9.45s\n",
      "191:\tlearn: 3.9137941\ttotal: 2.24s\tremaining: 9.42s\n",
      "192:\tlearn: 3.9131757\ttotal: 2.25s\tremaining: 9.4s\n",
      "193:\tlearn: 3.9126004\ttotal: 2.25s\tremaining: 9.36s\n",
      "194:\tlearn: 3.9114160\ttotal: 2.26s\tremaining: 9.34s\n",
      "195:\tlearn: 3.9106890\ttotal: 2.27s\tremaining: 9.31s\n",
      "196:\tlearn: 3.9101167\ttotal: 2.28s\tremaining: 9.28s\n",
      "197:\tlearn: 3.9090826\ttotal: 2.28s\tremaining: 9.25s\n",
      "198:\tlearn: 3.9082344\ttotal: 2.29s\tremaining: 9.23s\n",
      "199:\tlearn: 3.9048559\ttotal: 2.3s\tremaining: 9.21s\n",
      "200:\tlearn: 3.9034963\ttotal: 2.31s\tremaining: 9.2s\n",
      "201:\tlearn: 3.9014610\ttotal: 2.32s\tremaining: 9.18s\n",
      "202:\tlearn: 3.9005862\ttotal: 2.33s\tremaining: 9.15s\n",
      "203:\tlearn: 3.8996949\ttotal: 2.34s\tremaining: 9.13s\n",
      "204:\tlearn: 3.8982885\ttotal: 2.35s\tremaining: 9.11s\n",
      "205:\tlearn: 3.8973735\ttotal: 2.36s\tremaining: 9.09s\n",
      "206:\tlearn: 3.8964643\ttotal: 2.36s\tremaining: 9.06s\n",
      "207:\tlearn: 3.8936324\ttotal: 2.37s\tremaining: 9.04s\n",
      "208:\tlearn: 3.8907772\ttotal: 2.38s\tremaining: 9.01s\n",
      "209:\tlearn: 3.8897281\ttotal: 2.39s\tremaining: 8.99s\n",
      "210:\tlearn: 3.8891108\ttotal: 2.4s\tremaining: 8.97s\n",
      "211:\tlearn: 3.8882070\ttotal: 2.41s\tremaining: 8.95s\n",
      "212:\tlearn: 3.8869912\ttotal: 2.41s\tremaining: 8.92s\n",
      "213:\tlearn: 3.8862098\ttotal: 2.42s\tremaining: 8.9s\n",
      "214:\tlearn: 3.8851119\ttotal: 2.43s\tremaining: 8.87s\n",
      "215:\tlearn: 3.8845785\ttotal: 2.44s\tremaining: 8.85s\n",
      "216:\tlearn: 3.8839509\ttotal: 2.44s\tremaining: 8.82s\n",
      "217:\tlearn: 3.8829748\ttotal: 2.45s\tremaining: 8.8s\n",
      "218:\tlearn: 3.8823368\ttotal: 2.46s\tremaining: 8.78s\n",
      "219:\tlearn: 3.8814159\ttotal: 2.47s\tremaining: 8.76s\n",
      "220:\tlearn: 3.8805667\ttotal: 2.48s\tremaining: 8.73s\n",
      "221:\tlearn: 3.8797236\ttotal: 2.48s\tremaining: 8.71s\n",
      "222:\tlearn: 3.8781854\ttotal: 2.49s\tremaining: 8.69s\n",
      "223:\tlearn: 3.8776395\ttotal: 2.5s\tremaining: 8.67s\n",
      "224:\tlearn: 3.8762934\ttotal: 2.51s\tremaining: 8.65s\n",
      "225:\tlearn: 3.8757157\ttotal: 2.52s\tremaining: 8.63s\n",
      "226:\tlearn: 3.8749278\ttotal: 2.53s\tremaining: 8.61s\n",
      "227:\tlearn: 3.8740161\ttotal: 2.54s\tremaining: 8.59s\n",
      "228:\tlearn: 3.8730040\ttotal: 2.54s\tremaining: 8.56s\n",
      "229:\tlearn: 3.8724277\ttotal: 2.55s\tremaining: 8.55s\n",
      "230:\tlearn: 3.8717503\ttotal: 2.56s\tremaining: 8.52s\n",
      "231:\tlearn: 3.8705678\ttotal: 2.57s\tremaining: 8.5s\n",
      "232:\tlearn: 3.8696898\ttotal: 2.58s\tremaining: 8.48s\n",
      "233:\tlearn: 3.8690061\ttotal: 2.58s\tremaining: 8.46s\n",
      "234:\tlearn: 3.8685167\ttotal: 2.59s\tremaining: 8.44s\n",
      "235:\tlearn: 3.8678563\ttotal: 2.6s\tremaining: 8.42s\n",
      "236:\tlearn: 3.8672024\ttotal: 2.61s\tremaining: 8.39s\n",
      "237:\tlearn: 3.8668007\ttotal: 2.62s\tremaining: 8.37s\n",
      "238:\tlearn: 3.8661931\ttotal: 2.62s\tremaining: 8.35s\n",
      "239:\tlearn: 3.8655551\ttotal: 2.63s\tremaining: 8.33s\n",
      "240:\tlearn: 3.8650103\ttotal: 2.64s\tremaining: 8.3s\n",
      "241:\tlearn: 3.8643513\ttotal: 2.64s\tremaining: 8.28s\n",
      "242:\tlearn: 3.8637326\ttotal: 2.65s\tremaining: 8.27s\n",
      "243:\tlearn: 3.8630450\ttotal: 2.66s\tremaining: 8.25s\n",
      "244:\tlearn: 3.8620471\ttotal: 2.67s\tremaining: 8.24s\n",
      "245:\tlearn: 3.8614753\ttotal: 2.68s\tremaining: 8.22s\n",
      "246:\tlearn: 3.8609506\ttotal: 2.69s\tremaining: 8.2s\n",
      "247:\tlearn: 3.8603474\ttotal: 2.7s\tremaining: 8.19s\n",
      "248:\tlearn: 3.8596085\ttotal: 2.71s\tremaining: 8.17s\n",
      "249:\tlearn: 3.8591909\ttotal: 2.72s\tremaining: 8.15s\n",
      "250:\tlearn: 3.8587509\ttotal: 2.73s\tremaining: 8.14s\n",
      "251:\tlearn: 3.8582479\ttotal: 2.74s\tremaining: 8.13s\n",
      "252:\tlearn: 3.8574969\ttotal: 2.75s\tremaining: 8.12s\n",
      "253:\tlearn: 3.8570475\ttotal: 2.76s\tremaining: 8.1s\n",
      "254:\tlearn: 3.8564092\ttotal: 2.77s\tremaining: 8.09s\n",
      "255:\tlearn: 3.8557253\ttotal: 2.78s\tremaining: 8.08s\n",
      "256:\tlearn: 3.8554114\ttotal: 2.79s\tremaining: 8.06s\n",
      "257:\tlearn: 3.8546930\ttotal: 2.8s\tremaining: 8.05s\n",
      "258:\tlearn: 3.8543557\ttotal: 2.81s\tremaining: 8.04s\n",
      "259:\tlearn: 3.8534203\ttotal: 2.82s\tremaining: 8.03s\n",
      "260:\tlearn: 3.8524891\ttotal: 2.83s\tremaining: 8.01s\n",
      "261:\tlearn: 3.8513351\ttotal: 2.84s\tremaining: 8s\n",
      "262:\tlearn: 3.8489094\ttotal: 2.85s\tremaining: 7.98s\n",
      "263:\tlearn: 3.8483211\ttotal: 2.86s\tremaining: 7.96s\n",
      "264:\tlearn: 3.8474270\ttotal: 2.87s\tremaining: 7.95s\n",
      "265:\tlearn: 3.8468167\ttotal: 2.87s\tremaining: 7.93s\n",
      "266:\tlearn: 3.8461620\ttotal: 2.88s\tremaining: 7.91s\n",
      "267:\tlearn: 3.8454920\ttotal: 2.89s\tremaining: 7.9s\n",
      "268:\tlearn: 3.8443969\ttotal: 2.9s\tremaining: 7.88s\n",
      "269:\tlearn: 3.8439248\ttotal: 2.91s\tremaining: 7.86s\n",
      "270:\tlearn: 3.8434133\ttotal: 2.91s\tremaining: 7.84s\n",
      "271:\tlearn: 3.8428291\ttotal: 2.92s\tremaining: 7.82s\n",
      "272:\tlearn: 3.8418628\ttotal: 2.93s\tremaining: 7.8s\n",
      "273:\tlearn: 3.8412566\ttotal: 2.94s\tremaining: 7.79s\n",
      "274:\tlearn: 3.8407122\ttotal: 2.95s\tremaining: 7.77s\n",
      "275:\tlearn: 3.8401445\ttotal: 2.96s\tremaining: 7.76s\n",
      "276:\tlearn: 3.8395505\ttotal: 2.96s\tremaining: 7.74s\n",
      "277:\tlearn: 3.8391345\ttotal: 2.97s\tremaining: 7.72s\n",
      "278:\tlearn: 3.8387443\ttotal: 2.98s\tremaining: 7.71s\n",
      "279:\tlearn: 3.8381816\ttotal: 2.99s\tremaining: 7.69s\n",
      "280:\tlearn: 3.8376924\ttotal: 3s\tremaining: 7.67s\n",
      "281:\tlearn: 3.8372362\ttotal: 3.01s\tremaining: 7.65s\n",
      "282:\tlearn: 3.8368722\ttotal: 3.01s\tremaining: 7.63s\n",
      "283:\tlearn: 3.8364639\ttotal: 3.02s\tremaining: 7.62s\n",
      "284:\tlearn: 3.8355232\ttotal: 3.03s\tremaining: 7.6s\n",
      "285:\tlearn: 3.8342775\ttotal: 3.04s\tremaining: 7.58s\n",
      "286:\tlearn: 3.8336080\ttotal: 3.04s\tremaining: 7.57s\n",
      "287:\tlearn: 3.8325122\ttotal: 3.05s\tremaining: 7.55s\n",
      "288:\tlearn: 3.8319552\ttotal: 3.06s\tremaining: 7.53s\n",
      "289:\tlearn: 3.8315501\ttotal: 3.07s\tremaining: 7.51s\n",
      "290:\tlearn: 3.8308836\ttotal: 3.08s\tremaining: 7.5s\n",
      "291:\tlearn: 3.8302334\ttotal: 3.08s\tremaining: 7.48s\n",
      "292:\tlearn: 3.8296676\ttotal: 3.09s\tremaining: 7.46s\n",
      "293:\tlearn: 3.8291422\ttotal: 3.1s\tremaining: 7.44s\n",
      "294:\tlearn: 3.8285313\ttotal: 3.11s\tremaining: 7.42s\n",
      "295:\tlearn: 3.8280130\ttotal: 3.11s\tremaining: 7.41s\n",
      "296:\tlearn: 3.8273552\ttotal: 3.12s\tremaining: 7.39s\n",
      "297:\tlearn: 3.8269027\ttotal: 3.13s\tremaining: 7.37s\n",
      "298:\tlearn: 3.8262978\ttotal: 3.14s\tremaining: 7.36s\n",
      "299:\tlearn: 3.8256575\ttotal: 3.15s\tremaining: 7.34s\n",
      "300:\tlearn: 3.8251781\ttotal: 3.15s\tremaining: 7.33s\n",
      "301:\tlearn: 3.8247130\ttotal: 3.17s\tremaining: 7.32s\n",
      "302:\tlearn: 3.8241588\ttotal: 3.18s\tremaining: 7.31s\n",
      "303:\tlearn: 3.8236792\ttotal: 3.19s\tremaining: 7.29s\n",
      "304:\tlearn: 3.8230355\ttotal: 3.19s\tremaining: 7.28s\n",
      "305:\tlearn: 3.8227119\ttotal: 3.2s\tremaining: 7.26s\n",
      "306:\tlearn: 3.8221298\ttotal: 3.21s\tremaining: 7.24s\n",
      "307:\tlearn: 3.8216219\ttotal: 3.22s\tremaining: 7.23s\n",
      "308:\tlearn: 3.8205520\ttotal: 3.23s\tremaining: 7.21s\n",
      "309:\tlearn: 3.8201074\ttotal: 3.23s\tremaining: 7.2s\n",
      "310:\tlearn: 3.8194973\ttotal: 3.24s\tremaining: 7.18s\n",
      "311:\tlearn: 3.8189452\ttotal: 3.25s\tremaining: 7.16s\n",
      "312:\tlearn: 3.8186085\ttotal: 3.26s\tremaining: 7.15s\n",
      "313:\tlearn: 3.8180663\ttotal: 3.26s\tremaining: 7.13s\n",
      "314:\tlearn: 3.8175766\ttotal: 3.27s\tremaining: 7.11s\n",
      "315:\tlearn: 3.8170412\ttotal: 3.28s\tremaining: 7.1s\n",
      "316:\tlearn: 3.8165160\ttotal: 3.29s\tremaining: 7.08s\n",
      "317:\tlearn: 3.8157851\ttotal: 3.3s\tremaining: 7.07s\n",
      "318:\tlearn: 3.8153461\ttotal: 3.3s\tremaining: 7.05s\n",
      "319:\tlearn: 3.8148537\ttotal: 3.31s\tremaining: 7.04s\n",
      "320:\tlearn: 3.8141574\ttotal: 3.32s\tremaining: 7.02s\n",
      "321:\tlearn: 3.8136696\ttotal: 3.33s\tremaining: 7s\n",
      "322:\tlearn: 3.8130672\ttotal: 3.34s\tremaining: 6.99s\n",
      "323:\tlearn: 3.8122692\ttotal: 3.34s\tremaining: 6.98s\n",
      "324:\tlearn: 3.8118388\ttotal: 3.35s\tremaining: 6.96s\n",
      "325:\tlearn: 3.8115249\ttotal: 3.36s\tremaining: 6.95s\n",
      "326:\tlearn: 3.8107963\ttotal: 3.37s\tremaining: 6.94s\n",
      "327:\tlearn: 3.8102574\ttotal: 3.38s\tremaining: 6.92s\n",
      "328:\tlearn: 3.8088602\ttotal: 3.39s\tremaining: 6.91s\n",
      "329:\tlearn: 3.8085519\ttotal: 3.4s\tremaining: 6.89s\n",
      "330:\tlearn: 3.8081514\ttotal: 3.4s\tremaining: 6.88s\n",
      "331:\tlearn: 3.8076650\ttotal: 3.41s\tremaining: 6.86s\n",
      "332:\tlearn: 3.8071980\ttotal: 3.42s\tremaining: 6.85s\n",
      "333:\tlearn: 3.8067366\ttotal: 3.43s\tremaining: 6.83s\n",
      "334:\tlearn: 3.8063367\ttotal: 3.43s\tremaining: 6.82s\n",
      "335:\tlearn: 3.8057932\ttotal: 3.44s\tremaining: 6.8s\n",
      "336:\tlearn: 3.8054035\ttotal: 3.45s\tremaining: 6.79s\n",
      "337:\tlearn: 3.8049046\ttotal: 3.46s\tremaining: 6.77s\n",
      "338:\tlearn: 3.8031390\ttotal: 3.47s\tremaining: 6.76s\n",
      "339:\tlearn: 3.8027624\ttotal: 3.47s\tremaining: 6.74s\n",
      "340:\tlearn: 3.8019698\ttotal: 3.48s\tremaining: 6.73s\n",
      "341:\tlearn: 3.8016823\ttotal: 3.49s\tremaining: 6.71s\n",
      "342:\tlearn: 3.8013165\ttotal: 3.5s\tremaining: 6.7s\n",
      "343:\tlearn: 3.8002933\ttotal: 3.5s\tremaining: 6.68s\n",
      "344:\tlearn: 3.7997601\ttotal: 3.51s\tremaining: 6.67s\n",
      "345:\tlearn: 3.7991888\ttotal: 3.52s\tremaining: 6.65s\n",
      "346:\tlearn: 3.7985317\ttotal: 3.53s\tremaining: 6.64s\n",
      "347:\tlearn: 3.7980335\ttotal: 3.53s\tremaining: 6.62s\n",
      "348:\tlearn: 3.7976395\ttotal: 3.54s\tremaining: 6.61s\n",
      "349:\tlearn: 3.7972059\ttotal: 3.55s\tremaining: 6.6s\n",
      "350:\tlearn: 3.7967261\ttotal: 3.56s\tremaining: 6.58s\n",
      "351:\tlearn: 3.7963212\ttotal: 3.57s\tremaining: 6.57s\n",
      "352:\tlearn: 3.7960096\ttotal: 3.58s\tremaining: 6.56s\n",
      "353:\tlearn: 3.7954361\ttotal: 3.59s\tremaining: 6.55s\n",
      "354:\tlearn: 3.7948664\ttotal: 3.6s\tremaining: 6.53s\n",
      "355:\tlearn: 3.7945552\ttotal: 3.6s\tremaining: 6.52s\n",
      "356:\tlearn: 3.7939710\ttotal: 3.61s\tremaining: 6.5s\n",
      "357:\tlearn: 3.7936925\ttotal: 3.62s\tremaining: 6.49s\n",
      "358:\tlearn: 3.7930748\ttotal: 3.63s\tremaining: 6.47s\n",
      "359:\tlearn: 3.7927219\ttotal: 3.63s\tremaining: 6.46s\n",
      "360:\tlearn: 3.7921425\ttotal: 3.64s\tremaining: 6.45s\n",
      "361:\tlearn: 3.7917321\ttotal: 3.65s\tremaining: 6.43s\n",
      "362:\tlearn: 3.7914314\ttotal: 3.66s\tremaining: 6.42s\n",
      "363:\tlearn: 3.7907480\ttotal: 3.67s\tremaining: 6.41s\n",
      "364:\tlearn: 3.7900794\ttotal: 3.67s\tremaining: 6.39s\n",
      "365:\tlearn: 3.7896618\ttotal: 3.68s\tremaining: 6.38s\n",
      "366:\tlearn: 3.7891924\ttotal: 3.75s\tremaining: 6.47s\n",
      "367:\tlearn: 3.7885985\ttotal: 3.77s\tremaining: 6.47s\n",
      "368:\tlearn: 3.7879546\ttotal: 3.79s\tremaining: 6.49s\n",
      "369:\tlearn: 3.7871811\ttotal: 3.81s\tremaining: 6.48s\n",
      "370:\tlearn: 3.7867850\ttotal: 3.81s\tremaining: 6.47s\n",
      "371:\tlearn: 3.7862345\ttotal: 3.82s\tremaining: 6.46s\n",
      "372:\tlearn: 3.7858790\ttotal: 3.83s\tremaining: 6.44s\n",
      "373:\tlearn: 3.7854464\ttotal: 3.84s\tremaining: 6.43s\n",
      "374:\tlearn: 3.7847082\ttotal: 3.85s\tremaining: 6.41s\n",
      "375:\tlearn: 3.7841310\ttotal: 3.86s\tremaining: 6.4s\n",
      "376:\tlearn: 3.7838717\ttotal: 3.86s\tremaining: 6.38s\n",
      "377:\tlearn: 3.7834772\ttotal: 3.87s\tremaining: 6.37s\n",
      "378:\tlearn: 3.7830198\ttotal: 3.88s\tremaining: 6.36s\n",
      "379:\tlearn: 3.7824290\ttotal: 3.89s\tremaining: 6.34s\n",
      "380:\tlearn: 3.7819883\ttotal: 3.9s\tremaining: 6.33s\n",
      "381:\tlearn: 3.7812468\ttotal: 3.9s\tremaining: 6.32s\n",
      "382:\tlearn: 3.7808137\ttotal: 3.92s\tremaining: 6.31s\n",
      "383:\tlearn: 3.7804264\ttotal: 3.92s\tremaining: 6.29s\n",
      "384:\tlearn: 3.7797584\ttotal: 3.93s\tremaining: 6.28s\n",
      "385:\tlearn: 3.7794315\ttotal: 3.94s\tremaining: 6.27s\n",
      "386:\tlearn: 3.7789437\ttotal: 3.95s\tremaining: 6.26s\n",
      "387:\tlearn: 3.7785091\ttotal: 3.96s\tremaining: 6.25s\n",
      "388:\tlearn: 3.7781477\ttotal: 3.97s\tremaining: 6.23s\n",
      "389:\tlearn: 3.7776412\ttotal: 3.98s\tremaining: 6.22s\n",
      "390:\tlearn: 3.7772440\ttotal: 3.99s\tremaining: 6.21s\n",
      "391:\tlearn: 3.7764778\ttotal: 4s\tremaining: 6.2s\n",
      "392:\tlearn: 3.7761048\ttotal: 4s\tremaining: 6.19s\n",
      "393:\tlearn: 3.7757148\ttotal: 4.01s\tremaining: 6.17s\n",
      "394:\tlearn: 3.7752310\ttotal: 4.02s\tremaining: 6.16s\n",
      "395:\tlearn: 3.7746370\ttotal: 4.03s\tremaining: 6.14s\n",
      "396:\tlearn: 3.7742127\ttotal: 4.04s\tremaining: 6.13s\n",
      "397:\tlearn: 3.7738660\ttotal: 4.04s\tremaining: 6.12s\n",
      "398:\tlearn: 3.7731921\ttotal: 4.05s\tremaining: 6.1s\n",
      "399:\tlearn: 3.7727444\ttotal: 4.06s\tremaining: 6.09s\n",
      "400:\tlearn: 3.7723820\ttotal: 4.07s\tremaining: 6.08s\n",
      "401:\tlearn: 3.7720858\ttotal: 4.07s\tremaining: 6.06s\n",
      "402:\tlearn: 3.7714048\ttotal: 4.08s\tremaining: 6.05s\n",
      "403:\tlearn: 3.7707561\ttotal: 4.09s\tremaining: 6.03s\n",
      "404:\tlearn: 3.7703625\ttotal: 4.1s\tremaining: 6.02s\n",
      "405:\tlearn: 3.7698915\ttotal: 4.11s\tremaining: 6.01s\n",
      "406:\tlearn: 3.7694055\ttotal: 4.11s\tremaining: 5.99s\n",
      "407:\tlearn: 3.7690324\ttotal: 4.12s\tremaining: 5.98s\n",
      "408:\tlearn: 3.7685341\ttotal: 4.13s\tremaining: 5.96s\n",
      "409:\tlearn: 3.7678899\ttotal: 4.13s\tremaining: 5.95s\n",
      "410:\tlearn: 3.7674255\ttotal: 4.14s\tremaining: 5.94s\n",
      "411:\tlearn: 3.7663751\ttotal: 4.15s\tremaining: 5.92s\n",
      "412:\tlearn: 3.7658854\ttotal: 4.16s\tremaining: 5.91s\n",
      "413:\tlearn: 3.7649050\ttotal: 4.16s\tremaining: 5.89s\n",
      "414:\tlearn: 3.7644447\ttotal: 4.17s\tremaining: 5.88s\n",
      "415:\tlearn: 3.7640566\ttotal: 4.18s\tremaining: 5.87s\n",
      "416:\tlearn: 3.7635336\ttotal: 4.19s\tremaining: 5.86s\n",
      "417:\tlearn: 3.7627263\ttotal: 4.2s\tremaining: 5.84s\n",
      "418:\tlearn: 3.7623978\ttotal: 4.2s\tremaining: 5.83s\n",
      "419:\tlearn: 3.7621519\ttotal: 4.21s\tremaining: 5.82s\n",
      "420:\tlearn: 3.7617448\ttotal: 4.22s\tremaining: 5.8s\n",
      "421:\tlearn: 3.7612191\ttotal: 4.23s\tremaining: 5.79s\n",
      "422:\tlearn: 3.7607938\ttotal: 4.24s\tremaining: 5.78s\n",
      "423:\tlearn: 3.7604485\ttotal: 4.24s\tremaining: 5.76s\n",
      "424:\tlearn: 3.7600500\ttotal: 4.25s\tremaining: 5.76s\n",
      "425:\tlearn: 3.7596292\ttotal: 4.26s\tremaining: 5.75s\n",
      "426:\tlearn: 3.7589694\ttotal: 4.27s\tremaining: 5.74s\n",
      "427:\tlearn: 3.7586965\ttotal: 4.28s\tremaining: 5.72s\n",
      "428:\tlearn: 3.7581764\ttotal: 4.29s\tremaining: 5.71s\n",
      "429:\tlearn: 3.7576886\ttotal: 4.3s\tremaining: 5.7s\n",
      "430:\tlearn: 3.7570883\ttotal: 4.31s\tremaining: 5.7s\n",
      "431:\tlearn: 3.7566589\ttotal: 4.33s\tremaining: 5.69s\n",
      "432:\tlearn: 3.7563802\ttotal: 4.34s\tremaining: 5.68s\n",
      "433:\tlearn: 3.7556046\ttotal: 4.35s\tremaining: 5.67s\n",
      "434:\tlearn: 3.7552471\ttotal: 4.37s\tremaining: 5.67s\n",
      "435:\tlearn: 3.7547814\ttotal: 4.39s\tremaining: 5.67s\n",
      "436:\tlearn: 3.7542241\ttotal: 4.4s\tremaining: 5.67s\n",
      "437:\tlearn: 3.7537838\ttotal: 4.42s\tremaining: 5.67s\n",
      "438:\tlearn: 3.7532789\ttotal: 4.43s\tremaining: 5.67s\n",
      "439:\tlearn: 3.7528115\ttotal: 4.45s\tremaining: 5.66s\n",
      "440:\tlearn: 3.7523694\ttotal: 4.46s\tremaining: 5.66s\n",
      "441:\tlearn: 3.7517344\ttotal: 4.48s\tremaining: 5.65s\n",
      "442:\tlearn: 3.7512956\ttotal: 4.5s\tremaining: 5.65s\n",
      "443:\tlearn: 3.7508102\ttotal: 4.51s\tremaining: 5.65s\n",
      "444:\tlearn: 3.7504857\ttotal: 4.53s\tremaining: 5.65s\n",
      "445:\tlearn: 3.7501995\ttotal: 4.55s\tremaining: 5.65s\n",
      "446:\tlearn: 3.7498603\ttotal: 4.56s\tremaining: 5.64s\n",
      "447:\tlearn: 3.7494995\ttotal: 4.58s\tremaining: 5.64s\n",
      "448:\tlearn: 3.7490953\ttotal: 4.59s\tremaining: 5.63s\n",
      "449:\tlearn: 3.7485788\ttotal: 4.6s\tremaining: 5.63s\n",
      "450:\tlearn: 3.7483217\ttotal: 4.62s\tremaining: 5.63s\n",
      "451:\tlearn: 3.7479919\ttotal: 4.64s\tremaining: 5.63s\n",
      "452:\tlearn: 3.7476023\ttotal: 4.66s\tremaining: 5.62s\n",
      "453:\tlearn: 3.7469078\ttotal: 4.67s\tremaining: 5.62s\n",
      "454:\tlearn: 3.7462744\ttotal: 4.69s\tremaining: 5.62s\n",
      "455:\tlearn: 3.7458040\ttotal: 4.7s\tremaining: 5.61s\n",
      "456:\tlearn: 3.7439728\ttotal: 4.71s\tremaining: 5.6s\n",
      "457:\tlearn: 3.7435497\ttotal: 4.72s\tremaining: 5.59s\n",
      "458:\tlearn: 3.7429696\ttotal: 4.74s\tremaining: 5.58s\n",
      "459:\tlearn: 3.7425786\ttotal: 4.75s\tremaining: 5.57s\n",
      "460:\tlearn: 3.7422208\ttotal: 4.76s\tremaining: 5.56s\n",
      "461:\tlearn: 3.7417674\ttotal: 4.77s\tremaining: 5.55s\n",
      "462:\tlearn: 3.7413179\ttotal: 4.78s\tremaining: 5.54s\n",
      "463:\tlearn: 3.7409991\ttotal: 4.79s\tremaining: 5.53s\n",
      "464:\tlearn: 3.7406793\ttotal: 4.79s\tremaining: 5.52s\n",
      "465:\tlearn: 3.7400444\ttotal: 4.8s\tremaining: 5.5s\n",
      "466:\tlearn: 3.7394734\ttotal: 4.81s\tremaining: 5.49s\n",
      "467:\tlearn: 3.7390530\ttotal: 4.82s\tremaining: 5.48s\n",
      "468:\tlearn: 3.7387665\ttotal: 4.82s\tremaining: 5.46s\n",
      "469:\tlearn: 3.7381595\ttotal: 4.83s\tremaining: 5.45s\n",
      "470:\tlearn: 3.7376921\ttotal: 4.84s\tremaining: 5.44s\n",
      "471:\tlearn: 3.7373093\ttotal: 4.85s\tremaining: 5.43s\n",
      "472:\tlearn: 3.7368087\ttotal: 4.86s\tremaining: 5.41s\n",
      "473:\tlearn: 3.7364130\ttotal: 4.87s\tremaining: 5.4s\n",
      "474:\tlearn: 3.7360644\ttotal: 4.87s\tremaining: 5.39s\n",
      "475:\tlearn: 3.7357066\ttotal: 4.88s\tremaining: 5.38s\n",
      "476:\tlearn: 3.7354131\ttotal: 4.89s\tremaining: 5.36s\n",
      "477:\tlearn: 3.7350977\ttotal: 4.9s\tremaining: 5.35s\n",
      "478:\tlearn: 3.7348005\ttotal: 4.9s\tremaining: 5.33s\n",
      "479:\tlearn: 3.7344143\ttotal: 4.92s\tremaining: 5.32s\n",
      "480:\tlearn: 3.7340365\ttotal: 4.92s\tremaining: 5.31s\n",
      "481:\tlearn: 3.7336698\ttotal: 4.93s\tremaining: 5.3s\n",
      "482:\tlearn: 3.7333513\ttotal: 4.94s\tremaining: 5.29s\n",
      "483:\tlearn: 3.7330682\ttotal: 4.95s\tremaining: 5.28s\n",
      "484:\tlearn: 3.7326466\ttotal: 4.96s\tremaining: 5.26s\n",
      "485:\tlearn: 3.7323418\ttotal: 4.97s\tremaining: 5.25s\n",
      "486:\tlearn: 3.7320499\ttotal: 4.97s\tremaining: 5.24s\n",
      "487:\tlearn: 3.7316208\ttotal: 4.99s\tremaining: 5.23s\n",
      "488:\tlearn: 3.7312296\ttotal: 5s\tremaining: 5.22s\n",
      "489:\tlearn: 3.7307027\ttotal: 5.01s\tremaining: 5.21s\n",
      "490:\tlearn: 3.7301856\ttotal: 5.02s\tremaining: 5.2s\n",
      "491:\tlearn: 3.7297014\ttotal: 5.03s\tremaining: 5.19s\n",
      "492:\tlearn: 3.7294577\ttotal: 5.04s\tremaining: 5.18s\n",
      "493:\tlearn: 3.7288609\ttotal: 5.06s\tremaining: 5.18s\n",
      "494:\tlearn: 3.7285785\ttotal: 5.07s\tremaining: 5.17s\n",
      "495:\tlearn: 3.7282420\ttotal: 5.09s\tremaining: 5.17s\n",
      "496:\tlearn: 3.7278059\ttotal: 5.1s\tremaining: 5.16s\n",
      "497:\tlearn: 3.7273932\ttotal: 5.11s\tremaining: 5.15s\n",
      "498:\tlearn: 3.7263905\ttotal: 5.12s\tremaining: 5.14s\n",
      "499:\tlearn: 3.7259552\ttotal: 5.13s\tremaining: 5.13s\n",
      "500:\tlearn: 3.7249633\ttotal: 5.15s\tremaining: 5.13s\n",
      "501:\tlearn: 3.7246091\ttotal: 5.16s\tremaining: 5.12s\n",
      "502:\tlearn: 3.7242442\ttotal: 5.17s\tremaining: 5.11s\n",
      "503:\tlearn: 3.7239397\ttotal: 5.18s\tremaining: 5.1s\n",
      "504:\tlearn: 3.7235608\ttotal: 5.2s\tremaining: 5.09s\n",
      "505:\tlearn: 3.7231694\ttotal: 5.21s\tremaining: 5.08s\n",
      "506:\tlearn: 3.7226865\ttotal: 5.22s\tremaining: 5.07s\n",
      "507:\tlearn: 3.7223284\ttotal: 5.23s\tremaining: 5.06s\n",
      "508:\tlearn: 3.7216727\ttotal: 5.24s\tremaining: 5.05s\n",
      "509:\tlearn: 3.7213146\ttotal: 5.25s\tremaining: 5.04s\n",
      "510:\tlearn: 3.7206689\ttotal: 5.25s\tremaining: 5.03s\n",
      "511:\tlearn: 3.7204417\ttotal: 5.26s\tremaining: 5.02s\n",
      "512:\tlearn: 3.7202390\ttotal: 5.27s\tremaining: 5s\n",
      "513:\tlearn: 3.7199317\ttotal: 5.28s\tremaining: 4.99s\n",
      "514:\tlearn: 3.7196167\ttotal: 5.29s\tremaining: 4.98s\n",
      "515:\tlearn: 3.7193796\ttotal: 5.29s\tremaining: 4.97s\n",
      "516:\tlearn: 3.7188172\ttotal: 5.3s\tremaining: 4.95s\n",
      "517:\tlearn: 3.7184073\ttotal: 5.31s\tremaining: 4.94s\n",
      "518:\tlearn: 3.7179240\ttotal: 5.32s\tremaining: 4.93s\n",
      "519:\tlearn: 3.7174753\ttotal: 5.33s\tremaining: 4.92s\n",
      "520:\tlearn: 3.7171202\ttotal: 5.33s\tremaining: 4.9s\n",
      "521:\tlearn: 3.7167556\ttotal: 5.34s\tremaining: 4.89s\n",
      "522:\tlearn: 3.7163717\ttotal: 5.35s\tremaining: 4.88s\n",
      "523:\tlearn: 3.7159842\ttotal: 5.35s\tremaining: 4.86s\n",
      "524:\tlearn: 3.7151798\ttotal: 5.36s\tremaining: 4.85s\n",
      "525:\tlearn: 3.7145675\ttotal: 5.37s\tremaining: 4.84s\n",
      "526:\tlearn: 3.7143582\ttotal: 5.38s\tremaining: 4.82s\n",
      "527:\tlearn: 3.7140746\ttotal: 5.38s\tremaining: 4.81s\n",
      "528:\tlearn: 3.7137671\ttotal: 5.39s\tremaining: 4.8s\n",
      "529:\tlearn: 3.7133837\ttotal: 5.4s\tremaining: 4.79s\n",
      "530:\tlearn: 3.7129266\ttotal: 5.4s\tremaining: 4.77s\n",
      "531:\tlearn: 3.7125282\ttotal: 5.41s\tremaining: 4.76s\n",
      "532:\tlearn: 3.7122146\ttotal: 5.42s\tremaining: 4.75s\n",
      "533:\tlearn: 3.7117946\ttotal: 5.43s\tremaining: 4.74s\n",
      "534:\tlearn: 3.7113432\ttotal: 5.44s\tremaining: 4.72s\n",
      "535:\tlearn: 3.7110144\ttotal: 5.44s\tremaining: 4.71s\n",
      "536:\tlearn: 3.7105071\ttotal: 5.45s\tremaining: 4.7s\n",
      "537:\tlearn: 3.7100309\ttotal: 5.46s\tremaining: 4.69s\n",
      "538:\tlearn: 3.7097300\ttotal: 5.47s\tremaining: 4.68s\n",
      "539:\tlearn: 3.7094261\ttotal: 5.47s\tremaining: 4.66s\n",
      "540:\tlearn: 3.7091178\ttotal: 5.48s\tremaining: 4.65s\n",
      "541:\tlearn: 3.7085980\ttotal: 5.49s\tremaining: 4.64s\n",
      "542:\tlearn: 3.7084083\ttotal: 5.5s\tremaining: 4.63s\n",
      "543:\tlearn: 3.7077279\ttotal: 5.5s\tremaining: 4.61s\n",
      "544:\tlearn: 3.7073114\ttotal: 5.51s\tremaining: 4.6s\n",
      "545:\tlearn: 3.7068994\ttotal: 5.52s\tremaining: 4.59s\n",
      "546:\tlearn: 3.7067471\ttotal: 5.53s\tremaining: 4.58s\n",
      "547:\tlearn: 3.7064689\ttotal: 5.53s\tremaining: 4.56s\n",
      "548:\tlearn: 3.7061508\ttotal: 5.54s\tremaining: 4.55s\n",
      "549:\tlearn: 3.7057172\ttotal: 5.55s\tremaining: 4.54s\n",
      "550:\tlearn: 3.7053046\ttotal: 5.56s\tremaining: 4.53s\n",
      "551:\tlearn: 3.7047401\ttotal: 5.57s\tremaining: 4.52s\n",
      "552:\tlearn: 3.7044582\ttotal: 5.57s\tremaining: 4.5s\n",
      "553:\tlearn: 3.7037580\ttotal: 5.58s\tremaining: 4.49s\n",
      "554:\tlearn: 3.7033388\ttotal: 5.59s\tremaining: 4.48s\n",
      "555:\tlearn: 3.7030125\ttotal: 5.59s\tremaining: 4.47s\n",
      "556:\tlearn: 3.7026220\ttotal: 5.6s\tremaining: 4.46s\n",
      "557:\tlearn: 3.7020756\ttotal: 5.61s\tremaining: 4.44s\n",
      "558:\tlearn: 3.7017432\ttotal: 5.62s\tremaining: 4.43s\n",
      "559:\tlearn: 3.7012845\ttotal: 5.63s\tremaining: 4.42s\n",
      "560:\tlearn: 3.7008636\ttotal: 5.64s\tremaining: 4.41s\n",
      "561:\tlearn: 3.7004963\ttotal: 5.65s\tremaining: 4.4s\n",
      "562:\tlearn: 3.7001278\ttotal: 5.66s\tremaining: 4.39s\n",
      "563:\tlearn: 3.6997272\ttotal: 5.67s\tremaining: 4.38s\n",
      "564:\tlearn: 3.6993158\ttotal: 5.68s\tremaining: 4.37s\n",
      "565:\tlearn: 3.6989712\ttotal: 5.69s\tremaining: 4.37s\n",
      "566:\tlearn: 3.6984392\ttotal: 5.71s\tremaining: 4.36s\n",
      "567:\tlearn: 3.6979858\ttotal: 5.72s\tremaining: 4.35s\n",
      "568:\tlearn: 3.6976508\ttotal: 5.73s\tremaining: 4.34s\n",
      "569:\tlearn: 3.6972810\ttotal: 5.75s\tremaining: 4.33s\n",
      "570:\tlearn: 3.6970213\ttotal: 5.76s\tremaining: 4.33s\n",
      "571:\tlearn: 3.6965748\ttotal: 5.77s\tremaining: 4.32s\n",
      "572:\tlearn: 3.6960749\ttotal: 5.78s\tremaining: 4.31s\n",
      "573:\tlearn: 3.6957240\ttotal: 5.79s\tremaining: 4.3s\n",
      "574:\tlearn: 3.6953088\ttotal: 5.8s\tremaining: 4.29s\n",
      "575:\tlearn: 3.6949405\ttotal: 5.81s\tremaining: 4.28s\n",
      "576:\tlearn: 3.6945792\ttotal: 5.82s\tremaining: 4.27s\n",
      "577:\tlearn: 3.6941425\ttotal: 5.83s\tremaining: 4.26s\n",
      "578:\tlearn: 3.6936293\ttotal: 5.84s\tremaining: 4.25s\n",
      "579:\tlearn: 3.6933307\ttotal: 5.86s\tremaining: 4.24s\n",
      "580:\tlearn: 3.6929696\ttotal: 5.87s\tremaining: 4.23s\n",
      "581:\tlearn: 3.6926298\ttotal: 5.88s\tremaining: 4.22s\n",
      "582:\tlearn: 3.6924488\ttotal: 5.89s\tremaining: 4.21s\n",
      "583:\tlearn: 3.6921069\ttotal: 5.91s\tremaining: 4.21s\n",
      "584:\tlearn: 3.6917131\ttotal: 5.92s\tremaining: 4.2s\n",
      "585:\tlearn: 3.6913471\ttotal: 5.93s\tremaining: 4.19s\n",
      "586:\tlearn: 3.6909820\ttotal: 5.94s\tremaining: 4.18s\n",
      "587:\tlearn: 3.6904556\ttotal: 5.95s\tremaining: 4.17s\n",
      "588:\tlearn: 3.6899315\ttotal: 5.96s\tremaining: 4.16s\n",
      "589:\tlearn: 3.6895980\ttotal: 5.97s\tremaining: 4.15s\n",
      "590:\tlearn: 3.6892047\ttotal: 5.98s\tremaining: 4.14s\n",
      "591:\tlearn: 3.6888793\ttotal: 5.99s\tremaining: 4.13s\n",
      "592:\tlearn: 3.6887062\ttotal: 6s\tremaining: 4.12s\n",
      "593:\tlearn: 3.6883914\ttotal: 6.01s\tremaining: 4.11s\n",
      "594:\tlearn: 3.6879055\ttotal: 6.02s\tremaining: 4.1s\n",
      "595:\tlearn: 3.6876463\ttotal: 6.03s\tremaining: 4.08s\n",
      "596:\tlearn: 3.6872585\ttotal: 6.04s\tremaining: 4.08s\n",
      "597:\tlearn: 3.6869798\ttotal: 6.05s\tremaining: 4.07s\n",
      "598:\tlearn: 3.6866703\ttotal: 6.06s\tremaining: 4.05s\n",
      "599:\tlearn: 3.6863661\ttotal: 6.07s\tremaining: 4.05s\n",
      "600:\tlearn: 3.6858376\ttotal: 6.08s\tremaining: 4.04s\n",
      "601:\tlearn: 3.6851562\ttotal: 6.09s\tremaining: 4.03s\n",
      "602:\tlearn: 3.6848388\ttotal: 6.1s\tremaining: 4.02s\n",
      "603:\tlearn: 3.6844675\ttotal: 6.12s\tremaining: 4.01s\n",
      "604:\tlearn: 3.6841020\ttotal: 6.13s\tremaining: 4s\n",
      "605:\tlearn: 3.6838513\ttotal: 6.13s\tremaining: 3.99s\n",
      "606:\tlearn: 3.6833338\ttotal: 6.15s\tremaining: 3.98s\n",
      "607:\tlearn: 3.6826876\ttotal: 6.16s\tremaining: 3.97s\n",
      "608:\tlearn: 3.6824378\ttotal: 6.17s\tremaining: 3.96s\n",
      "609:\tlearn: 3.6819556\ttotal: 6.18s\tremaining: 3.95s\n",
      "610:\tlearn: 3.6815359\ttotal: 6.19s\tremaining: 3.94s\n",
      "611:\tlearn: 3.6811139\ttotal: 6.2s\tremaining: 3.93s\n",
      "612:\tlearn: 3.6807412\ttotal: 6.21s\tremaining: 3.92s\n",
      "613:\tlearn: 3.6805549\ttotal: 6.21s\tremaining: 3.91s\n",
      "614:\tlearn: 3.6802972\ttotal: 6.23s\tremaining: 3.9s\n",
      "615:\tlearn: 3.6801601\ttotal: 6.23s\tremaining: 3.88s\n",
      "616:\tlearn: 3.6794131\ttotal: 6.26s\tremaining: 3.88s\n",
      "617:\tlearn: 3.6790899\ttotal: 6.27s\tremaining: 3.87s\n",
      "618:\tlearn: 3.6788245\ttotal: 6.28s\tremaining: 3.86s\n",
      "619:\tlearn: 3.6785369\ttotal: 6.29s\tremaining: 3.85s\n",
      "620:\tlearn: 3.6781954\ttotal: 6.29s\tremaining: 3.84s\n",
      "621:\tlearn: 3.6780028\ttotal: 6.31s\tremaining: 3.83s\n",
      "622:\tlearn: 3.6775609\ttotal: 6.32s\tremaining: 3.82s\n",
      "623:\tlearn: 3.6773219\ttotal: 6.33s\tremaining: 3.81s\n",
      "624:\tlearn: 3.6769400\ttotal: 6.34s\tremaining: 3.8s\n",
      "625:\tlearn: 3.6766278\ttotal: 6.34s\tremaining: 3.79s\n",
      "626:\tlearn: 3.6762547\ttotal: 6.35s\tremaining: 3.78s\n",
      "627:\tlearn: 3.6760096\ttotal: 6.36s\tremaining: 3.77s\n",
      "628:\tlearn: 3.6757669\ttotal: 6.37s\tremaining: 3.76s\n",
      "629:\tlearn: 3.6754449\ttotal: 6.38s\tremaining: 3.75s\n",
      "630:\tlearn: 3.6749507\ttotal: 6.39s\tremaining: 3.73s\n",
      "631:\tlearn: 3.6746413\ttotal: 6.39s\tremaining: 3.72s\n",
      "632:\tlearn: 3.6742268\ttotal: 6.4s\tremaining: 3.71s\n",
      "633:\tlearn: 3.6740091\ttotal: 6.41s\tremaining: 3.7s\n",
      "634:\tlearn: 3.6737038\ttotal: 6.42s\tremaining: 3.69s\n",
      "635:\tlearn: 3.6733303\ttotal: 6.43s\tremaining: 3.68s\n",
      "636:\tlearn: 3.6729078\ttotal: 6.43s\tremaining: 3.67s\n",
      "637:\tlearn: 3.6724688\ttotal: 6.44s\tremaining: 3.65s\n",
      "638:\tlearn: 3.6719347\ttotal: 6.45s\tremaining: 3.64s\n",
      "639:\tlearn: 3.6714724\ttotal: 6.46s\tremaining: 3.63s\n",
      "640:\tlearn: 3.6711237\ttotal: 6.46s\tremaining: 3.62s\n",
      "641:\tlearn: 3.6708892\ttotal: 6.47s\tremaining: 3.61s\n",
      "642:\tlearn: 3.6705718\ttotal: 6.48s\tremaining: 3.6s\n",
      "643:\tlearn: 3.6701202\ttotal: 6.49s\tremaining: 3.58s\n",
      "644:\tlearn: 3.6699056\ttotal: 6.49s\tremaining: 3.57s\n",
      "645:\tlearn: 3.6695248\ttotal: 6.5s\tremaining: 3.56s\n",
      "646:\tlearn: 3.6691338\ttotal: 6.51s\tremaining: 3.55s\n",
      "647:\tlearn: 3.6687670\ttotal: 6.52s\tremaining: 3.54s\n",
      "648:\tlearn: 3.6681355\ttotal: 6.53s\tremaining: 3.53s\n",
      "649:\tlearn: 3.6678256\ttotal: 6.54s\tremaining: 3.52s\n",
      "650:\tlearn: 3.6672952\ttotal: 6.55s\tremaining: 3.51s\n",
      "651:\tlearn: 3.6668444\ttotal: 6.56s\tremaining: 3.5s\n",
      "652:\tlearn: 3.6665868\ttotal: 6.57s\tremaining: 3.49s\n",
      "653:\tlearn: 3.6663149\ttotal: 6.58s\tremaining: 3.48s\n",
      "654:\tlearn: 3.6661067\ttotal: 6.6s\tremaining: 3.48s\n",
      "655:\tlearn: 3.6656932\ttotal: 6.61s\tremaining: 3.46s\n",
      "656:\tlearn: 3.6654394\ttotal: 6.62s\tremaining: 3.46s\n",
      "657:\tlearn: 3.6651059\ttotal: 6.63s\tremaining: 3.45s\n",
      "658:\tlearn: 3.6647548\ttotal: 6.64s\tremaining: 3.44s\n",
      "659:\tlearn: 3.6644779\ttotal: 6.65s\tremaining: 3.43s\n",
      "660:\tlearn: 3.6642232\ttotal: 6.66s\tremaining: 3.42s\n",
      "661:\tlearn: 3.6638168\ttotal: 6.67s\tremaining: 3.41s\n",
      "662:\tlearn: 3.6633746\ttotal: 6.68s\tremaining: 3.4s\n",
      "663:\tlearn: 3.6629201\ttotal: 6.69s\tremaining: 3.39s\n",
      "664:\tlearn: 3.6625496\ttotal: 6.7s\tremaining: 3.38s\n",
      "665:\tlearn: 3.6623250\ttotal: 6.71s\tremaining: 3.37s\n",
      "666:\tlearn: 3.6618903\ttotal: 6.72s\tremaining: 3.35s\n",
      "667:\tlearn: 3.6615144\ttotal: 6.73s\tremaining: 3.35s\n",
      "668:\tlearn: 3.6612985\ttotal: 6.74s\tremaining: 3.34s\n",
      "669:\tlearn: 3.6609047\ttotal: 6.75s\tremaining: 3.33s\n",
      "670:\tlearn: 3.6606893\ttotal: 6.77s\tremaining: 3.32s\n",
      "671:\tlearn: 3.6602957\ttotal: 6.78s\tremaining: 3.31s\n",
      "672:\tlearn: 3.6596857\ttotal: 6.79s\tremaining: 3.3s\n",
      "673:\tlearn: 3.6594075\ttotal: 6.8s\tremaining: 3.29s\n",
      "674:\tlearn: 3.6589460\ttotal: 6.81s\tremaining: 3.28s\n",
      "675:\tlearn: 3.6585792\ttotal: 6.82s\tremaining: 3.27s\n",
      "676:\tlearn: 3.6579913\ttotal: 6.83s\tremaining: 3.26s\n",
      "677:\tlearn: 3.6576323\ttotal: 6.85s\tremaining: 3.25s\n",
      "678:\tlearn: 3.6573596\ttotal: 6.86s\tremaining: 3.24s\n",
      "679:\tlearn: 3.6571386\ttotal: 6.87s\tremaining: 3.23s\n",
      "680:\tlearn: 3.6568098\ttotal: 6.88s\tremaining: 3.22s\n",
      "681:\tlearn: 3.6563389\ttotal: 6.89s\tremaining: 3.21s\n",
      "682:\tlearn: 3.6559997\ttotal: 6.9s\tremaining: 3.2s\n",
      "683:\tlearn: 3.6553578\ttotal: 6.91s\tremaining: 3.19s\n",
      "684:\tlearn: 3.6549218\ttotal: 6.93s\tremaining: 3.19s\n",
      "685:\tlearn: 3.6545361\ttotal: 6.94s\tremaining: 3.18s\n",
      "686:\tlearn: 3.6540212\ttotal: 6.95s\tremaining: 3.17s\n",
      "687:\tlearn: 3.6537238\ttotal: 6.97s\tremaining: 3.16s\n",
      "688:\tlearn: 3.6533457\ttotal: 6.97s\tremaining: 3.15s\n",
      "689:\tlearn: 3.6529985\ttotal: 6.98s\tremaining: 3.14s\n",
      "690:\tlearn: 3.6526547\ttotal: 6.99s\tremaining: 3.13s\n",
      "691:\tlearn: 3.6524131\ttotal: 7.01s\tremaining: 3.12s\n",
      "692:\tlearn: 3.6522188\ttotal: 7.05s\tremaining: 3.12s\n",
      "693:\tlearn: 3.6518936\ttotal: 7.08s\tremaining: 3.12s\n",
      "694:\tlearn: 3.6516400\ttotal: 7.11s\tremaining: 3.12s\n",
      "695:\tlearn: 3.6512952\ttotal: 7.13s\tremaining: 3.11s\n",
      "696:\tlearn: 3.6509579\ttotal: 7.14s\tremaining: 3.1s\n",
      "697:\tlearn: 3.6506774\ttotal: 7.15s\tremaining: 3.1s\n",
      "698:\tlearn: 3.6501265\ttotal: 7.17s\tremaining: 3.09s\n",
      "699:\tlearn: 3.6497846\ttotal: 7.19s\tremaining: 3.08s\n",
      "700:\tlearn: 3.6494512\ttotal: 7.2s\tremaining: 3.07s\n",
      "701:\tlearn: 3.6492341\ttotal: 7.21s\tremaining: 3.06s\n",
      "702:\tlearn: 3.6487730\ttotal: 7.22s\tremaining: 3.05s\n",
      "703:\tlearn: 3.6483500\ttotal: 7.24s\tremaining: 3.04s\n",
      "704:\tlearn: 3.6478638\ttotal: 7.25s\tremaining: 3.03s\n",
      "705:\tlearn: 3.6476791\ttotal: 7.26s\tremaining: 3.02s\n",
      "706:\tlearn: 3.6473107\ttotal: 7.27s\tremaining: 3.01s\n",
      "707:\tlearn: 3.6468867\ttotal: 7.28s\tremaining: 3s\n",
      "708:\tlearn: 3.6464553\ttotal: 7.29s\tremaining: 2.99s\n",
      "709:\tlearn: 3.6462357\ttotal: 7.3s\tremaining: 2.98s\n",
      "710:\tlearn: 3.6459756\ttotal: 7.3s\tremaining: 2.97s\n",
      "711:\tlearn: 3.6455820\ttotal: 7.31s\tremaining: 2.96s\n",
      "712:\tlearn: 3.6453682\ttotal: 7.32s\tremaining: 2.95s\n",
      "713:\tlearn: 3.6450679\ttotal: 7.33s\tremaining: 2.94s\n",
      "714:\tlearn: 3.6445803\ttotal: 7.34s\tremaining: 2.92s\n",
      "715:\tlearn: 3.6442469\ttotal: 7.35s\tremaining: 2.91s\n",
      "716:\tlearn: 3.6438630\ttotal: 7.36s\tremaining: 2.9s\n",
      "717:\tlearn: 3.6434577\ttotal: 7.36s\tremaining: 2.89s\n",
      "718:\tlearn: 3.6430462\ttotal: 7.38s\tremaining: 2.88s\n",
      "719:\tlearn: 3.6427298\ttotal: 7.39s\tremaining: 2.87s\n",
      "720:\tlearn: 3.6425207\ttotal: 7.4s\tremaining: 2.86s\n",
      "721:\tlearn: 3.6422434\ttotal: 7.41s\tremaining: 2.85s\n",
      "722:\tlearn: 3.6419608\ttotal: 7.43s\tremaining: 2.85s\n",
      "723:\tlearn: 3.6416711\ttotal: 7.44s\tremaining: 2.84s\n",
      "724:\tlearn: 3.6412464\ttotal: 7.45s\tremaining: 2.83s\n",
      "725:\tlearn: 3.6408054\ttotal: 7.46s\tremaining: 2.82s\n",
      "726:\tlearn: 3.6403110\ttotal: 7.48s\tremaining: 2.81s\n",
      "727:\tlearn: 3.6399856\ttotal: 7.49s\tremaining: 2.8s\n",
      "728:\tlearn: 3.6395936\ttotal: 7.49s\tremaining: 2.79s\n",
      "729:\tlearn: 3.6391249\ttotal: 7.5s\tremaining: 2.77s\n",
      "730:\tlearn: 3.6388050\ttotal: 7.51s\tremaining: 2.76s\n",
      "731:\tlearn: 3.6384826\ttotal: 7.52s\tremaining: 2.75s\n",
      "732:\tlearn: 3.6382894\ttotal: 7.53s\tremaining: 2.74s\n",
      "733:\tlearn: 3.6379188\ttotal: 7.54s\tremaining: 2.73s\n",
      "734:\tlearn: 3.6376714\ttotal: 7.54s\tremaining: 2.72s\n",
      "735:\tlearn: 3.6372803\ttotal: 7.55s\tremaining: 2.71s\n",
      "736:\tlearn: 3.6369786\ttotal: 7.56s\tremaining: 2.7s\n",
      "737:\tlearn: 3.6366863\ttotal: 7.57s\tremaining: 2.69s\n",
      "738:\tlearn: 3.6363959\ttotal: 7.58s\tremaining: 2.67s\n",
      "739:\tlearn: 3.6362837\ttotal: 7.59s\tremaining: 2.67s\n",
      "740:\tlearn: 3.6358030\ttotal: 7.59s\tremaining: 2.65s\n",
      "741:\tlearn: 3.6353732\ttotal: 7.6s\tremaining: 2.64s\n",
      "742:\tlearn: 3.6350305\ttotal: 7.61s\tremaining: 2.63s\n",
      "743:\tlearn: 3.6348846\ttotal: 7.62s\tremaining: 2.62s\n",
      "744:\tlearn: 3.6344345\ttotal: 7.62s\tremaining: 2.61s\n",
      "745:\tlearn: 3.6341889\ttotal: 7.63s\tremaining: 2.6s\n",
      "746:\tlearn: 3.6339756\ttotal: 7.64s\tremaining: 2.59s\n",
      "747:\tlearn: 3.6336743\ttotal: 7.65s\tremaining: 2.58s\n",
      "748:\tlearn: 3.6335330\ttotal: 7.66s\tremaining: 2.57s\n",
      "749:\tlearn: 3.6331076\ttotal: 7.67s\tremaining: 2.56s\n",
      "750:\tlearn: 3.6327773\ttotal: 7.68s\tremaining: 2.54s\n",
      "751:\tlearn: 3.6324185\ttotal: 7.69s\tremaining: 2.54s\n",
      "752:\tlearn: 3.6320487\ttotal: 7.7s\tremaining: 2.52s\n",
      "753:\tlearn: 3.6318130\ttotal: 7.7s\tremaining: 2.51s\n",
      "754:\tlearn: 3.6315005\ttotal: 7.71s\tremaining: 2.5s\n",
      "755:\tlearn: 3.6312117\ttotal: 7.72s\tremaining: 2.49s\n",
      "756:\tlearn: 3.6309344\ttotal: 7.73s\tremaining: 2.48s\n",
      "757:\tlearn: 3.6305147\ttotal: 7.73s\tremaining: 2.47s\n",
      "758:\tlearn: 3.6301658\ttotal: 7.74s\tremaining: 2.46s\n",
      "759:\tlearn: 3.6296410\ttotal: 7.75s\tremaining: 2.45s\n",
      "760:\tlearn: 3.6291553\ttotal: 7.75s\tremaining: 2.44s\n",
      "761:\tlearn: 3.6288506\ttotal: 7.76s\tremaining: 2.42s\n",
      "762:\tlearn: 3.6285793\ttotal: 7.77s\tremaining: 2.41s\n",
      "763:\tlearn: 3.6282578\ttotal: 7.78s\tremaining: 2.4s\n",
      "764:\tlearn: 3.6278724\ttotal: 7.78s\tremaining: 2.39s\n",
      "765:\tlearn: 3.6275413\ttotal: 7.79s\tremaining: 2.38s\n",
      "766:\tlearn: 3.6271400\ttotal: 7.8s\tremaining: 2.37s\n",
      "767:\tlearn: 3.6267478\ttotal: 7.8s\tremaining: 2.36s\n",
      "768:\tlearn: 3.6263677\ttotal: 7.81s\tremaining: 2.35s\n",
      "769:\tlearn: 3.6260669\ttotal: 7.82s\tremaining: 2.33s\n",
      "770:\tlearn: 3.6258580\ttotal: 7.83s\tremaining: 2.32s\n",
      "771:\tlearn: 3.6255007\ttotal: 7.83s\tremaining: 2.31s\n",
      "772:\tlearn: 3.6252302\ttotal: 7.84s\tremaining: 2.3s\n",
      "773:\tlearn: 3.6247776\ttotal: 7.84s\tremaining: 2.29s\n",
      "774:\tlearn: 3.6244493\ttotal: 7.85s\tremaining: 2.28s\n",
      "775:\tlearn: 3.6242480\ttotal: 7.86s\tremaining: 2.27s\n",
      "776:\tlearn: 3.6240500\ttotal: 7.86s\tremaining: 2.26s\n",
      "777:\tlearn: 3.6238600\ttotal: 7.87s\tremaining: 2.25s\n",
      "778:\tlearn: 3.6235981\ttotal: 7.88s\tremaining: 2.23s\n",
      "779:\tlearn: 3.6233586\ttotal: 7.88s\tremaining: 2.22s\n",
      "780:\tlearn: 3.6230851\ttotal: 7.89s\tremaining: 2.21s\n",
      "781:\tlearn: 3.6228210\ttotal: 7.9s\tremaining: 2.2s\n",
      "782:\tlearn: 3.6225374\ttotal: 7.9s\tremaining: 2.19s\n",
      "783:\tlearn: 3.6223647\ttotal: 7.91s\tremaining: 2.18s\n",
      "784:\tlearn: 3.6220743\ttotal: 7.92s\tremaining: 2.17s\n",
      "785:\tlearn: 3.6218843\ttotal: 7.92s\tremaining: 2.16s\n",
      "786:\tlearn: 3.6214588\ttotal: 7.93s\tremaining: 2.15s\n",
      "787:\tlearn: 3.6210866\ttotal: 7.94s\tremaining: 2.13s\n",
      "788:\tlearn: 3.6208777\ttotal: 7.94s\tremaining: 2.12s\n",
      "789:\tlearn: 3.6206343\ttotal: 7.95s\tremaining: 2.11s\n",
      "790:\tlearn: 3.6203500\ttotal: 7.96s\tremaining: 2.1s\n",
      "791:\tlearn: 3.6198164\ttotal: 7.96s\tremaining: 2.09s\n",
      "792:\tlearn: 3.6195377\ttotal: 7.97s\tremaining: 2.08s\n",
      "793:\tlearn: 3.6192765\ttotal: 7.98s\tremaining: 2.07s\n",
      "794:\tlearn: 3.6186933\ttotal: 7.99s\tremaining: 2.06s\n",
      "795:\tlearn: 3.6183026\ttotal: 7.99s\tremaining: 2.05s\n",
      "796:\tlearn: 3.6178771\ttotal: 8s\tremaining: 2.04s\n",
      "797:\tlearn: 3.6175904\ttotal: 8.01s\tremaining: 2.03s\n",
      "798:\tlearn: 3.6169825\ttotal: 8.01s\tremaining: 2.02s\n",
      "799:\tlearn: 3.6166705\ttotal: 8.02s\tremaining: 2s\n",
      "800:\tlearn: 3.6162511\ttotal: 8.03s\tremaining: 1.99s\n",
      "801:\tlearn: 3.6159371\ttotal: 8.03s\tremaining: 1.98s\n",
      "802:\tlearn: 3.6154571\ttotal: 8.04s\tremaining: 1.97s\n",
      "803:\tlearn: 3.6150351\ttotal: 8.05s\tremaining: 1.96s\n",
      "804:\tlearn: 3.6147484\ttotal: 8.05s\tremaining: 1.95s\n",
      "805:\tlearn: 3.6145139\ttotal: 8.06s\tremaining: 1.94s\n",
      "806:\tlearn: 3.6140988\ttotal: 8.07s\tremaining: 1.93s\n",
      "807:\tlearn: 3.6137258\ttotal: 8.07s\tremaining: 1.92s\n",
      "808:\tlearn: 3.6135039\ttotal: 8.08s\tremaining: 1.91s\n",
      "809:\tlearn: 3.6132306\ttotal: 8.09s\tremaining: 1.9s\n",
      "810:\tlearn: 3.6129870\ttotal: 8.09s\tremaining: 1.89s\n",
      "811:\tlearn: 3.6127811\ttotal: 8.1s\tremaining: 1.88s\n",
      "812:\tlearn: 3.6125555\ttotal: 8.11s\tremaining: 1.86s\n",
      "813:\tlearn: 3.6122779\ttotal: 8.11s\tremaining: 1.85s\n",
      "814:\tlearn: 3.6118213\ttotal: 8.12s\tremaining: 1.84s\n",
      "815:\tlearn: 3.6115048\ttotal: 8.13s\tremaining: 1.83s\n",
      "816:\tlearn: 3.6112169\ttotal: 8.13s\tremaining: 1.82s\n",
      "817:\tlearn: 3.6106878\ttotal: 8.14s\tremaining: 1.81s\n",
      "818:\tlearn: 3.6102918\ttotal: 8.15s\tremaining: 1.8s\n",
      "819:\tlearn: 3.6100374\ttotal: 8.15s\tremaining: 1.79s\n",
      "820:\tlearn: 3.6096516\ttotal: 8.16s\tremaining: 1.78s\n",
      "821:\tlearn: 3.6093376\ttotal: 8.17s\tremaining: 1.77s\n",
      "822:\tlearn: 3.6091844\ttotal: 8.17s\tremaining: 1.76s\n",
      "823:\tlearn: 3.6088451\ttotal: 8.18s\tremaining: 1.75s\n",
      "824:\tlearn: 3.6086303\ttotal: 8.19s\tremaining: 1.74s\n",
      "825:\tlearn: 3.6082758\ttotal: 8.19s\tremaining: 1.73s\n",
      "826:\tlearn: 3.6078665\ttotal: 8.2s\tremaining: 1.72s\n",
      "827:\tlearn: 3.6076101\ttotal: 8.21s\tremaining: 1.7s\n",
      "828:\tlearn: 3.6073537\ttotal: 8.21s\tremaining: 1.69s\n",
      "829:\tlearn: 3.6069476\ttotal: 8.22s\tremaining: 1.68s\n",
      "830:\tlearn: 3.6062960\ttotal: 8.23s\tremaining: 1.67s\n",
      "831:\tlearn: 3.6058802\ttotal: 8.23s\tremaining: 1.66s\n",
      "832:\tlearn: 3.6053981\ttotal: 8.24s\tremaining: 1.65s\n",
      "833:\tlearn: 3.6050850\ttotal: 8.25s\tremaining: 1.64s\n",
      "834:\tlearn: 3.6048279\ttotal: 8.25s\tremaining: 1.63s\n",
      "835:\tlearn: 3.6045168\ttotal: 8.26s\tremaining: 1.62s\n",
      "836:\tlearn: 3.6041750\ttotal: 8.27s\tremaining: 1.61s\n",
      "837:\tlearn: 3.6039082\ttotal: 8.27s\tremaining: 1.6s\n",
      "838:\tlearn: 3.6033721\ttotal: 8.28s\tremaining: 1.59s\n",
      "839:\tlearn: 3.6031600\ttotal: 8.29s\tremaining: 1.58s\n",
      "840:\tlearn: 3.6028790\ttotal: 8.29s\tremaining: 1.57s\n",
      "841:\tlearn: 3.6026909\ttotal: 8.3s\tremaining: 1.56s\n",
      "842:\tlearn: 3.6022784\ttotal: 8.31s\tremaining: 1.55s\n",
      "843:\tlearn: 3.6019665\ttotal: 8.31s\tremaining: 1.54s\n",
      "844:\tlearn: 3.6015617\ttotal: 8.32s\tremaining: 1.53s\n",
      "845:\tlearn: 3.6011491\ttotal: 8.33s\tremaining: 1.51s\n",
      "846:\tlearn: 3.6009123\ttotal: 8.33s\tremaining: 1.5s\n",
      "847:\tlearn: 3.6004587\ttotal: 8.34s\tremaining: 1.49s\n",
      "848:\tlearn: 3.6001667\ttotal: 8.35s\tremaining: 1.48s\n",
      "849:\tlearn: 3.5998638\ttotal: 8.35s\tremaining: 1.47s\n",
      "850:\tlearn: 3.5996426\ttotal: 8.36s\tremaining: 1.46s\n",
      "851:\tlearn: 3.5994582\ttotal: 8.36s\tremaining: 1.45s\n",
      "852:\tlearn: 3.5991373\ttotal: 8.37s\tremaining: 1.44s\n",
      "853:\tlearn: 3.5989465\ttotal: 8.38s\tremaining: 1.43s\n",
      "854:\tlearn: 3.5987657\ttotal: 8.38s\tremaining: 1.42s\n",
      "855:\tlearn: 3.5985607\ttotal: 8.39s\tremaining: 1.41s\n",
      "856:\tlearn: 3.5982870\ttotal: 8.4s\tremaining: 1.4s\n",
      "857:\tlearn: 3.5980289\ttotal: 8.41s\tremaining: 1.39s\n",
      "858:\tlearn: 3.5977828\ttotal: 8.41s\tremaining: 1.38s\n",
      "859:\tlearn: 3.5974977\ttotal: 8.42s\tremaining: 1.37s\n",
      "860:\tlearn: 3.5973531\ttotal: 8.43s\tremaining: 1.36s\n",
      "861:\tlearn: 3.5971050\ttotal: 8.43s\tremaining: 1.35s\n",
      "862:\tlearn: 3.5967013\ttotal: 8.44s\tremaining: 1.34s\n",
      "863:\tlearn: 3.5962796\ttotal: 8.45s\tremaining: 1.33s\n",
      "864:\tlearn: 3.5959520\ttotal: 8.45s\tremaining: 1.32s\n",
      "865:\tlearn: 3.5955574\ttotal: 8.46s\tremaining: 1.31s\n",
      "866:\tlearn: 3.5953695\ttotal: 8.47s\tremaining: 1.3s\n",
      "867:\tlearn: 3.5951781\ttotal: 8.47s\tremaining: 1.29s\n",
      "868:\tlearn: 3.5948670\ttotal: 8.48s\tremaining: 1.28s\n",
      "869:\tlearn: 3.5938100\ttotal: 8.49s\tremaining: 1.27s\n",
      "870:\tlearn: 3.5934247\ttotal: 8.49s\tremaining: 1.26s\n",
      "871:\tlearn: 3.5931479\ttotal: 8.5s\tremaining: 1.25s\n",
      "872:\tlearn: 3.5928149\ttotal: 8.51s\tremaining: 1.24s\n",
      "873:\tlearn: 3.5925945\ttotal: 8.52s\tremaining: 1.23s\n",
      "874:\tlearn: 3.5922983\ttotal: 8.52s\tremaining: 1.22s\n",
      "875:\tlearn: 3.5918470\ttotal: 8.53s\tremaining: 1.21s\n",
      "876:\tlearn: 3.5916380\ttotal: 8.54s\tremaining: 1.2s\n",
      "877:\tlearn: 3.5913523\ttotal: 8.54s\tremaining: 1.19s\n",
      "878:\tlearn: 3.5907564\ttotal: 8.55s\tremaining: 1.18s\n",
      "879:\tlearn: 3.5904923\ttotal: 8.55s\tremaining: 1.17s\n",
      "880:\tlearn: 3.5901726\ttotal: 8.56s\tremaining: 1.16s\n",
      "881:\tlearn: 3.5894198\ttotal: 8.57s\tremaining: 1.15s\n",
      "882:\tlearn: 3.5891564\ttotal: 8.57s\tremaining: 1.14s\n",
      "883:\tlearn: 3.5887376\ttotal: 8.58s\tremaining: 1.13s\n",
      "884:\tlearn: 3.5884148\ttotal: 8.59s\tremaining: 1.12s\n",
      "885:\tlearn: 3.5881607\ttotal: 8.6s\tremaining: 1.11s\n",
      "886:\tlearn: 3.5878554\ttotal: 8.6s\tremaining: 1.1s\n",
      "887:\tlearn: 3.5876453\ttotal: 8.61s\tremaining: 1.09s\n",
      "888:\tlearn: 3.5873244\ttotal: 8.62s\tremaining: 1.08s\n",
      "889:\tlearn: 3.5869149\ttotal: 8.63s\tremaining: 1.07s\n",
      "890:\tlearn: 3.5866420\ttotal: 8.63s\tremaining: 1.06s\n",
      "891:\tlearn: 3.5864021\ttotal: 8.64s\tremaining: 1.05s\n",
      "892:\tlearn: 3.5859807\ttotal: 8.65s\tremaining: 1.04s\n",
      "893:\tlearn: 3.5855803\ttotal: 8.65s\tremaining: 1.03s\n",
      "894:\tlearn: 3.5851294\ttotal: 8.66s\tremaining: 1.02s\n",
      "895:\tlearn: 3.5846944\ttotal: 8.67s\tremaining: 1s\n",
      "896:\tlearn: 3.5840354\ttotal: 8.67s\tremaining: 996ms\n",
      "897:\tlearn: 3.5837407\ttotal: 8.68s\tremaining: 986ms\n",
      "898:\tlearn: 3.5834670\ttotal: 8.69s\tremaining: 976ms\n",
      "899:\tlearn: 3.5830834\ttotal: 8.69s\tremaining: 966ms\n",
      "900:\tlearn: 3.5827907\ttotal: 8.7s\tremaining: 956ms\n",
      "901:\tlearn: 3.5826115\ttotal: 8.71s\tremaining: 946ms\n",
      "902:\tlearn: 3.5822871\ttotal: 8.71s\tremaining: 936ms\n",
      "903:\tlearn: 3.5820015\ttotal: 8.72s\tremaining: 926ms\n",
      "904:\tlearn: 3.5816616\ttotal: 8.73s\tremaining: 916ms\n",
      "905:\tlearn: 3.5812853\ttotal: 8.73s\tremaining: 906ms\n",
      "906:\tlearn: 3.5808764\ttotal: 8.74s\tremaining: 896ms\n",
      "907:\tlearn: 3.5806419\ttotal: 8.75s\tremaining: 886ms\n",
      "908:\tlearn: 3.5803807\ttotal: 8.75s\tremaining: 876ms\n",
      "909:\tlearn: 3.5800925\ttotal: 8.76s\tremaining: 866ms\n",
      "910:\tlearn: 3.5797832\ttotal: 8.77s\tremaining: 856ms\n",
      "911:\tlearn: 3.5793482\ttotal: 8.78s\tremaining: 847ms\n",
      "912:\tlearn: 3.5790202\ttotal: 8.78s\tremaining: 837ms\n",
      "913:\tlearn: 3.5787376\ttotal: 8.79s\tremaining: 827ms\n",
      "914:\tlearn: 3.5783249\ttotal: 8.8s\tremaining: 817ms\n",
      "915:\tlearn: 3.5780113\ttotal: 8.81s\tremaining: 808ms\n",
      "916:\tlearn: 3.5777448\ttotal: 8.81s\tremaining: 798ms\n",
      "917:\tlearn: 3.5772697\ttotal: 8.82s\tremaining: 788ms\n",
      "918:\tlearn: 3.5768853\ttotal: 8.83s\tremaining: 779ms\n",
      "919:\tlearn: 3.5767583\ttotal: 8.84s\tremaining: 769ms\n",
      "920:\tlearn: 3.5764595\ttotal: 8.85s\tremaining: 759ms\n",
      "921:\tlearn: 3.5761326\ttotal: 8.86s\tremaining: 749ms\n",
      "922:\tlearn: 3.5758204\ttotal: 8.89s\tremaining: 741ms\n",
      "923:\tlearn: 3.5754629\ttotal: 8.91s\tremaining: 733ms\n",
      "924:\tlearn: 3.5752258\ttotal: 8.92s\tremaining: 724ms\n",
      "925:\tlearn: 3.5750674\ttotal: 8.94s\tremaining: 715ms\n",
      "926:\tlearn: 3.5748031\ttotal: 8.96s\tremaining: 706ms\n",
      "927:\tlearn: 3.5745255\ttotal: 8.98s\tremaining: 697ms\n",
      "928:\tlearn: 3.5741937\ttotal: 9s\tremaining: 688ms\n",
      "929:\tlearn: 3.5738556\ttotal: 9.02s\tremaining: 679ms\n",
      "930:\tlearn: 3.5736324\ttotal: 9.03s\tremaining: 669ms\n",
      "931:\tlearn: 3.5733617\ttotal: 9.04s\tremaining: 659ms\n",
      "932:\tlearn: 3.5730816\ttotal: 9.05s\tremaining: 650ms\n",
      "933:\tlearn: 3.5729310\ttotal: 9.05s\tremaining: 640ms\n",
      "934:\tlearn: 3.5726259\ttotal: 9.06s\tremaining: 630ms\n",
      "935:\tlearn: 3.5722646\ttotal: 9.07s\tremaining: 620ms\n",
      "936:\tlearn: 3.5718062\ttotal: 9.07s\tremaining: 610ms\n",
      "937:\tlearn: 3.5714960\ttotal: 9.08s\tremaining: 600ms\n",
      "938:\tlearn: 3.5712707\ttotal: 9.09s\tremaining: 590ms\n",
      "939:\tlearn: 3.5710124\ttotal: 9.09s\tremaining: 581ms\n",
      "940:\tlearn: 3.5707476\ttotal: 9.1s\tremaining: 571ms\n",
      "941:\tlearn: 3.5703226\ttotal: 9.11s\tremaining: 561ms\n",
      "942:\tlearn: 3.5701504\ttotal: 9.12s\tremaining: 551ms\n",
      "943:\tlearn: 3.5698967\ttotal: 9.12s\tremaining: 541ms\n",
      "944:\tlearn: 3.5694365\ttotal: 9.13s\tremaining: 531ms\n",
      "945:\tlearn: 3.5691044\ttotal: 9.14s\tremaining: 522ms\n",
      "946:\tlearn: 3.5688160\ttotal: 9.14s\tremaining: 512ms\n",
      "947:\tlearn: 3.5685619\ttotal: 9.15s\tremaining: 502ms\n",
      "948:\tlearn: 3.5683571\ttotal: 9.16s\tremaining: 492ms\n",
      "949:\tlearn: 3.5680504\ttotal: 9.17s\tremaining: 483ms\n",
      "950:\tlearn: 3.5677046\ttotal: 9.18s\tremaining: 473ms\n",
      "951:\tlearn: 3.5672556\ttotal: 9.19s\tremaining: 463ms\n",
      "952:\tlearn: 3.5669529\ttotal: 9.2s\tremaining: 454ms\n",
      "953:\tlearn: 3.5665819\ttotal: 9.21s\tremaining: 444ms\n",
      "954:\tlearn: 3.5662126\ttotal: 9.23s\tremaining: 435ms\n",
      "955:\tlearn: 3.5659647\ttotal: 9.24s\tremaining: 425ms\n",
      "956:\tlearn: 3.5656526\ttotal: 9.25s\tremaining: 416ms\n",
      "957:\tlearn: 3.5654007\ttotal: 9.27s\tremaining: 406ms\n",
      "958:\tlearn: 3.5650246\ttotal: 9.29s\tremaining: 397ms\n",
      "959:\tlearn: 3.5648123\ttotal: 9.31s\tremaining: 388ms\n",
      "960:\tlearn: 3.5645426\ttotal: 9.32s\tremaining: 378ms\n",
      "961:\tlearn: 3.5641984\ttotal: 9.34s\tremaining: 369ms\n",
      "962:\tlearn: 3.5638252\ttotal: 9.35s\tremaining: 359ms\n",
      "963:\tlearn: 3.5635666\ttotal: 9.36s\tremaining: 350ms\n",
      "964:\tlearn: 3.5633250\ttotal: 9.37s\tremaining: 340ms\n",
      "965:\tlearn: 3.5630941\ttotal: 9.38s\tremaining: 330ms\n",
      "966:\tlearn: 3.5628120\ttotal: 9.4s\tremaining: 321ms\n",
      "967:\tlearn: 3.5624812\ttotal: 9.41s\tremaining: 311ms\n",
      "968:\tlearn: 3.5620761\ttotal: 9.43s\tremaining: 302ms\n",
      "969:\tlearn: 3.5618552\ttotal: 9.44s\tremaining: 292ms\n",
      "970:\tlearn: 3.5616283\ttotal: 9.45s\tremaining: 282ms\n",
      "971:\tlearn: 3.5612340\ttotal: 9.46s\tremaining: 273ms\n",
      "972:\tlearn: 3.5608609\ttotal: 9.48s\tremaining: 263ms\n",
      "973:\tlearn: 3.5602460\ttotal: 9.5s\tremaining: 254ms\n",
      "974:\tlearn: 3.5599911\ttotal: 9.51s\tremaining: 244ms\n",
      "975:\tlearn: 3.5597088\ttotal: 9.53s\tremaining: 234ms\n",
      "976:\tlearn: 3.5593176\ttotal: 9.54s\tremaining: 225ms\n",
      "977:\tlearn: 3.5590103\ttotal: 9.55s\tremaining: 215ms\n",
      "978:\tlearn: 3.5586506\ttotal: 9.56s\tremaining: 205ms\n",
      "979:\tlearn: 3.5584097\ttotal: 9.57s\tremaining: 195ms\n",
      "980:\tlearn: 3.5581581\ttotal: 9.58s\tremaining: 186ms\n",
      "981:\tlearn: 3.5578740\ttotal: 9.59s\tremaining: 176ms\n",
      "982:\tlearn: 3.5574092\ttotal: 9.6s\tremaining: 166ms\n",
      "983:\tlearn: 3.5571750\ttotal: 9.61s\tremaining: 156ms\n",
      "984:\tlearn: 3.5569607\ttotal: 9.62s\tremaining: 147ms\n",
      "985:\tlearn: 3.5567424\ttotal: 9.63s\tremaining: 137ms\n",
      "986:\tlearn: 3.5565367\ttotal: 9.64s\tremaining: 127ms\n",
      "987:\tlearn: 3.5562039\ttotal: 9.65s\tremaining: 117ms\n",
      "988:\tlearn: 3.5558567\ttotal: 9.66s\tremaining: 107ms\n",
      "989:\tlearn: 3.5555185\ttotal: 9.67s\tremaining: 97.7ms\n",
      "990:\tlearn: 3.5550594\ttotal: 9.68s\tremaining: 87.9ms\n",
      "991:\tlearn: 3.5548379\ttotal: 9.68s\tremaining: 78.1ms\n",
      "992:\tlearn: 3.5545751\ttotal: 9.69s\tremaining: 68.3ms\n",
      "993:\tlearn: 3.5541237\ttotal: 9.7s\tremaining: 58.5ms\n",
      "994:\tlearn: 3.5537856\ttotal: 9.71s\tremaining: 48.8ms\n",
      "995:\tlearn: 3.5534418\ttotal: 9.71s\tremaining: 39ms\n",
      "996:\tlearn: 3.5531396\ttotal: 9.72s\tremaining: 29.2ms\n",
      "997:\tlearn: 3.5529837\ttotal: 9.72s\tremaining: 19.5ms\n",
      "998:\tlearn: 3.5528089\ttotal: 9.73s\tremaining: 9.74ms\n",
      "999:\tlearn: 3.5523901\ttotal: 9.74s\tremaining: 0us\n"
     ]
    },
    {
     "data": {
      "text/plain": [
       "<catboost.core.CatBoostRegressor at 0x184a23b9a60>"
      ]
     },
     "execution_count": 10,
     "metadata": {},
     "output_type": "execute_result"
    }
   ],
   "source": [
    "from catboost import CatBoostRegressor\n",
    "cat = CatBoostRegressor()\n",
    "cat.fit(x_train,y_train)"
   ]
  },
  {
   "cell_type": "code",
   "execution_count": 11,
   "metadata": {},
   "outputs": [],
   "source": [
    "y_pred = cat.predict(x_test)"
   ]
  },
  {
   "cell_type": "code",
   "execution_count": 12,
   "metadata": {},
   "outputs": [
    {
     "data": {
      "application/vnd.plotly.v1+json": {
       "config": {
        "plotlyServerURL": "https://plot.ly"
       },
       "data": [
        {
         "marker": {
          "color": "green"
         },
         "mode": "markers",
         "name": "Actual",
         "type": "scatter",
         "x": [
          0,
          1,
          2,
          3,
          4,
          5,
          6,
          7,
          8,
          9,
          10,
          11,
          12,
          13,
          14,
          15,
          16,
          17,
          18,
          19,
          20,
          21,
          22,
          23,
          24,
          25,
          26,
          27,
          28,
          29,
          30,
          31,
          32,
          33,
          34,
          35,
          36,
          37,
          38,
          39,
          40,
          41,
          42,
          43,
          44,
          45,
          46,
          47,
          48,
          49
         ],
         "y": [
          33,
          28,
          22,
          25,
          35,
          27,
          48,
          27,
          24,
          18,
          39,
          26,
          26,
          18,
          19,
          19,
          33,
          39,
          10,
          37,
          37,
          24,
          26,
          44,
          24,
          23,
          30,
          50,
          36,
          28,
          28,
          42,
          52,
          35,
          36,
          15,
          44,
          11,
          26,
          26,
          32,
          16,
          22,
          28,
          15,
          19,
          20,
          41,
          27,
          25
         ]
        },
        {
         "marker": {
          "color": "red"
         },
         "mode": "markers",
         "name": "Predicted",
         "type": "scatter",
         "x": [
          0,
          1,
          2,
          3,
          4,
          5,
          6,
          7,
          8,
          9,
          10,
          11,
          12,
          13,
          14,
          15,
          16,
          17,
          18,
          19,
          20,
          21,
          22,
          23,
          24,
          25,
          26,
          27,
          28,
          29,
          30,
          31,
          32,
          33,
          34,
          35,
          36,
          37,
          38,
          39,
          40,
          41,
          42,
          43,
          44,
          45,
          46,
          47,
          48,
          49
         ],
         "y": [
          32.75382744238465,
          24.5897445669311,
          17.823196115778316,
          19.503559205114783,
          39.85193310721535,
          27.907361894007263,
          44.58856754766849,
          27.909917991339622,
          20.252744636213684,
          21.123926858696365,
          35.04581225452725,
          30.59385238118705,
          22.74811327943563,
          20.04858073349415,
          15.537305184540614,
          16.14255743322723,
          33.94425721078662,
          32.47391253791613,
          13.63962109903806,
          33.65937069605825,
          42.8625126144147,
          24.849520070520242,
          24.942817401213112,
          31.480766477772114,
          23.39790646847029,
          16.57460875323877,
          36.52241714636953,
          44.23156902445787,
          34.64503625759306,
          22.619353821597436,
          29.265260602153777,
          38.6699350807106,
          46.580675834152956,
          38.57547499685882,
          26.722624204137464,
          13.58861283907064,
          39.43663688573681,
          13.623332568356824,
          23.109327800237196,
          29.20850315161502,
          28.57492334161756,
          18.48484615311051,
          22.9559629596812,
          27.993448225508658,
          22.603822745820732,
          18.135958908805954,
          30.414971326834,
          42.37956605948864,
          33.33255279834852,
          24.852469305337383
         ]
        },
        {
         "line": {
          "color": "blue",
          "width": 2
         },
         "mode": "lines",
         "name": "Regression line",
         "type": "scatter",
         "x": [
          0,
          1,
          2,
          3,
          4,
          5,
          6,
          7,
          8,
          9,
          10,
          11,
          12,
          13,
          14,
          15,
          16,
          17,
          18,
          19,
          20,
          21,
          22,
          23,
          24,
          25,
          26,
          27,
          28,
          29,
          30,
          31,
          32,
          33,
          34,
          35,
          36,
          37,
          38,
          39,
          40,
          41,
          42,
          43,
          44,
          45,
          46,
          47,
          48,
          49
         ],
         "y": [
          32.75382744238465,
          24.5897445669311,
          17.823196115778316,
          19.503559205114783,
          39.85193310721535,
          27.907361894007263,
          44.58856754766849,
          27.909917991339622,
          20.252744636213684,
          21.123926858696365,
          35.04581225452725,
          30.59385238118705,
          22.74811327943563,
          20.04858073349415,
          15.537305184540614,
          16.14255743322723,
          33.94425721078662,
          32.47391253791613,
          13.63962109903806,
          33.65937069605825,
          42.8625126144147,
          24.849520070520242,
          24.942817401213112,
          31.480766477772114,
          23.39790646847029,
          16.57460875323877,
          36.52241714636953,
          44.23156902445787,
          34.64503625759306,
          22.619353821597436,
          29.265260602153777,
          38.6699350807106,
          46.580675834152956,
          38.57547499685882,
          26.722624204137464,
          13.58861283907064,
          39.43663688573681,
          13.623332568356824,
          23.109327800237196,
          29.20850315161502,
          28.57492334161756,
          18.48484615311051,
          22.9559629596812,
          27.993448225508658,
          22.603822745820732,
          18.135958908805954,
          30.414971326834,
          42.37956605948864,
          33.33255279834852,
          24.852469305337383
         ]
        }
       ],
       "layout": {
        "hovermode": "closest",
        "template": {
         "data": {
          "bar": [
           {
            "error_x": {
             "color": "#2a3f5f"
            },
            "error_y": {
             "color": "#2a3f5f"
            },
            "marker": {
             "line": {
              "color": "#E5ECF6",
              "width": 0.5
             },
             "pattern": {
              "fillmode": "overlay",
              "size": 10,
              "solidity": 0.2
             }
            },
            "type": "bar"
           }
          ],
          "barpolar": [
           {
            "marker": {
             "line": {
              "color": "#E5ECF6",
              "width": 0.5
             },
             "pattern": {
              "fillmode": "overlay",
              "size": 10,
              "solidity": 0.2
             }
            },
            "type": "barpolar"
           }
          ],
          "carpet": [
           {
            "aaxis": {
             "endlinecolor": "#2a3f5f",
             "gridcolor": "white",
             "linecolor": "white",
             "minorgridcolor": "white",
             "startlinecolor": "#2a3f5f"
            },
            "baxis": {
             "endlinecolor": "#2a3f5f",
             "gridcolor": "white",
             "linecolor": "white",
             "minorgridcolor": "white",
             "startlinecolor": "#2a3f5f"
            },
            "type": "carpet"
           }
          ],
          "choropleth": [
           {
            "colorbar": {
             "outlinewidth": 0,
             "ticks": ""
            },
            "type": "choropleth"
           }
          ],
          "contour": [
           {
            "colorbar": {
             "outlinewidth": 0,
             "ticks": ""
            },
            "colorscale": [
             [
              0,
              "#0d0887"
             ],
             [
              0.1111111111111111,
              "#46039f"
             ],
             [
              0.2222222222222222,
              "#7201a8"
             ],
             [
              0.3333333333333333,
              "#9c179e"
             ],
             [
              0.4444444444444444,
              "#bd3786"
             ],
             [
              0.5555555555555556,
              "#d8576b"
             ],
             [
              0.6666666666666666,
              "#ed7953"
             ],
             [
              0.7777777777777778,
              "#fb9f3a"
             ],
             [
              0.8888888888888888,
              "#fdca26"
             ],
             [
              1,
              "#f0f921"
             ]
            ],
            "type": "contour"
           }
          ],
          "contourcarpet": [
           {
            "colorbar": {
             "outlinewidth": 0,
             "ticks": ""
            },
            "type": "contourcarpet"
           }
          ],
          "heatmap": [
           {
            "colorbar": {
             "outlinewidth": 0,
             "ticks": ""
            },
            "colorscale": [
             [
              0,
              "#0d0887"
             ],
             [
              0.1111111111111111,
              "#46039f"
             ],
             [
              0.2222222222222222,
              "#7201a8"
             ],
             [
              0.3333333333333333,
              "#9c179e"
             ],
             [
              0.4444444444444444,
              "#bd3786"
             ],
             [
              0.5555555555555556,
              "#d8576b"
             ],
             [
              0.6666666666666666,
              "#ed7953"
             ],
             [
              0.7777777777777778,
              "#fb9f3a"
             ],
             [
              0.8888888888888888,
              "#fdca26"
             ],
             [
              1,
              "#f0f921"
             ]
            ],
            "type": "heatmap"
           }
          ],
          "heatmapgl": [
           {
            "colorbar": {
             "outlinewidth": 0,
             "ticks": ""
            },
            "colorscale": [
             [
              0,
              "#0d0887"
             ],
             [
              0.1111111111111111,
              "#46039f"
             ],
             [
              0.2222222222222222,
              "#7201a8"
             ],
             [
              0.3333333333333333,
              "#9c179e"
             ],
             [
              0.4444444444444444,
              "#bd3786"
             ],
             [
              0.5555555555555556,
              "#d8576b"
             ],
             [
              0.6666666666666666,
              "#ed7953"
             ],
             [
              0.7777777777777778,
              "#fb9f3a"
             ],
             [
              0.8888888888888888,
              "#fdca26"
             ],
             [
              1,
              "#f0f921"
             ]
            ],
            "type": "heatmapgl"
           }
          ],
          "histogram": [
           {
            "marker": {
             "pattern": {
              "fillmode": "overlay",
              "size": 10,
              "solidity": 0.2
             }
            },
            "type": "histogram"
           }
          ],
          "histogram2d": [
           {
            "colorbar": {
             "outlinewidth": 0,
             "ticks": ""
            },
            "colorscale": [
             [
              0,
              "#0d0887"
             ],
             [
              0.1111111111111111,
              "#46039f"
             ],
             [
              0.2222222222222222,
              "#7201a8"
             ],
             [
              0.3333333333333333,
              "#9c179e"
             ],
             [
              0.4444444444444444,
              "#bd3786"
             ],
             [
              0.5555555555555556,
              "#d8576b"
             ],
             [
              0.6666666666666666,
              "#ed7953"
             ],
             [
              0.7777777777777778,
              "#fb9f3a"
             ],
             [
              0.8888888888888888,
              "#fdca26"
             ],
             [
              1,
              "#f0f921"
             ]
            ],
            "type": "histogram2d"
           }
          ],
          "histogram2dcontour": [
           {
            "colorbar": {
             "outlinewidth": 0,
             "ticks": ""
            },
            "colorscale": [
             [
              0,
              "#0d0887"
             ],
             [
              0.1111111111111111,
              "#46039f"
             ],
             [
              0.2222222222222222,
              "#7201a8"
             ],
             [
              0.3333333333333333,
              "#9c179e"
             ],
             [
              0.4444444444444444,
              "#bd3786"
             ],
             [
              0.5555555555555556,
              "#d8576b"
             ],
             [
              0.6666666666666666,
              "#ed7953"
             ],
             [
              0.7777777777777778,
              "#fb9f3a"
             ],
             [
              0.8888888888888888,
              "#fdca26"
             ],
             [
              1,
              "#f0f921"
             ]
            ],
            "type": "histogram2dcontour"
           }
          ],
          "mesh3d": [
           {
            "colorbar": {
             "outlinewidth": 0,
             "ticks": ""
            },
            "type": "mesh3d"
           }
          ],
          "parcoords": [
           {
            "line": {
             "colorbar": {
              "outlinewidth": 0,
              "ticks": ""
             }
            },
            "type": "parcoords"
           }
          ],
          "pie": [
           {
            "automargin": true,
            "type": "pie"
           }
          ],
          "scatter": [
           {
            "fillpattern": {
             "fillmode": "overlay",
             "size": 10,
             "solidity": 0.2
            },
            "type": "scatter"
           }
          ],
          "scatter3d": [
           {
            "line": {
             "colorbar": {
              "outlinewidth": 0,
              "ticks": ""
             }
            },
            "marker": {
             "colorbar": {
              "outlinewidth": 0,
              "ticks": ""
             }
            },
            "type": "scatter3d"
           }
          ],
          "scattercarpet": [
           {
            "marker": {
             "colorbar": {
              "outlinewidth": 0,
              "ticks": ""
             }
            },
            "type": "scattercarpet"
           }
          ],
          "scattergeo": [
           {
            "marker": {
             "colorbar": {
              "outlinewidth": 0,
              "ticks": ""
             }
            },
            "type": "scattergeo"
           }
          ],
          "scattergl": [
           {
            "marker": {
             "colorbar": {
              "outlinewidth": 0,
              "ticks": ""
             }
            },
            "type": "scattergl"
           }
          ],
          "scattermapbox": [
           {
            "marker": {
             "colorbar": {
              "outlinewidth": 0,
              "ticks": ""
             }
            },
            "type": "scattermapbox"
           }
          ],
          "scatterpolar": [
           {
            "marker": {
             "colorbar": {
              "outlinewidth": 0,
              "ticks": ""
             }
            },
            "type": "scatterpolar"
           }
          ],
          "scatterpolargl": [
           {
            "marker": {
             "colorbar": {
              "outlinewidth": 0,
              "ticks": ""
             }
            },
            "type": "scatterpolargl"
           }
          ],
          "scatterternary": [
           {
            "marker": {
             "colorbar": {
              "outlinewidth": 0,
              "ticks": ""
             }
            },
            "type": "scatterternary"
           }
          ],
          "surface": [
           {
            "colorbar": {
             "outlinewidth": 0,
             "ticks": ""
            },
            "colorscale": [
             [
              0,
              "#0d0887"
             ],
             [
              0.1111111111111111,
              "#46039f"
             ],
             [
              0.2222222222222222,
              "#7201a8"
             ],
             [
              0.3333333333333333,
              "#9c179e"
             ],
             [
              0.4444444444444444,
              "#bd3786"
             ],
             [
              0.5555555555555556,
              "#d8576b"
             ],
             [
              0.6666666666666666,
              "#ed7953"
             ],
             [
              0.7777777777777778,
              "#fb9f3a"
             ],
             [
              0.8888888888888888,
              "#fdca26"
             ],
             [
              1,
              "#f0f921"
             ]
            ],
            "type": "surface"
           }
          ],
          "table": [
           {
            "cells": {
             "fill": {
              "color": "#EBF0F8"
             },
             "line": {
              "color": "white"
             }
            },
            "header": {
             "fill": {
              "color": "#C8D4E3"
             },
             "line": {
              "color": "white"
             }
            },
            "type": "table"
           }
          ]
         },
         "layout": {
          "annotationdefaults": {
           "arrowcolor": "#2a3f5f",
           "arrowhead": 0,
           "arrowwidth": 1
          },
          "autotypenumbers": "strict",
          "coloraxis": {
           "colorbar": {
            "outlinewidth": 0,
            "ticks": ""
           }
          },
          "colorscale": {
           "diverging": [
            [
             0,
             "#8e0152"
            ],
            [
             0.1,
             "#c51b7d"
            ],
            [
             0.2,
             "#de77ae"
            ],
            [
             0.3,
             "#f1b6da"
            ],
            [
             0.4,
             "#fde0ef"
            ],
            [
             0.5,
             "#f7f7f7"
            ],
            [
             0.6,
             "#e6f5d0"
            ],
            [
             0.7,
             "#b8e186"
            ],
            [
             0.8,
             "#7fbc41"
            ],
            [
             0.9,
             "#4d9221"
            ],
            [
             1,
             "#276419"
            ]
           ],
           "sequential": [
            [
             0,
             "#0d0887"
            ],
            [
             0.1111111111111111,
             "#46039f"
            ],
            [
             0.2222222222222222,
             "#7201a8"
            ],
            [
             0.3333333333333333,
             "#9c179e"
            ],
            [
             0.4444444444444444,
             "#bd3786"
            ],
            [
             0.5555555555555556,
             "#d8576b"
            ],
            [
             0.6666666666666666,
             "#ed7953"
            ],
            [
             0.7777777777777778,
             "#fb9f3a"
            ],
            [
             0.8888888888888888,
             "#fdca26"
            ],
            [
             1,
             "#f0f921"
            ]
           ],
           "sequentialminus": [
            [
             0,
             "#0d0887"
            ],
            [
             0.1111111111111111,
             "#46039f"
            ],
            [
             0.2222222222222222,
             "#7201a8"
            ],
            [
             0.3333333333333333,
             "#9c179e"
            ],
            [
             0.4444444444444444,
             "#bd3786"
            ],
            [
             0.5555555555555556,
             "#d8576b"
            ],
            [
             0.6666666666666666,
             "#ed7953"
            ],
            [
             0.7777777777777778,
             "#fb9f3a"
            ],
            [
             0.8888888888888888,
             "#fdca26"
            ],
            [
             1,
             "#f0f921"
            ]
           ]
          },
          "colorway": [
           "#636efa",
           "#EF553B",
           "#00cc96",
           "#ab63fa",
           "#FFA15A",
           "#19d3f3",
           "#FF6692",
           "#B6E880",
           "#FF97FF",
           "#FECB52"
          ],
          "font": {
           "color": "#2a3f5f"
          },
          "geo": {
           "bgcolor": "white",
           "lakecolor": "white",
           "landcolor": "#E5ECF6",
           "showlakes": true,
           "showland": true,
           "subunitcolor": "white"
          },
          "hoverlabel": {
           "align": "left"
          },
          "hovermode": "closest",
          "mapbox": {
           "style": "light"
          },
          "paper_bgcolor": "white",
          "plot_bgcolor": "#E5ECF6",
          "polar": {
           "angularaxis": {
            "gridcolor": "white",
            "linecolor": "white",
            "ticks": ""
           },
           "bgcolor": "#E5ECF6",
           "radialaxis": {
            "gridcolor": "white",
            "linecolor": "white",
            "ticks": ""
           }
          },
          "scene": {
           "xaxis": {
            "backgroundcolor": "#E5ECF6",
            "gridcolor": "white",
            "gridwidth": 2,
            "linecolor": "white",
            "showbackground": true,
            "ticks": "",
            "zerolinecolor": "white"
           },
           "yaxis": {
            "backgroundcolor": "#E5ECF6",
            "gridcolor": "white",
            "gridwidth": 2,
            "linecolor": "white",
            "showbackground": true,
            "ticks": "",
            "zerolinecolor": "white"
           },
           "zaxis": {
            "backgroundcolor": "#E5ECF6",
            "gridcolor": "white",
            "gridwidth": 2,
            "linecolor": "white",
            "showbackground": true,
            "ticks": "",
            "zerolinecolor": "white"
           }
          },
          "shapedefaults": {
           "line": {
            "color": "#2a3f5f"
           }
          },
          "ternary": {
           "aaxis": {
            "gridcolor": "white",
            "linecolor": "white",
            "ticks": ""
           },
           "baxis": {
            "gridcolor": "white",
            "linecolor": "white",
            "ticks": ""
           },
           "bgcolor": "#E5ECF6",
           "caxis": {
            "gridcolor": "white",
            "linecolor": "white",
            "ticks": ""
           }
          },
          "title": {
           "x": 0.05
          },
          "xaxis": {
           "automargin": true,
           "gridcolor": "white",
           "linecolor": "white",
           "ticks": "",
           "title": {
            "standoff": 15
           },
           "zerolinecolor": "white",
           "zerolinewidth": 2
          },
          "yaxis": {
           "automargin": true,
           "gridcolor": "white",
           "linecolor": "white",
           "ticks": "",
           "title": {
            "standoff": 15
           },
           "zerolinecolor": "white",
           "zerolinewidth": 2
          }
         }
        },
        "title": {
         "text": "Comparison of Actual and Predicted Data Points with CatBoostRegressor"
        },
        "xaxis": {
         "title": {
          "text": "Data Point Index"
         }
        },
        "yaxis": {
         "title": {
          "text": "y"
         }
        }
       }
      }
     },
     "metadata": {},
     "output_type": "display_data"
    }
   ],
   "source": [
    "import plotly.graph_objs as go\n",
    "#Conclusion :\n",
    "# 1] The regression model appears to capture the overall trend of the data but may struggle with certain data points, leading to larger prediction errors.\n",
    "# 2] The presence of outliers suggests that the model's performance could be improved either by addressing these outliers or by using a more robust regression technique.\n",
    "# 3] The jagged nature of the regression line indicates a close fit to the data points, which might be an issue if the model is overfitting.\n",
    "\n",
    "# Assuming you have y_test and y_pred defined\n",
    "\n",
    "# Assuming y_test and y_pred are already defined with 30 samples\n",
    "y_test_sample = y_test[:50]\n",
    "y_pred_sample = y_pred[:50]\n",
    "\n",
    "# Convert range to list for x-axis\n",
    "x_values = list(range(len(y_test_sample)))\n",
    "\n",
    "# Create traces for actual and predicted data points\n",
    "trace_actual = go.Scatter(x=x_values, y=y_test_sample, mode='markers', name='Actual', marker=dict(color='green'))\n",
    "trace_predicted = go.Scatter(x=x_values, y=y_pred_sample, mode='markers', name='Predicted', marker=dict(color='red'))\n",
    "\n",
    "# Create a trace for the regression line\n",
    "trace_regression = go.Scatter(x=x_values, y=y_pred_sample, mode='lines', name='Regression line', line=dict(color='blue', width=2))\n",
    "\n",
    "# Combine traces into a data list\n",
    "data = [trace_actual, trace_predicted, trace_regression]\n",
    "\n",
    "# Define layout for the plot\n",
    "layout = go.Layout(\n",
    "    title='Comparison of Actual and Predicted Data Points with CatBoostRegressor',\n",
    "    xaxis=dict(title='Data Point Index'),\n",
    "    yaxis=dict(title='y'),\n",
    "    hovermode='closest',  # Show closest data point's values upon hover\n",
    ")\n",
    "\n",
    "# Create figure object that combines data and layout\n",
    "fig = go.Figure(data=data, layout=layout)\n",
    "\n",
    "# Display the interactive plot\n",
    "fig.show()"
   ]
  },
  {
   "cell_type": "code",
   "execution_count": 13,
   "metadata": {},
   "outputs": [
    {
     "data": {
      "text/plain": [
       "array([32.75382744, 24.58974457, 17.82319612, ..., 20.95618712,\n",
       "       38.9403318 , 13.05571196])"
      ]
     },
     "execution_count": 13,
     "metadata": {},
     "output_type": "execute_result"
    }
   ],
   "source": [
    "y_pred"
   ]
  },
  {
   "cell_type": "code",
   "execution_count": 14,
   "metadata": {},
   "outputs": [],
   "source": [
    "from sklearn.metrics import r2_score,mean_absolute_error,mean_squared_error\n",
    "import numpy as np\n",
    "mae=mean_absolute_error(y_pred, y_test)\n",
    "mse=mean_squared_error(y_pred, y_test)\n",
    "rmse= np.sqrt(mean_squared_error(y_pred, y_test))\n",
    "r2_square=r2_score(y_pred, y_test)"
   ]
  },
  {
   "cell_type": "code",
   "execution_count": 15,
   "metadata": {},
   "outputs": [
    {
     "name": "stdout",
     "output_type": "stream",
     "text": [
      "3.2009215629290595\n",
      "16.168659222595387\n",
      "4.021027135272204\n",
      "0.772398098481284\n"
     ]
    }
   ],
   "source": [
    "print(mae)\n",
    "print(mse)\n",
    "print(rmse)\n",
    "print(r2_square)"
   ]
  },
  {
   "cell_type": "code",
   "execution_count": 16,
   "metadata": {},
   "outputs": [
    {
     "data": {
      "text/plain": [
       "0.8178939894063001"
      ]
     },
     "execution_count": 16,
     "metadata": {},
     "output_type": "execute_result"
    }
   ],
   "source": [
    "from sklearn.metrics import r2_score\n",
    "r2_score(y_test,y_pred)"
   ]
  },
  {
   "cell_type": "code",
   "execution_count": 17,
   "metadata": {},
   "outputs": [
    {
     "data": {
      "text/plain": [
       "0.8561426713778657"
      ]
     },
     "execution_count": 17,
     "metadata": {},
     "output_type": "execute_result"
    }
   ],
   "source": [
    "cat.score(x_train,y_train)"
   ]
  },
  {
   "cell_type": "code",
   "execution_count": 18,
   "metadata": {},
   "outputs": [
    {
     "data": {
      "text/plain": [
       "0.8178939894063001"
      ]
     },
     "execution_count": 18,
     "metadata": {},
     "output_type": "execute_result"
    }
   ],
   "source": [
    "cat.score(x_test,y_test)"
   ]
  },
  {
   "cell_type": "code",
   "execution_count": null,
   "metadata": {},
   "outputs": [],
   "source": []
  }
 ],
 "metadata": {
  "kernelspec": {
   "display_name": "base",
   "language": "python",
   "name": "python3"
  },
  "language_info": {
   "codemirror_mode": {
    "name": "ipython",
    "version": 3
   },
   "file_extension": ".py",
   "mimetype": "text/x-python",
   "name": "python",
   "nbconvert_exporter": "python",
   "pygments_lexer": "ipython3",
   "version": "3.9.13"
  }
 },
 "nbformat": 4,
 "nbformat_minor": 2
}
