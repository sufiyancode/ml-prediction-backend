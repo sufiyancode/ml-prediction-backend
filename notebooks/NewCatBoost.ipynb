{
 "cells": [
  {
   "cell_type": "code",
   "execution_count": 1,
   "metadata": {},
   "outputs": [],
   "source": [
    "import pandas as pd"
   ]
  },
  {
   "cell_type": "code",
   "execution_count": 2,
   "metadata": {},
   "outputs": [],
   "source": [
    "data = pd.read_csv(\"zomato_clean.csv\")"
   ]
  },
  {
   "cell_type": "code",
   "execution_count": 3,
   "metadata": {},
   "outputs": [
    {
     "name": "stdout",
     "output_type": "stream",
     "text": [
      "<class 'pandas.core.frame.DataFrame'>\n",
      "RangeIndex: 45584 entries, 0 to 45583\n",
      "Data columns (total 35 columns):\n",
      " #   Column                            Non-Null Count  Dtype  \n",
      "---  ------                            --------------  -----  \n",
      " 0   Delivery_person_Age               45584 non-null  float64\n",
      " 1   Delivery_person_Ratings           45584 non-null  float64\n",
      " 2   Restaurant_latitude               45584 non-null  float64\n",
      " 3   Restaurant_longitude              45584 non-null  float64\n",
      " 4   Delivery_location_latitude        45584 non-null  float64\n",
      " 5   Delivery_location_longitude       45584 non-null  float64\n",
      " 6   Road_traffic_density              45584 non-null  int64  \n",
      " 7   Vehicle_condition                 45584 non-null  int64  \n",
      " 8   multiple_deliveries               45584 non-null  float64\n",
      " 9   Festival                          45584 non-null  int64  \n",
      " 10  City                              45584 non-null  int64  \n",
      " 11  Time_taken (min)                  45584 non-null  int64  \n",
      " 12  Delivery_person_ID_encoded        45584 non-null  int64  \n",
      " 13  Day                               45584 non-null  int64  \n",
      " 14  Month                             45584 non-null  int64  \n",
      " 15  Year                              45584 non-null  int64  \n",
      " 16  Weather_conditions_Cloudy         45584 non-null  int64  \n",
      " 17  Weather_conditions_Fog            45584 non-null  int64  \n",
      " 18  Weather_conditions_Sandstorms     45584 non-null  int64  \n",
      " 19  Weather_conditions_Stormy         45584 non-null  int64  \n",
      " 20  Weather_conditions_Sunny          45584 non-null  int64  \n",
      " 21  Weather_conditions_Windy          45584 non-null  int64  \n",
      " 22  Time_Orderd_Hour                  45584 non-null  int64  \n",
      " 23  Time_Orderd_Minute                45584 non-null  int64  \n",
      " 24  Time_Order_picked_Hour            45584 non-null  float64\n",
      " 25  Time_Order_picked_Min             45584 non-null  int64  \n",
      " 26  Type_of_order_Buffet              45584 non-null  int64  \n",
      " 27  Type_of_order_Drinks              45584 non-null  int64  \n",
      " 28  Type_of_order_Meal                45584 non-null  int64  \n",
      " 29  Type_of_order_Snack               45584 non-null  int64  \n",
      " 30  Type_of_vehicle_bicycle           45584 non-null  int64  \n",
      " 31  Type_of_vehicle_electric_scooter  45584 non-null  int64  \n",
      " 32  Type_of_vehicle_motorcycle        45584 non-null  int64  \n",
      " 33  Type_of_vehicle_scooter           45584 non-null  int64  \n",
      " 34  distance                          45584 non-null  float64\n",
      "dtypes: float64(9), int64(26)\n",
      "memory usage: 12.2 MB\n"
     ]
    }
   ],
   "source": [
    "data.info()"
   ]
  },
  {
   "cell_type": "code",
   "execution_count": 4,
   "metadata": {},
   "outputs": [],
   "source": [
    "selected_columns = [\n",
    "    'Delivery_person_Age',\n",
    "    'Delivery_person_Ratings',\n",
    "    'Restaurant_latitude',\n",
    "    'Restaurant_longitude',\n",
    "    'Delivery_location_latitude',\n",
    "    'Delivery_location_longitude',\n",
    "    'Time_Orderd_Hour',\n",
    "                'Time_Orderd_Minute',\n",
    "    'Time_Order_picked_Hour',\n",
    "                'Time_Order_picked_Min',\n",
    "    'Weather_conditions_Cloudy',\n",
    "                'Weather_conditions_Fog',\n",
    "                'Weather_conditions_Sandstorms',\n",
    "                'Weather_conditions_Stormy',\n",
    "                'Weather_conditions_Sunny',\n",
    "                'Weather_conditions_Windy',\n",
    "    'multiple_deliveries',\n",
    "    'Festival',\n",
    "                'City',\n",
    "    'Road_traffic_density',\n",
    "    'Vehicle_condition',\n",
    "                'Type_of_vehicle_electric_scooter',\n",
    "    'Type_of_vehicle_motorcycle',\n",
    "    'Type_of_vehicle_scooter',\n",
    "    'distance',\n",
    "    'Time_taken (min)'\n",
    "]\n",
    "\n",
    "# Creating a new DataFrame with the selected columns\n",
    "new_data_frame = data[selected_columns]"
   ]
  },
  {
   "cell_type": "code",
   "execution_count": 5,
   "metadata": {},
   "outputs": [],
   "source": [
    "#Divide the dataset into train and test dataset\n",
    "from sklearn.model_selection import train_test_split"
   ]
  },
  {
   "cell_type": "code",
   "execution_count": 6,
   "metadata": {},
   "outputs": [],
   "source": [
    "#Divide the dataset into independent and dependent dataset\n",
    "X = new_data_frame.iloc[:,:-1] #Independent features\n",
    "y = new_data_frame.iloc[:,-1]  #Dependent or Target feature"
   ]
  },
  {
   "cell_type": "code",
   "execution_count": 7,
   "metadata": {},
   "outputs": [],
   "source": [
    "x_train, x_test, y_train, y_test = train_test_split(X, y, test_size=0.32, random_state=42)"
   ]
  },
  {
   "cell_type": "code",
   "execution_count": 8,
   "metadata": {},
   "outputs": [],
   "source": [
    "# Standardize the data using StandardScaler\n",
    "from sklearn.preprocessing import StandardScaler\n",
    "scaler = StandardScaler()\n",
    "x_train = scaler.fit_transform(x_train)\n",
    "x_test = scaler.transform(x_test)"
   ]
  },
  {
   "cell_type": "code",
   "execution_count": 9,
   "metadata": {},
   "outputs": [
    {
     "name": "stdout",
     "output_type": "stream",
     "text": [
      "Learning rate set to 0.070438\n",
      "0:\tlearn: 8.9615842\ttotal: 156ms\tremaining: 2m 36s\n",
      "1:\tlearn: 8.5939048\ttotal: 162ms\tremaining: 1m 20s\n",
      "2:\tlearn: 8.2688551\ttotal: 168ms\tremaining: 55.9s\n",
      "3:\tlearn: 7.9663612\ttotal: 175ms\tremaining: 43.6s\n",
      "4:\tlearn: 7.7222740\ttotal: 181ms\tremaining: 36s\n",
      "5:\tlearn: 7.4784685\ttotal: 188ms\tremaining: 31.1s\n",
      "6:\tlearn: 7.2417663\ttotal: 194ms\tremaining: 27.6s\n",
      "7:\tlearn: 7.0511812\ttotal: 204ms\tremaining: 25.3s\n",
      "8:\tlearn: 6.8303045\ttotal: 211ms\tremaining: 23.2s\n",
      "9:\tlearn: 6.6799548\ttotal: 222ms\tremaining: 22s\n",
      "10:\tlearn: 6.4894956\ttotal: 230ms\tremaining: 20.7s\n",
      "11:\tlearn: 6.3380221\ttotal: 236ms\tremaining: 19.4s\n",
      "12:\tlearn: 6.2174347\ttotal: 243ms\tremaining: 18.5s\n",
      "13:\tlearn: 6.0875142\ttotal: 249ms\tremaining: 17.5s\n",
      "14:\tlearn: 5.9934856\ttotal: 256ms\tremaining: 16.8s\n",
      "15:\tlearn: 5.8661901\ttotal: 261ms\tremaining: 16.1s\n",
      "16:\tlearn: 5.7655637\ttotal: 267ms\tremaining: 15.4s\n",
      "17:\tlearn: 5.6377679\ttotal: 274ms\tremaining: 14.9s\n",
      "18:\tlearn: 5.5220760\ttotal: 282ms\tremaining: 14.5s\n",
      "19:\tlearn: 5.4220360\ttotal: 289ms\tremaining: 14.2s\n",
      "20:\tlearn: 5.3413541\ttotal: 295ms\tremaining: 13.7s\n",
      "21:\tlearn: 5.2823175\ttotal: 301ms\tremaining: 13.4s\n",
      "22:\tlearn: 5.2234264\ttotal: 307ms\tremaining: 13s\n",
      "23:\tlearn: 5.1668703\ttotal: 312ms\tremaining: 12.7s\n",
      "24:\tlearn: 5.1141537\ttotal: 319ms\tremaining: 12.4s\n",
      "25:\tlearn: 5.0760586\ttotal: 325ms\tremaining: 12.2s\n",
      "26:\tlearn: 5.0191034\ttotal: 331ms\tremaining: 11.9s\n",
      "27:\tlearn: 4.9878933\ttotal: 338ms\tremaining: 11.7s\n",
      "28:\tlearn: 4.9260980\ttotal: 345ms\tremaining: 11.6s\n",
      "29:\tlearn: 4.8949621\ttotal: 351ms\tremaining: 11.3s\n",
      "30:\tlearn: 4.8708172\ttotal: 356ms\tremaining: 11.1s\n",
      "31:\tlearn: 4.8225360\ttotal: 362ms\tremaining: 11s\n",
      "32:\tlearn: 4.7823668\ttotal: 369ms\tremaining: 10.8s\n",
      "33:\tlearn: 4.7646475\ttotal: 375ms\tremaining: 10.6s\n",
      "34:\tlearn: 4.7469752\ttotal: 381ms\tremaining: 10.5s\n",
      "35:\tlearn: 4.6913406\ttotal: 388ms\tremaining: 10.4s\n",
      "36:\tlearn: 4.6564491\ttotal: 395ms\tremaining: 10.3s\n",
      "37:\tlearn: 4.6250035\ttotal: 401ms\tremaining: 10.2s\n",
      "38:\tlearn: 4.6118049\ttotal: 407ms\tremaining: 10s\n",
      "39:\tlearn: 4.5626410\ttotal: 416ms\tremaining: 9.99s\n",
      "40:\tlearn: 4.5382233\ttotal: 424ms\tremaining: 9.93s\n",
      "41:\tlearn: 4.5188064\ttotal: 432ms\tremaining: 9.86s\n",
      "42:\tlearn: 4.4790838\ttotal: 440ms\tremaining: 9.78s\n",
      "43:\tlearn: 4.4619371\ttotal: 448ms\tremaining: 9.73s\n",
      "44:\tlearn: 4.4439692\ttotal: 458ms\tremaining: 9.71s\n",
      "45:\tlearn: 4.4317375\ttotal: 466ms\tremaining: 9.66s\n",
      "46:\tlearn: 4.4209935\ttotal: 474ms\tremaining: 9.62s\n",
      "47:\tlearn: 4.3965083\ttotal: 485ms\tremaining: 9.62s\n",
      "48:\tlearn: 4.3774864\ttotal: 492ms\tremaining: 9.54s\n",
      "49:\tlearn: 4.3696768\ttotal: 500ms\tremaining: 9.5s\n",
      "50:\tlearn: 4.3607606\ttotal: 506ms\tremaining: 9.42s\n",
      "51:\tlearn: 4.3560943\ttotal: 513ms\tremaining: 9.35s\n",
      "52:\tlearn: 4.3501497\ttotal: 519ms\tremaining: 9.27s\n",
      "53:\tlearn: 4.3426676\ttotal: 525ms\tremaining: 9.19s\n",
      "54:\tlearn: 4.3368253\ttotal: 532ms\tremaining: 9.15s\n",
      "55:\tlearn: 4.3278732\ttotal: 538ms\tremaining: 9.08s\n",
      "56:\tlearn: 4.3188021\ttotal: 546ms\tremaining: 9.03s\n",
      "57:\tlearn: 4.3065696\ttotal: 552ms\tremaining: 8.97s\n",
      "58:\tlearn: 4.2894215\ttotal: 558ms\tremaining: 8.9s\n",
      "59:\tlearn: 4.2715377\ttotal: 565ms\tremaining: 8.86s\n",
      "60:\tlearn: 4.2615191\ttotal: 571ms\tremaining: 8.79s\n",
      "61:\tlearn: 4.2536718\ttotal: 578ms\tremaining: 8.74s\n",
      "62:\tlearn: 4.2500810\ttotal: 583ms\tremaining: 8.67s\n",
      "63:\tlearn: 4.2349423\ttotal: 589ms\tremaining: 8.62s\n",
      "64:\tlearn: 4.2223678\ttotal: 599ms\tremaining: 8.62s\n",
      "65:\tlearn: 4.2174711\ttotal: 606ms\tremaining: 8.57s\n",
      "66:\tlearn: 4.2148756\ttotal: 614ms\tremaining: 8.55s\n",
      "67:\tlearn: 4.2025444\ttotal: 622ms\tremaining: 8.52s\n",
      "68:\tlearn: 4.1994577\ttotal: 631ms\tremaining: 8.52s\n",
      "69:\tlearn: 4.1893457\ttotal: 637ms\tremaining: 8.47s\n",
      "70:\tlearn: 4.1835914\ttotal: 645ms\tremaining: 8.44s\n",
      "71:\tlearn: 4.1802285\ttotal: 651ms\tremaining: 8.39s\n",
      "72:\tlearn: 4.1786356\ttotal: 658ms\tremaining: 8.35s\n",
      "73:\tlearn: 4.1766457\ttotal: 664ms\tremaining: 8.3s\n",
      "74:\tlearn: 4.1726521\ttotal: 670ms\tremaining: 8.27s\n",
      "75:\tlearn: 4.1675347\ttotal: 677ms\tremaining: 8.23s\n",
      "76:\tlearn: 4.1610188\ttotal: 683ms\tremaining: 8.19s\n",
      "77:\tlearn: 4.1493496\ttotal: 690ms\tremaining: 8.16s\n",
      "78:\tlearn: 4.1465227\ttotal: 696ms\tremaining: 8.11s\n",
      "79:\tlearn: 4.1442572\ttotal: 701ms\tremaining: 8.07s\n",
      "80:\tlearn: 4.1424772\ttotal: 708ms\tremaining: 8.04s\n",
      "81:\tlearn: 4.1407567\ttotal: 715ms\tremaining: 8s\n",
      "82:\tlearn: 4.1387856\ttotal: 723ms\tremaining: 7.99s\n",
      "83:\tlearn: 4.1366580\ttotal: 728ms\tremaining: 7.94s\n",
      "84:\tlearn: 4.1338059\ttotal: 734ms\tremaining: 7.9s\n",
      "85:\tlearn: 4.1280026\ttotal: 741ms\tremaining: 7.87s\n",
      "86:\tlearn: 4.1198477\ttotal: 747ms\tremaining: 7.84s\n",
      "87:\tlearn: 4.1186685\ttotal: 754ms\tremaining: 7.81s\n",
      "88:\tlearn: 4.1144986\ttotal: 760ms\tremaining: 7.78s\n",
      "89:\tlearn: 4.1127430\ttotal: 766ms\tremaining: 7.74s\n",
      "90:\tlearn: 4.1107456\ttotal: 773ms\tremaining: 7.72s\n",
      "91:\tlearn: 4.1070890\ttotal: 779ms\tremaining: 7.68s\n",
      "92:\tlearn: 4.1035894\ttotal: 785ms\tremaining: 7.66s\n",
      "93:\tlearn: 4.0971154\ttotal: 791ms\tremaining: 7.62s\n",
      "94:\tlearn: 4.0960954\ttotal: 796ms\tremaining: 7.59s\n",
      "95:\tlearn: 4.0931972\ttotal: 803ms\tremaining: 7.56s\n",
      "96:\tlearn: 4.0919956\ttotal: 809ms\tremaining: 7.53s\n",
      "97:\tlearn: 4.0911376\ttotal: 814ms\tremaining: 7.49s\n",
      "98:\tlearn: 4.0896243\ttotal: 822ms\tremaining: 7.48s\n",
      "99:\tlearn: 4.0882206\ttotal: 828ms\tremaining: 7.45s\n",
      "100:\tlearn: 4.0798244\ttotal: 837ms\tremaining: 7.45s\n",
      "101:\tlearn: 4.0790776\ttotal: 843ms\tremaining: 7.42s\n",
      "102:\tlearn: 4.0748080\ttotal: 852ms\tremaining: 7.42s\n",
      "103:\tlearn: 4.0739176\ttotal: 859ms\tremaining: 7.4s\n",
      "104:\tlearn: 4.0729218\ttotal: 866ms\tremaining: 7.38s\n",
      "105:\tlearn: 4.0716307\ttotal: 872ms\tremaining: 7.35s\n",
      "106:\tlearn: 4.0706973\ttotal: 877ms\tremaining: 7.32s\n",
      "107:\tlearn: 4.0690056\ttotal: 884ms\tremaining: 7.3s\n",
      "108:\tlearn: 4.0680141\ttotal: 889ms\tremaining: 7.27s\n",
      "109:\tlearn: 4.0670102\ttotal: 895ms\tremaining: 7.24s\n",
      "110:\tlearn: 4.0660174\ttotal: 901ms\tremaining: 7.22s\n",
      "111:\tlearn: 4.0629959\ttotal: 907ms\tremaining: 7.2s\n",
      "112:\tlearn: 4.0617858\ttotal: 914ms\tremaining: 7.18s\n",
      "113:\tlearn: 4.0599719\ttotal: 920ms\tremaining: 7.15s\n",
      "114:\tlearn: 4.0591016\ttotal: 926ms\tremaining: 7.13s\n",
      "115:\tlearn: 4.0569145\ttotal: 934ms\tremaining: 7.11s\n",
      "116:\tlearn: 4.0520400\ttotal: 940ms\tremaining: 7.09s\n",
      "117:\tlearn: 4.0504399\ttotal: 948ms\tremaining: 7.09s\n",
      "118:\tlearn: 4.0439254\ttotal: 955ms\tremaining: 7.07s\n",
      "119:\tlearn: 4.0434322\ttotal: 963ms\tremaining: 7.06s\n",
      "120:\tlearn: 4.0423688\ttotal: 970ms\tremaining: 7.05s\n",
      "121:\tlearn: 4.0417005\ttotal: 976ms\tremaining: 7.02s\n",
      "122:\tlearn: 4.0404044\ttotal: 985ms\tremaining: 7.02s\n",
      "123:\tlearn: 4.0393805\ttotal: 990ms\tremaining: 6.99s\n",
      "124:\tlearn: 4.0370513\ttotal: 999ms\tremaining: 7s\n",
      "125:\tlearn: 4.0360346\ttotal: 1s\tremaining: 6.97s\n",
      "126:\tlearn: 4.0351815\ttotal: 1.02s\tremaining: 6.98s\n",
      "127:\tlearn: 4.0342730\ttotal: 1.02s\tremaining: 6.97s\n",
      "128:\tlearn: 4.0334221\ttotal: 1.03s\tremaining: 6.97s\n",
      "129:\tlearn: 4.0326808\ttotal: 1.04s\tremaining: 6.96s\n",
      "130:\tlearn: 4.0318393\ttotal: 1.05s\tremaining: 6.96s\n",
      "131:\tlearn: 4.0304968\ttotal: 1.05s\tremaining: 6.94s\n",
      "132:\tlearn: 4.0286915\ttotal: 1.06s\tremaining: 6.94s\n",
      "133:\tlearn: 4.0275173\ttotal: 1.07s\tremaining: 6.92s\n",
      "134:\tlearn: 4.0269223\ttotal: 1.08s\tremaining: 6.91s\n",
      "135:\tlearn: 4.0247571\ttotal: 1.08s\tremaining: 6.9s\n",
      "136:\tlearn: 4.0238158\ttotal: 1.09s\tremaining: 6.89s\n",
      "137:\tlearn: 4.0229813\ttotal: 1.1s\tremaining: 6.88s\n",
      "138:\tlearn: 4.0224042\ttotal: 1.11s\tremaining: 6.88s\n",
      "139:\tlearn: 4.0203682\ttotal: 1.12s\tremaining: 6.86s\n",
      "140:\tlearn: 4.0180465\ttotal: 1.13s\tremaining: 6.87s\n",
      "141:\tlearn: 4.0168638\ttotal: 1.13s\tremaining: 6.85s\n",
      "142:\tlearn: 4.0163058\ttotal: 1.14s\tremaining: 6.85s\n",
      "143:\tlearn: 4.0112149\ttotal: 1.15s\tremaining: 6.84s\n",
      "144:\tlearn: 4.0104306\ttotal: 1.16s\tremaining: 6.83s\n",
      "145:\tlearn: 4.0076769\ttotal: 1.17s\tremaining: 6.82s\n",
      "146:\tlearn: 4.0068754\ttotal: 1.17s\tremaining: 6.82s\n",
      "147:\tlearn: 4.0060790\ttotal: 1.18s\tremaining: 6.8s\n",
      "148:\tlearn: 4.0041310\ttotal: 1.19s\tremaining: 6.8s\n",
      "149:\tlearn: 4.0030396\ttotal: 1.2s\tremaining: 6.79s\n",
      "150:\tlearn: 3.9989643\ttotal: 1.21s\tremaining: 6.8s\n",
      "151:\tlearn: 3.9984242\ttotal: 1.22s\tremaining: 6.78s\n",
      "152:\tlearn: 3.9973525\ttotal: 1.23s\tremaining: 6.79s\n",
      "153:\tlearn: 3.9960871\ttotal: 1.23s\tremaining: 6.78s\n",
      "154:\tlearn: 3.9934343\ttotal: 1.24s\tremaining: 6.78s\n",
      "155:\tlearn: 3.9911509\ttotal: 1.25s\tremaining: 6.79s\n",
      "156:\tlearn: 3.9904728\ttotal: 1.26s\tremaining: 6.78s\n",
      "157:\tlearn: 3.9872545\ttotal: 1.27s\tremaining: 6.79s\n",
      "158:\tlearn: 3.9865659\ttotal: 1.28s\tremaining: 6.77s\n",
      "159:\tlearn: 3.9846611\ttotal: 1.29s\tremaining: 6.78s\n",
      "160:\tlearn: 3.9797165\ttotal: 1.3s\tremaining: 6.76s\n",
      "161:\tlearn: 3.9787072\ttotal: 1.31s\tremaining: 6.76s\n",
      "162:\tlearn: 3.9779990\ttotal: 1.31s\tremaining: 6.75s\n",
      "163:\tlearn: 3.9769966\ttotal: 1.32s\tremaining: 6.75s\n",
      "164:\tlearn: 3.9762490\ttotal: 1.33s\tremaining: 6.73s\n",
      "165:\tlearn: 3.9749424\ttotal: 1.34s\tremaining: 6.73s\n",
      "166:\tlearn: 3.9739297\ttotal: 1.35s\tremaining: 6.72s\n",
      "167:\tlearn: 3.9732159\ttotal: 1.36s\tremaining: 6.72s\n",
      "168:\tlearn: 3.9722823\ttotal: 1.38s\tremaining: 6.78s\n",
      "169:\tlearn: 3.9709210\ttotal: 1.4s\tremaining: 6.84s\n",
      "170:\tlearn: 3.9700099\ttotal: 1.42s\tremaining: 6.87s\n",
      "171:\tlearn: 3.9688975\ttotal: 1.44s\tremaining: 6.95s\n",
      "172:\tlearn: 3.9675465\ttotal: 1.45s\tremaining: 6.96s\n",
      "173:\tlearn: 3.9669119\ttotal: 1.46s\tremaining: 6.95s\n",
      "174:\tlearn: 3.9657582\ttotal: 1.48s\tremaining: 6.96s\n",
      "175:\tlearn: 3.9646668\ttotal: 1.49s\tremaining: 6.96s\n",
      "176:\tlearn: 3.9638647\ttotal: 1.49s\tremaining: 6.94s\n",
      "177:\tlearn: 3.9626943\ttotal: 1.5s\tremaining: 6.94s\n",
      "178:\tlearn: 3.9617345\ttotal: 1.51s\tremaining: 6.92s\n",
      "179:\tlearn: 3.9588180\ttotal: 1.52s\tremaining: 6.92s\n",
      "180:\tlearn: 3.9575110\ttotal: 1.53s\tremaining: 6.91s\n",
      "181:\tlearn: 3.9566134\ttotal: 1.53s\tremaining: 6.9s\n",
      "182:\tlearn: 3.9559776\ttotal: 1.54s\tremaining: 6.88s\n",
      "183:\tlearn: 3.9549854\ttotal: 1.55s\tremaining: 6.88s\n",
      "184:\tlearn: 3.9542046\ttotal: 1.56s\tremaining: 6.87s\n",
      "185:\tlearn: 3.9534514\ttotal: 1.57s\tremaining: 6.86s\n",
      "186:\tlearn: 3.9519654\ttotal: 1.57s\tremaining: 6.84s\n",
      "187:\tlearn: 3.9507709\ttotal: 1.58s\tremaining: 6.83s\n",
      "188:\tlearn: 3.9498643\ttotal: 1.59s\tremaining: 6.81s\n",
      "189:\tlearn: 3.9489386\ttotal: 1.6s\tremaining: 6.81s\n",
      "190:\tlearn: 3.9483116\ttotal: 1.6s\tremaining: 6.79s\n",
      "191:\tlearn: 3.9477549\ttotal: 1.61s\tremaining: 6.79s\n",
      "192:\tlearn: 3.9451811\ttotal: 1.62s\tremaining: 6.77s\n",
      "193:\tlearn: 3.9446037\ttotal: 1.63s\tremaining: 6.77s\n",
      "194:\tlearn: 3.9437750\ttotal: 1.64s\tremaining: 6.75s\n",
      "195:\tlearn: 3.9431534\ttotal: 1.65s\tremaining: 6.76s\n",
      "196:\tlearn: 3.9425332\ttotal: 1.65s\tremaining: 6.74s\n",
      "197:\tlearn: 3.9414984\ttotal: 1.66s\tremaining: 6.74s\n",
      "198:\tlearn: 3.9406933\ttotal: 1.67s\tremaining: 6.72s\n",
      "199:\tlearn: 3.9392094\ttotal: 1.68s\tremaining: 6.72s\n",
      "200:\tlearn: 3.9374838\ttotal: 1.69s\tremaining: 6.7s\n",
      "201:\tlearn: 3.9370098\ttotal: 1.7s\tremaining: 6.7s\n",
      "202:\tlearn: 3.9363309\ttotal: 1.7s\tremaining: 6.68s\n",
      "203:\tlearn: 3.9340854\ttotal: 1.71s\tremaining: 6.67s\n",
      "204:\tlearn: 3.9335424\ttotal: 1.71s\tremaining: 6.65s\n",
      "205:\tlearn: 3.9321678\ttotal: 1.72s\tremaining: 6.64s\n",
      "206:\tlearn: 3.9305406\ttotal: 1.73s\tremaining: 6.62s\n",
      "207:\tlearn: 3.9297897\ttotal: 1.73s\tremaining: 6.6s\n",
      "208:\tlearn: 3.9285837\ttotal: 1.74s\tremaining: 6.59s\n",
      "209:\tlearn: 3.9275192\ttotal: 1.75s\tremaining: 6.57s\n",
      "210:\tlearn: 3.9254013\ttotal: 1.75s\tremaining: 6.56s\n",
      "211:\tlearn: 3.9245183\ttotal: 1.76s\tremaining: 6.54s\n",
      "212:\tlearn: 3.9236279\ttotal: 1.77s\tremaining: 6.53s\n",
      "213:\tlearn: 3.9222601\ttotal: 1.77s\tremaining: 6.51s\n",
      "214:\tlearn: 3.9217269\ttotal: 1.78s\tremaining: 6.49s\n",
      "215:\tlearn: 3.9207479\ttotal: 1.78s\tremaining: 6.48s\n",
      "216:\tlearn: 3.9165868\ttotal: 1.79s\tremaining: 6.46s\n",
      "217:\tlearn: 3.9158171\ttotal: 1.8s\tremaining: 6.44s\n",
      "218:\tlearn: 3.9147765\ttotal: 1.8s\tremaining: 6.43s\n",
      "219:\tlearn: 3.9140508\ttotal: 1.81s\tremaining: 6.41s\n",
      "220:\tlearn: 3.9133693\ttotal: 1.81s\tremaining: 6.4s\n",
      "221:\tlearn: 3.9121086\ttotal: 1.82s\tremaining: 6.39s\n",
      "222:\tlearn: 3.9112694\ttotal: 1.83s\tremaining: 6.37s\n",
      "223:\tlearn: 3.9104728\ttotal: 1.84s\tremaining: 6.37s\n",
      "224:\tlearn: 3.9099091\ttotal: 1.84s\tremaining: 6.35s\n",
      "225:\tlearn: 3.9064482\ttotal: 1.85s\tremaining: 6.34s\n",
      "226:\tlearn: 3.9049370\ttotal: 1.86s\tremaining: 6.33s\n",
      "227:\tlearn: 3.9030649\ttotal: 1.87s\tremaining: 6.32s\n",
      "228:\tlearn: 3.9023554\ttotal: 1.87s\tremaining: 6.31s\n",
      "229:\tlearn: 3.9007418\ttotal: 1.88s\tremaining: 6.3s\n",
      "230:\tlearn: 3.9000152\ttotal: 1.89s\tremaining: 6.28s\n",
      "231:\tlearn: 3.8992405\ttotal: 1.89s\tremaining: 6.27s\n",
      "232:\tlearn: 3.8985096\ttotal: 1.9s\tremaining: 6.25s\n",
      "233:\tlearn: 3.8978889\ttotal: 1.91s\tremaining: 6.24s\n",
      "234:\tlearn: 3.8972793\ttotal: 1.91s\tremaining: 6.22s\n",
      "235:\tlearn: 3.8966482\ttotal: 1.92s\tremaining: 6.21s\n",
      "236:\tlearn: 3.8959157\ttotal: 1.92s\tremaining: 6.19s\n",
      "237:\tlearn: 3.8943861\ttotal: 1.93s\tremaining: 6.18s\n",
      "238:\tlearn: 3.8934166\ttotal: 1.94s\tremaining: 6.17s\n",
      "239:\tlearn: 3.8923556\ttotal: 1.94s\tremaining: 6.15s\n",
      "240:\tlearn: 3.8916128\ttotal: 1.95s\tremaining: 6.14s\n",
      "241:\tlearn: 3.8909366\ttotal: 1.96s\tremaining: 6.13s\n",
      "242:\tlearn: 3.8901802\ttotal: 1.96s\tremaining: 6.11s\n",
      "243:\tlearn: 3.8883929\ttotal: 1.97s\tremaining: 6.1s\n",
      "244:\tlearn: 3.8874613\ttotal: 1.97s\tremaining: 6.08s\n",
      "245:\tlearn: 3.8867838\ttotal: 1.98s\tremaining: 6.07s\n",
      "246:\tlearn: 3.8854732\ttotal: 1.99s\tremaining: 6.06s\n",
      "247:\tlearn: 3.8846334\ttotal: 1.99s\tremaining: 6.05s\n",
      "248:\tlearn: 3.8840145\ttotal: 2s\tremaining: 6.04s\n",
      "249:\tlearn: 3.8816843\ttotal: 2.01s\tremaining: 6.02s\n",
      "250:\tlearn: 3.8807529\ttotal: 2.01s\tremaining: 6.01s\n",
      "251:\tlearn: 3.8799993\ttotal: 2.02s\tremaining: 6s\n",
      "252:\tlearn: 3.8793050\ttotal: 2.02s\tremaining: 5.98s\n",
      "253:\tlearn: 3.8786174\ttotal: 2.03s\tremaining: 5.97s\n",
      "254:\tlearn: 3.8779283\ttotal: 2.04s\tremaining: 5.96s\n",
      "255:\tlearn: 3.8766056\ttotal: 2.05s\tremaining: 5.95s\n",
      "256:\tlearn: 3.8754974\ttotal: 2.05s\tremaining: 5.94s\n",
      "257:\tlearn: 3.8746672\ttotal: 2.06s\tremaining: 5.93s\n",
      "258:\tlearn: 3.8738694\ttotal: 2.07s\tremaining: 5.92s\n",
      "259:\tlearn: 3.8722592\ttotal: 2.08s\tremaining: 5.91s\n",
      "260:\tlearn: 3.8715229\ttotal: 2.08s\tremaining: 5.9s\n",
      "261:\tlearn: 3.8708893\ttotal: 2.09s\tremaining: 5.88s\n",
      "262:\tlearn: 3.8697412\ttotal: 2.1s\tremaining: 5.87s\n",
      "263:\tlearn: 3.8689184\ttotal: 2.1s\tremaining: 5.86s\n",
      "264:\tlearn: 3.8682276\ttotal: 2.11s\tremaining: 5.85s\n",
      "265:\tlearn: 3.8673623\ttotal: 2.11s\tremaining: 5.83s\n",
      "266:\tlearn: 3.8665808\ttotal: 2.12s\tremaining: 5.82s\n",
      "267:\tlearn: 3.8658435\ttotal: 2.13s\tremaining: 5.81s\n",
      "268:\tlearn: 3.8649450\ttotal: 2.13s\tremaining: 5.8s\n",
      "269:\tlearn: 3.8643307\ttotal: 2.14s\tremaining: 5.79s\n",
      "270:\tlearn: 3.8633375\ttotal: 2.15s\tremaining: 5.78s\n",
      "271:\tlearn: 3.8628434\ttotal: 2.15s\tremaining: 5.76s\n",
      "272:\tlearn: 3.8622619\ttotal: 2.16s\tremaining: 5.75s\n",
      "273:\tlearn: 3.8611814\ttotal: 2.17s\tremaining: 5.74s\n",
      "274:\tlearn: 3.8606647\ttotal: 2.17s\tremaining: 5.73s\n",
      "275:\tlearn: 3.8600338\ttotal: 2.18s\tremaining: 5.71s\n",
      "276:\tlearn: 3.8564366\ttotal: 2.18s\tremaining: 5.7s\n",
      "277:\tlearn: 3.8558066\ttotal: 2.19s\tremaining: 5.69s\n",
      "278:\tlearn: 3.8552197\ttotal: 2.2s\tremaining: 5.68s\n",
      "279:\tlearn: 3.8547736\ttotal: 2.2s\tremaining: 5.66s\n",
      "280:\tlearn: 3.8542385\ttotal: 2.21s\tremaining: 5.65s\n",
      "281:\tlearn: 3.8535987\ttotal: 2.21s\tremaining: 5.64s\n",
      "282:\tlearn: 3.8528199\ttotal: 2.22s\tremaining: 5.63s\n",
      "283:\tlearn: 3.8523740\ttotal: 2.23s\tremaining: 5.61s\n",
      "284:\tlearn: 3.8514305\ttotal: 2.23s\tremaining: 5.6s\n",
      "285:\tlearn: 3.8509085\ttotal: 2.24s\tremaining: 5.59s\n",
      "286:\tlearn: 3.8504123\ttotal: 2.24s\tremaining: 5.58s\n",
      "287:\tlearn: 3.8500754\ttotal: 2.25s\tremaining: 5.56s\n",
      "288:\tlearn: 3.8494496\ttotal: 2.26s\tremaining: 5.56s\n",
      "289:\tlearn: 3.8489273\ttotal: 2.27s\tremaining: 5.55s\n",
      "290:\tlearn: 3.8485739\ttotal: 2.27s\tremaining: 5.54s\n",
      "291:\tlearn: 3.8477056\ttotal: 2.28s\tremaining: 5.53s\n",
      "292:\tlearn: 3.8469547\ttotal: 2.29s\tremaining: 5.52s\n",
      "293:\tlearn: 3.8458469\ttotal: 2.29s\tremaining: 5.51s\n",
      "294:\tlearn: 3.8451467\ttotal: 2.3s\tremaining: 5.5s\n",
      "295:\tlearn: 3.8444845\ttotal: 2.31s\tremaining: 5.48s\n",
      "296:\tlearn: 3.8438910\ttotal: 2.31s\tremaining: 5.47s\n",
      "297:\tlearn: 3.8434308\ttotal: 2.32s\tremaining: 5.46s\n",
      "298:\tlearn: 3.8424730\ttotal: 2.32s\tremaining: 5.45s\n",
      "299:\tlearn: 3.8417601\ttotal: 2.33s\tremaining: 5.43s\n",
      "300:\tlearn: 3.8407652\ttotal: 2.33s\tremaining: 5.42s\n",
      "301:\tlearn: 3.8402771\ttotal: 2.34s\tremaining: 5.41s\n",
      "302:\tlearn: 3.8397208\ttotal: 2.35s\tremaining: 5.4s\n",
      "303:\tlearn: 3.8391080\ttotal: 2.35s\tremaining: 5.39s\n",
      "304:\tlearn: 3.8383721\ttotal: 2.36s\tremaining: 5.37s\n",
      "305:\tlearn: 3.8378764\ttotal: 2.37s\tremaining: 5.36s\n",
      "306:\tlearn: 3.8370916\ttotal: 2.37s\tremaining: 5.35s\n",
      "307:\tlearn: 3.8367593\ttotal: 2.38s\tremaining: 5.34s\n",
      "308:\tlearn: 3.8362493\ttotal: 2.39s\tremaining: 5.34s\n",
      "309:\tlearn: 3.8351049\ttotal: 2.39s\tremaining: 5.33s\n",
      "310:\tlearn: 3.8344754\ttotal: 2.4s\tremaining: 5.32s\n",
      "311:\tlearn: 3.8331036\ttotal: 2.41s\tremaining: 5.31s\n",
      "312:\tlearn: 3.8325012\ttotal: 2.41s\tremaining: 5.3s\n",
      "313:\tlearn: 3.8317263\ttotal: 2.42s\tremaining: 5.29s\n",
      "314:\tlearn: 3.8311659\ttotal: 2.42s\tremaining: 5.27s\n",
      "315:\tlearn: 3.8304862\ttotal: 2.43s\tremaining: 5.26s\n",
      "316:\tlearn: 3.8298981\ttotal: 2.44s\tremaining: 5.25s\n",
      "317:\tlearn: 3.8293832\ttotal: 2.44s\tremaining: 5.24s\n",
      "318:\tlearn: 3.8289048\ttotal: 2.45s\tremaining: 5.23s\n",
      "319:\tlearn: 3.8281841\ttotal: 2.46s\tremaining: 5.22s\n",
      "320:\tlearn: 3.8274346\ttotal: 2.47s\tremaining: 5.22s\n",
      "321:\tlearn: 3.8269649\ttotal: 2.47s\tremaining: 5.21s\n",
      "322:\tlearn: 3.8262864\ttotal: 2.48s\tremaining: 5.2s\n",
      "323:\tlearn: 3.8256224\ttotal: 2.48s\tremaining: 5.19s\n",
      "324:\tlearn: 3.8247255\ttotal: 2.49s\tremaining: 5.17s\n",
      "325:\tlearn: 3.8240971\ttotal: 2.5s\tremaining: 5.17s\n",
      "326:\tlearn: 3.8234065\ttotal: 2.5s\tremaining: 5.15s\n",
      "327:\tlearn: 3.8224818\ttotal: 2.51s\tremaining: 5.15s\n",
      "328:\tlearn: 3.8214309\ttotal: 2.52s\tremaining: 5.13s\n",
      "329:\tlearn: 3.8208810\ttotal: 2.52s\tremaining: 5.12s\n",
      "330:\tlearn: 3.8201088\ttotal: 2.53s\tremaining: 5.12s\n",
      "331:\tlearn: 3.8194011\ttotal: 2.54s\tremaining: 5.1s\n",
      "332:\tlearn: 3.8188282\ttotal: 2.54s\tremaining: 5.09s\n",
      "333:\tlearn: 3.8182321\ttotal: 2.55s\tremaining: 5.08s\n",
      "334:\tlearn: 3.8173316\ttotal: 2.55s\tremaining: 5.07s\n",
      "335:\tlearn: 3.8169314\ttotal: 2.56s\tremaining: 5.06s\n",
      "336:\tlearn: 3.8161665\ttotal: 2.57s\tremaining: 5.05s\n",
      "337:\tlearn: 3.8151941\ttotal: 2.57s\tremaining: 5.04s\n",
      "338:\tlearn: 3.8144908\ttotal: 2.58s\tremaining: 5.03s\n",
      "339:\tlearn: 3.8140023\ttotal: 2.58s\tremaining: 5.02s\n",
      "340:\tlearn: 3.8133069\ttotal: 2.59s\tremaining: 5.01s\n",
      "341:\tlearn: 3.8127251\ttotal: 2.6s\tremaining: 5s\n",
      "342:\tlearn: 3.8123504\ttotal: 2.6s\tremaining: 4.99s\n",
      "343:\tlearn: 3.8115504\ttotal: 2.61s\tremaining: 4.98s\n",
      "344:\tlearn: 3.8109339\ttotal: 2.62s\tremaining: 4.96s\n",
      "345:\tlearn: 3.8102766\ttotal: 2.62s\tremaining: 4.95s\n",
      "346:\tlearn: 3.8097652\ttotal: 2.63s\tremaining: 4.94s\n",
      "347:\tlearn: 3.8091569\ttotal: 2.63s\tremaining: 4.93s\n",
      "348:\tlearn: 3.8086491\ttotal: 2.64s\tremaining: 4.93s\n",
      "349:\tlearn: 3.8084131\ttotal: 2.65s\tremaining: 4.92s\n",
      "350:\tlearn: 3.8079563\ttotal: 2.65s\tremaining: 4.91s\n",
      "351:\tlearn: 3.8056329\ttotal: 2.66s\tremaining: 4.9s\n",
      "352:\tlearn: 3.8046899\ttotal: 2.67s\tremaining: 4.89s\n",
      "353:\tlearn: 3.8038103\ttotal: 2.68s\tremaining: 4.88s\n",
      "354:\tlearn: 3.8030840\ttotal: 2.68s\tremaining: 4.87s\n",
      "355:\tlearn: 3.8023851\ttotal: 2.69s\tremaining: 4.87s\n",
      "356:\tlearn: 3.8020069\ttotal: 2.7s\tremaining: 4.86s\n",
      "357:\tlearn: 3.8015733\ttotal: 2.7s\tremaining: 4.84s\n",
      "358:\tlearn: 3.8008049\ttotal: 2.71s\tremaining: 4.84s\n",
      "359:\tlearn: 3.8003713\ttotal: 2.71s\tremaining: 4.83s\n",
      "360:\tlearn: 3.7997117\ttotal: 2.72s\tremaining: 4.82s\n",
      "361:\tlearn: 3.7991636\ttotal: 2.73s\tremaining: 4.81s\n",
      "362:\tlearn: 3.7982805\ttotal: 2.73s\tremaining: 4.8s\n",
      "363:\tlearn: 3.7977236\ttotal: 2.74s\tremaining: 4.79s\n",
      "364:\tlearn: 3.7972345\ttotal: 2.75s\tremaining: 4.78s\n",
      "365:\tlearn: 3.7966944\ttotal: 2.75s\tremaining: 4.77s\n",
      "366:\tlearn: 3.7960760\ttotal: 2.76s\tremaining: 4.76s\n",
      "367:\tlearn: 3.7956541\ttotal: 2.76s\tremaining: 4.75s\n",
      "368:\tlearn: 3.7940268\ttotal: 2.77s\tremaining: 4.74s\n",
      "369:\tlearn: 3.7934576\ttotal: 2.78s\tremaining: 4.73s\n",
      "370:\tlearn: 3.7928554\ttotal: 2.78s\tremaining: 4.72s\n",
      "371:\tlearn: 3.7923117\ttotal: 2.79s\tremaining: 4.71s\n",
      "372:\tlearn: 3.7918794\ttotal: 2.79s\tremaining: 4.7s\n",
      "373:\tlearn: 3.7911559\ttotal: 2.8s\tremaining: 4.69s\n",
      "374:\tlearn: 3.7908262\ttotal: 2.81s\tremaining: 4.68s\n",
      "375:\tlearn: 3.7901654\ttotal: 2.81s\tremaining: 4.67s\n",
      "376:\tlearn: 3.7882088\ttotal: 2.82s\tremaining: 4.66s\n",
      "377:\tlearn: 3.7876661\ttotal: 2.83s\tremaining: 4.65s\n",
      "378:\tlearn: 3.7871177\ttotal: 2.83s\tremaining: 4.64s\n",
      "379:\tlearn: 3.7865489\ttotal: 2.84s\tremaining: 4.63s\n",
      "380:\tlearn: 3.7860093\ttotal: 2.85s\tremaining: 4.62s\n",
      "381:\tlearn: 3.7855633\ttotal: 2.85s\tremaining: 4.61s\n",
      "382:\tlearn: 3.7850651\ttotal: 2.86s\tremaining: 4.61s\n",
      "383:\tlearn: 3.7846574\ttotal: 2.87s\tremaining: 4.6s\n",
      "384:\tlearn: 3.7840693\ttotal: 2.87s\tremaining: 4.59s\n",
      "385:\tlearn: 3.7835446\ttotal: 2.88s\tremaining: 4.58s\n",
      "386:\tlearn: 3.7829234\ttotal: 2.89s\tremaining: 4.57s\n",
      "387:\tlearn: 3.7822783\ttotal: 2.89s\tremaining: 4.56s\n",
      "388:\tlearn: 3.7804729\ttotal: 2.9s\tremaining: 4.56s\n",
      "389:\tlearn: 3.7800101\ttotal: 2.91s\tremaining: 4.55s\n",
      "390:\tlearn: 3.7796456\ttotal: 2.91s\tremaining: 4.54s\n",
      "391:\tlearn: 3.7790944\ttotal: 2.92s\tremaining: 4.53s\n",
      "392:\tlearn: 3.7784939\ttotal: 2.93s\tremaining: 4.52s\n",
      "393:\tlearn: 3.7778007\ttotal: 2.93s\tremaining: 4.51s\n",
      "394:\tlearn: 3.7767839\ttotal: 2.94s\tremaining: 4.5s\n",
      "395:\tlearn: 3.7765020\ttotal: 2.94s\tremaining: 4.49s\n",
      "396:\tlearn: 3.7759583\ttotal: 2.95s\tremaining: 4.48s\n",
      "397:\tlearn: 3.7746390\ttotal: 2.96s\tremaining: 4.47s\n",
      "398:\tlearn: 3.7741386\ttotal: 2.96s\tremaining: 4.47s\n",
      "399:\tlearn: 3.7738439\ttotal: 2.97s\tremaining: 4.46s\n",
      "400:\tlearn: 3.7734412\ttotal: 2.98s\tremaining: 4.45s\n",
      "401:\tlearn: 3.7729551\ttotal: 2.98s\tremaining: 4.44s\n",
      "402:\tlearn: 3.7724181\ttotal: 2.99s\tremaining: 4.43s\n",
      "403:\tlearn: 3.7718834\ttotal: 3s\tremaining: 4.42s\n",
      "404:\tlearn: 3.7714712\ttotal: 3s\tremaining: 4.41s\n",
      "405:\tlearn: 3.7708774\ttotal: 3.01s\tremaining: 4.4s\n",
      "406:\tlearn: 3.7703446\ttotal: 3.02s\tremaining: 4.39s\n",
      "407:\tlearn: 3.7698270\ttotal: 3.02s\tremaining: 4.38s\n",
      "408:\tlearn: 3.7690901\ttotal: 3.03s\tremaining: 4.38s\n",
      "409:\tlearn: 3.7687023\ttotal: 3.03s\tremaining: 4.37s\n",
      "410:\tlearn: 3.7675993\ttotal: 3.04s\tremaining: 4.36s\n",
      "411:\tlearn: 3.7671484\ttotal: 3.05s\tremaining: 4.35s\n",
      "412:\tlearn: 3.7665483\ttotal: 3.05s\tremaining: 4.34s\n",
      "413:\tlearn: 3.7661609\ttotal: 3.06s\tremaining: 4.33s\n",
      "414:\tlearn: 3.7646646\ttotal: 3.07s\tremaining: 4.32s\n",
      "415:\tlearn: 3.7641361\ttotal: 3.08s\tremaining: 4.32s\n",
      "416:\tlearn: 3.7637440\ttotal: 3.08s\tremaining: 4.31s\n",
      "417:\tlearn: 3.7632051\ttotal: 3.09s\tremaining: 4.3s\n",
      "418:\tlearn: 3.7626874\ttotal: 3.1s\tremaining: 4.3s\n",
      "419:\tlearn: 3.7620504\ttotal: 3.11s\tremaining: 4.29s\n",
      "420:\tlearn: 3.7615952\ttotal: 3.11s\tremaining: 4.28s\n",
      "421:\tlearn: 3.7612899\ttotal: 3.12s\tremaining: 4.27s\n",
      "422:\tlearn: 3.7608786\ttotal: 3.13s\tremaining: 4.26s\n",
      "423:\tlearn: 3.7603308\ttotal: 3.13s\tremaining: 4.25s\n",
      "424:\tlearn: 3.7597998\ttotal: 3.14s\tremaining: 4.25s\n",
      "425:\tlearn: 3.7591607\ttotal: 3.15s\tremaining: 4.24s\n",
      "426:\tlearn: 3.7587286\ttotal: 3.15s\tremaining: 4.23s\n",
      "427:\tlearn: 3.7581564\ttotal: 3.16s\tremaining: 4.22s\n",
      "428:\tlearn: 3.7574032\ttotal: 3.16s\tremaining: 4.21s\n",
      "429:\tlearn: 3.7568498\ttotal: 3.17s\tremaining: 4.2s\n",
      "430:\tlearn: 3.7565955\ttotal: 3.17s\tremaining: 4.19s\n",
      "431:\tlearn: 3.7562147\ttotal: 3.18s\tremaining: 4.18s\n",
      "432:\tlearn: 3.7556767\ttotal: 3.19s\tremaining: 4.17s\n",
      "433:\tlearn: 3.7551974\ttotal: 3.19s\tremaining: 4.17s\n",
      "434:\tlearn: 3.7543220\ttotal: 3.2s\tremaining: 4.16s\n",
      "435:\tlearn: 3.7539523\ttotal: 3.21s\tremaining: 4.15s\n",
      "436:\tlearn: 3.7534921\ttotal: 3.21s\tremaining: 4.14s\n",
      "437:\tlearn: 3.7531357\ttotal: 3.22s\tremaining: 4.13s\n",
      "438:\tlearn: 3.7526272\ttotal: 3.22s\tremaining: 4.12s\n",
      "439:\tlearn: 3.7519648\ttotal: 3.23s\tremaining: 4.11s\n",
      "440:\tlearn: 3.7514546\ttotal: 3.24s\tremaining: 4.1s\n",
      "441:\tlearn: 3.7509479\ttotal: 3.24s\tremaining: 4.09s\n",
      "442:\tlearn: 3.7506267\ttotal: 3.25s\tremaining: 4.09s\n",
      "443:\tlearn: 3.7502959\ttotal: 3.26s\tremaining: 4.08s\n",
      "444:\tlearn: 3.7499297\ttotal: 3.26s\tremaining: 4.07s\n",
      "445:\tlearn: 3.7495991\ttotal: 3.27s\tremaining: 4.06s\n",
      "446:\tlearn: 3.7493360\ttotal: 3.27s\tremaining: 4.05s\n",
      "447:\tlearn: 3.7488739\ttotal: 3.28s\tremaining: 4.04s\n",
      "448:\tlearn: 3.7485526\ttotal: 3.29s\tremaining: 4.04s\n",
      "449:\tlearn: 3.7482272\ttotal: 3.29s\tremaining: 4.03s\n",
      "450:\tlearn: 3.7476864\ttotal: 3.3s\tremaining: 4.02s\n",
      "451:\tlearn: 3.7472312\ttotal: 3.31s\tremaining: 4.01s\n",
      "452:\tlearn: 3.7449517\ttotal: 3.32s\tremaining: 4.01s\n",
      "453:\tlearn: 3.7445441\ttotal: 3.32s\tremaining: 4s\n",
      "454:\tlearn: 3.7439565\ttotal: 3.33s\tremaining: 3.99s\n",
      "455:\tlearn: 3.7436415\ttotal: 3.34s\tremaining: 3.98s\n",
      "456:\tlearn: 3.7427251\ttotal: 3.34s\tremaining: 3.97s\n",
      "457:\tlearn: 3.7421409\ttotal: 3.35s\tremaining: 3.97s\n",
      "458:\tlearn: 3.7414930\ttotal: 3.36s\tremaining: 3.96s\n",
      "459:\tlearn: 3.7409788\ttotal: 3.37s\tremaining: 3.95s\n",
      "460:\tlearn: 3.7405531\ttotal: 3.37s\tremaining: 3.94s\n",
      "461:\tlearn: 3.7402055\ttotal: 3.38s\tremaining: 3.94s\n",
      "462:\tlearn: 3.7398212\ttotal: 3.39s\tremaining: 3.93s\n",
      "463:\tlearn: 3.7390300\ttotal: 3.39s\tremaining: 3.92s\n",
      "464:\tlearn: 3.7386845\ttotal: 3.4s\tremaining: 3.91s\n",
      "465:\tlearn: 3.7382052\ttotal: 3.41s\tremaining: 3.9s\n",
      "466:\tlearn: 3.7376923\ttotal: 3.41s\tremaining: 3.9s\n",
      "467:\tlearn: 3.7371317\ttotal: 3.42s\tremaining: 3.89s\n",
      "468:\tlearn: 3.7367539\ttotal: 3.43s\tremaining: 3.88s\n",
      "469:\tlearn: 3.7360399\ttotal: 3.43s\tremaining: 3.87s\n",
      "470:\tlearn: 3.7357243\ttotal: 3.44s\tremaining: 3.86s\n",
      "471:\tlearn: 3.7350436\ttotal: 3.44s\tremaining: 3.85s\n",
      "472:\tlearn: 3.7348049\ttotal: 3.45s\tremaining: 3.84s\n",
      "473:\tlearn: 3.7344243\ttotal: 3.46s\tremaining: 3.83s\n",
      "474:\tlearn: 3.7341331\ttotal: 3.46s\tremaining: 3.83s\n",
      "475:\tlearn: 3.7337352\ttotal: 3.47s\tremaining: 3.82s\n",
      "476:\tlearn: 3.7332669\ttotal: 3.47s\tremaining: 3.81s\n",
      "477:\tlearn: 3.7329279\ttotal: 3.48s\tremaining: 3.8s\n",
      "478:\tlearn: 3.7325323\ttotal: 3.49s\tremaining: 3.79s\n",
      "479:\tlearn: 3.7320244\ttotal: 3.5s\tremaining: 3.79s\n",
      "480:\tlearn: 3.7315385\ttotal: 3.5s\tremaining: 3.78s\n",
      "481:\tlearn: 3.7311940\ttotal: 3.51s\tremaining: 3.77s\n",
      "482:\tlearn: 3.7304570\ttotal: 3.52s\tremaining: 3.77s\n",
      "483:\tlearn: 3.7300806\ttotal: 3.53s\tremaining: 3.76s\n",
      "484:\tlearn: 3.7293321\ttotal: 3.53s\tremaining: 3.75s\n",
      "485:\tlearn: 3.7287155\ttotal: 3.54s\tremaining: 3.74s\n",
      "486:\tlearn: 3.7281402\ttotal: 3.55s\tremaining: 3.73s\n",
      "487:\tlearn: 3.7275909\ttotal: 3.55s\tremaining: 3.73s\n",
      "488:\tlearn: 3.7269671\ttotal: 3.56s\tremaining: 3.72s\n",
      "489:\tlearn: 3.7264926\ttotal: 3.57s\tremaining: 3.71s\n",
      "490:\tlearn: 3.7255915\ttotal: 3.57s\tremaining: 3.7s\n",
      "491:\tlearn: 3.7252031\ttotal: 3.58s\tremaining: 3.69s\n",
      "492:\tlearn: 3.7246719\ttotal: 3.58s\tremaining: 3.69s\n",
      "493:\tlearn: 3.7243188\ttotal: 3.59s\tremaining: 3.68s\n",
      "494:\tlearn: 3.7239646\ttotal: 3.6s\tremaining: 3.67s\n",
      "495:\tlearn: 3.7233612\ttotal: 3.6s\tremaining: 3.66s\n",
      "496:\tlearn: 3.7227603\ttotal: 3.61s\tremaining: 3.65s\n",
      "497:\tlearn: 3.7221597\ttotal: 3.62s\tremaining: 3.65s\n",
      "498:\tlearn: 3.7215648\ttotal: 3.62s\tremaining: 3.64s\n",
      "499:\tlearn: 3.7211819\ttotal: 3.63s\tremaining: 3.63s\n",
      "500:\tlearn: 3.7208305\ttotal: 3.63s\tremaining: 3.62s\n",
      "501:\tlearn: 3.7201008\ttotal: 3.64s\tremaining: 3.61s\n",
      "502:\tlearn: 3.7194617\ttotal: 3.65s\tremaining: 3.6s\n",
      "503:\tlearn: 3.7189102\ttotal: 3.65s\tremaining: 3.6s\n",
      "504:\tlearn: 3.7184003\ttotal: 3.66s\tremaining: 3.59s\n",
      "505:\tlearn: 3.7179576\ttotal: 3.67s\tremaining: 3.58s\n",
      "506:\tlearn: 3.7175241\ttotal: 3.67s\tremaining: 3.57s\n",
      "507:\tlearn: 3.7172033\ttotal: 3.68s\tremaining: 3.56s\n",
      "508:\tlearn: 3.7162440\ttotal: 3.69s\tremaining: 3.56s\n",
      "509:\tlearn: 3.7158721\ttotal: 3.69s\tremaining: 3.55s\n",
      "510:\tlearn: 3.7152888\ttotal: 3.7s\tremaining: 3.54s\n",
      "511:\tlearn: 3.7148372\ttotal: 3.71s\tremaining: 3.54s\n",
      "512:\tlearn: 3.7143845\ttotal: 3.71s\tremaining: 3.53s\n",
      "513:\tlearn: 3.7135465\ttotal: 3.72s\tremaining: 3.52s\n",
      "514:\tlearn: 3.7129070\ttotal: 3.73s\tremaining: 3.51s\n",
      "515:\tlearn: 3.7123421\ttotal: 3.74s\tremaining: 3.5s\n",
      "516:\tlearn: 3.7119694\ttotal: 3.74s\tremaining: 3.5s\n",
      "517:\tlearn: 3.7115668\ttotal: 3.75s\tremaining: 3.49s\n",
      "518:\tlearn: 3.7111367\ttotal: 3.75s\tremaining: 3.48s\n",
      "519:\tlearn: 3.7105910\ttotal: 3.76s\tremaining: 3.47s\n",
      "520:\tlearn: 3.7101878\ttotal: 3.77s\tremaining: 3.46s\n",
      "521:\tlearn: 3.7097595\ttotal: 3.77s\tremaining: 3.45s\n",
      "522:\tlearn: 3.7092805\ttotal: 3.78s\tremaining: 3.45s\n",
      "523:\tlearn: 3.7086047\ttotal: 3.79s\tremaining: 3.44s\n",
      "524:\tlearn: 3.7079658\ttotal: 3.79s\tremaining: 3.43s\n",
      "525:\tlearn: 3.7074568\ttotal: 3.8s\tremaining: 3.42s\n",
      "526:\tlearn: 3.7070025\ttotal: 3.81s\tremaining: 3.42s\n",
      "527:\tlearn: 3.7064723\ttotal: 3.81s\tremaining: 3.41s\n",
      "528:\tlearn: 3.7060082\ttotal: 3.82s\tremaining: 3.4s\n",
      "529:\tlearn: 3.7056480\ttotal: 3.83s\tremaining: 3.39s\n",
      "530:\tlearn: 3.7051843\ttotal: 3.83s\tremaining: 3.38s\n",
      "531:\tlearn: 3.7047397\ttotal: 3.84s\tremaining: 3.38s\n",
      "532:\tlearn: 3.7042273\ttotal: 3.85s\tremaining: 3.37s\n",
      "533:\tlearn: 3.7037204\ttotal: 3.85s\tremaining: 3.36s\n",
      "534:\tlearn: 3.7030700\ttotal: 3.86s\tremaining: 3.35s\n",
      "535:\tlearn: 3.7027212\ttotal: 3.86s\tremaining: 3.35s\n",
      "536:\tlearn: 3.7024512\ttotal: 3.87s\tremaining: 3.34s\n",
      "537:\tlearn: 3.7019952\ttotal: 3.88s\tremaining: 3.33s\n",
      "538:\tlearn: 3.7016714\ttotal: 3.88s\tremaining: 3.32s\n",
      "539:\tlearn: 3.7012795\ttotal: 3.89s\tremaining: 3.31s\n",
      "540:\tlearn: 3.7009616\ttotal: 3.9s\tremaining: 3.31s\n",
      "541:\tlearn: 3.7005494\ttotal: 3.91s\tremaining: 3.3s\n",
      "542:\tlearn: 3.7001869\ttotal: 3.91s\tremaining: 3.29s\n",
      "543:\tlearn: 3.6998755\ttotal: 3.92s\tremaining: 3.29s\n",
      "544:\tlearn: 3.6995162\ttotal: 3.92s\tremaining: 3.28s\n",
      "545:\tlearn: 3.6989890\ttotal: 3.93s\tremaining: 3.27s\n",
      "546:\tlearn: 3.6984117\ttotal: 3.94s\tremaining: 3.26s\n",
      "547:\tlearn: 3.6979882\ttotal: 3.95s\tremaining: 3.26s\n",
      "548:\tlearn: 3.6978126\ttotal: 3.95s\tremaining: 3.25s\n",
      "549:\tlearn: 3.6972754\ttotal: 3.96s\tremaining: 3.24s\n",
      "550:\tlearn: 3.6968802\ttotal: 3.96s\tremaining: 3.23s\n",
      "551:\tlearn: 3.6962974\ttotal: 3.97s\tremaining: 3.22s\n",
      "552:\tlearn: 3.6949141\ttotal: 3.98s\tremaining: 3.21s\n",
      "553:\tlearn: 3.6943633\ttotal: 3.98s\tremaining: 3.21s\n",
      "554:\tlearn: 3.6940120\ttotal: 3.99s\tremaining: 3.2s\n",
      "555:\tlearn: 3.6936745\ttotal: 4s\tremaining: 3.19s\n",
      "556:\tlearn: 3.6932663\ttotal: 4s\tremaining: 3.18s\n",
      "557:\tlearn: 3.6929235\ttotal: 4.01s\tremaining: 3.18s\n",
      "558:\tlearn: 3.6925144\ttotal: 4.01s\tremaining: 3.17s\n",
      "559:\tlearn: 3.6920820\ttotal: 4.02s\tremaining: 3.16s\n",
      "560:\tlearn: 3.6915038\ttotal: 4.03s\tremaining: 3.15s\n",
      "561:\tlearn: 3.6909130\ttotal: 4.03s\tremaining: 3.14s\n",
      "562:\tlearn: 3.6904411\ttotal: 4.04s\tremaining: 3.14s\n",
      "563:\tlearn: 3.6899768\ttotal: 4.05s\tremaining: 3.13s\n",
      "564:\tlearn: 3.6892825\ttotal: 4.05s\tremaining: 3.12s\n",
      "565:\tlearn: 3.6887313\ttotal: 4.06s\tremaining: 3.11s\n",
      "566:\tlearn: 3.6883067\ttotal: 4.07s\tremaining: 3.11s\n",
      "567:\tlearn: 3.6880249\ttotal: 4.08s\tremaining: 3.1s\n",
      "568:\tlearn: 3.6876837\ttotal: 4.09s\tremaining: 3.1s\n",
      "569:\tlearn: 3.6872176\ttotal: 4.09s\tremaining: 3.09s\n",
      "570:\tlearn: 3.6867946\ttotal: 4.1s\tremaining: 3.08s\n",
      "571:\tlearn: 3.6864063\ttotal: 4.11s\tremaining: 3.07s\n",
      "572:\tlearn: 3.6859672\ttotal: 4.12s\tremaining: 3.07s\n",
      "573:\tlearn: 3.6855629\ttotal: 4.12s\tremaining: 3.06s\n",
      "574:\tlearn: 3.6849893\ttotal: 4.13s\tremaining: 3.05s\n",
      "575:\tlearn: 3.6846485\ttotal: 4.13s\tremaining: 3.04s\n",
      "576:\tlearn: 3.6842318\ttotal: 4.14s\tremaining: 3.04s\n",
      "577:\tlearn: 3.6837044\ttotal: 4.15s\tremaining: 3.03s\n",
      "578:\tlearn: 3.6832563\ttotal: 4.15s\tremaining: 3.02s\n",
      "579:\tlearn: 3.6830045\ttotal: 4.16s\tremaining: 3.01s\n",
      "580:\tlearn: 3.6825598\ttotal: 4.16s\tremaining: 3s\n",
      "581:\tlearn: 3.6821735\ttotal: 4.17s\tremaining: 3s\n",
      "582:\tlearn: 3.6815169\ttotal: 4.17s\tremaining: 2.99s\n",
      "583:\tlearn: 3.6811003\ttotal: 4.18s\tremaining: 2.98s\n",
      "584:\tlearn: 3.6805580\ttotal: 4.19s\tremaining: 2.97s\n",
      "585:\tlearn: 3.6801267\ttotal: 4.19s\tremaining: 2.96s\n",
      "586:\tlearn: 3.6797050\ttotal: 4.2s\tremaining: 2.95s\n",
      "587:\tlearn: 3.6791570\ttotal: 4.21s\tremaining: 2.95s\n",
      "588:\tlearn: 3.6786932\ttotal: 4.21s\tremaining: 2.94s\n",
      "589:\tlearn: 3.6780393\ttotal: 4.22s\tremaining: 2.93s\n",
      "590:\tlearn: 3.6776794\ttotal: 4.22s\tremaining: 2.92s\n",
      "591:\tlearn: 3.6771953\ttotal: 4.23s\tremaining: 2.92s\n",
      "592:\tlearn: 3.6767985\ttotal: 4.24s\tremaining: 2.91s\n",
      "593:\tlearn: 3.6763535\ttotal: 4.24s\tremaining: 2.9s\n",
      "594:\tlearn: 3.6759569\ttotal: 4.25s\tremaining: 2.89s\n",
      "595:\tlearn: 3.6756779\ttotal: 4.25s\tremaining: 2.88s\n",
      "596:\tlearn: 3.6750551\ttotal: 4.26s\tremaining: 2.88s\n",
      "597:\tlearn: 3.6748634\ttotal: 4.27s\tremaining: 2.87s\n",
      "598:\tlearn: 3.6743242\ttotal: 4.27s\tremaining: 2.86s\n",
      "599:\tlearn: 3.6735144\ttotal: 4.28s\tremaining: 2.85s\n",
      "600:\tlearn: 3.6730807\ttotal: 4.29s\tremaining: 2.85s\n",
      "601:\tlearn: 3.6726217\ttotal: 4.29s\tremaining: 2.84s\n",
      "602:\tlearn: 3.6722352\ttotal: 4.3s\tremaining: 2.83s\n",
      "603:\tlearn: 3.6716909\ttotal: 4.31s\tremaining: 2.83s\n",
      "604:\tlearn: 3.6713867\ttotal: 4.32s\tremaining: 2.82s\n",
      "605:\tlearn: 3.6709481\ttotal: 4.33s\tremaining: 2.81s\n",
      "606:\tlearn: 3.6706497\ttotal: 4.34s\tremaining: 2.81s\n",
      "607:\tlearn: 3.6702048\ttotal: 4.34s\tremaining: 2.8s\n",
      "608:\tlearn: 3.6697046\ttotal: 4.35s\tremaining: 2.79s\n",
      "609:\tlearn: 3.6693149\ttotal: 4.35s\tremaining: 2.78s\n",
      "610:\tlearn: 3.6689302\ttotal: 4.36s\tremaining: 2.77s\n",
      "611:\tlearn: 3.6683556\ttotal: 4.37s\tremaining: 2.77s\n",
      "612:\tlearn: 3.6679273\ttotal: 4.37s\tremaining: 2.76s\n",
      "613:\tlearn: 3.6675768\ttotal: 4.38s\tremaining: 2.75s\n",
      "614:\tlearn: 3.6671205\ttotal: 4.38s\tremaining: 2.74s\n",
      "615:\tlearn: 3.6665990\ttotal: 4.39s\tremaining: 2.74s\n",
      "616:\tlearn: 3.6660560\ttotal: 4.4s\tremaining: 2.73s\n",
      "617:\tlearn: 3.6656063\ttotal: 4.4s\tremaining: 2.72s\n",
      "618:\tlearn: 3.6651422\ttotal: 4.41s\tremaining: 2.71s\n",
      "619:\tlearn: 3.6647398\ttotal: 4.42s\tremaining: 2.71s\n",
      "620:\tlearn: 3.6643072\ttotal: 4.42s\tremaining: 2.7s\n",
      "621:\tlearn: 3.6640568\ttotal: 4.43s\tremaining: 2.69s\n",
      "622:\tlearn: 3.6638264\ttotal: 4.43s\tremaining: 2.68s\n",
      "623:\tlearn: 3.6635028\ttotal: 4.44s\tremaining: 2.67s\n",
      "624:\tlearn: 3.6630267\ttotal: 4.45s\tremaining: 2.67s\n",
      "625:\tlearn: 3.6625119\ttotal: 4.45s\tremaining: 2.66s\n",
      "626:\tlearn: 3.6620761\ttotal: 4.46s\tremaining: 2.65s\n",
      "627:\tlearn: 3.6616330\ttotal: 4.46s\tremaining: 2.64s\n",
      "628:\tlearn: 3.6611226\ttotal: 4.47s\tremaining: 2.64s\n",
      "629:\tlearn: 3.6603254\ttotal: 4.48s\tremaining: 2.63s\n",
      "630:\tlearn: 3.6599441\ttotal: 4.48s\tremaining: 2.62s\n",
      "631:\tlearn: 3.6593057\ttotal: 4.49s\tremaining: 2.61s\n",
      "632:\tlearn: 3.6588207\ttotal: 4.5s\tremaining: 2.61s\n",
      "633:\tlearn: 3.6583580\ttotal: 4.5s\tremaining: 2.6s\n",
      "634:\tlearn: 3.6578656\ttotal: 4.51s\tremaining: 2.59s\n",
      "635:\tlearn: 3.6574118\ttotal: 4.52s\tremaining: 2.58s\n",
      "636:\tlearn: 3.6570336\ttotal: 4.52s\tremaining: 2.58s\n",
      "637:\tlearn: 3.6566306\ttotal: 4.53s\tremaining: 2.57s\n",
      "638:\tlearn: 3.6560893\ttotal: 4.54s\tremaining: 2.56s\n",
      "639:\tlearn: 3.6555863\ttotal: 4.54s\tremaining: 2.56s\n",
      "640:\tlearn: 3.6552101\ttotal: 4.55s\tremaining: 2.55s\n",
      "641:\tlearn: 3.6546391\ttotal: 4.55s\tremaining: 2.54s\n",
      "642:\tlearn: 3.6544013\ttotal: 4.56s\tremaining: 2.53s\n",
      "643:\tlearn: 3.6541604\ttotal: 4.57s\tremaining: 2.52s\n",
      "644:\tlearn: 3.6537976\ttotal: 4.57s\tremaining: 2.52s\n",
      "645:\tlearn: 3.6532679\ttotal: 4.58s\tremaining: 2.51s\n",
      "646:\tlearn: 3.6527313\ttotal: 4.58s\tremaining: 2.5s\n",
      "647:\tlearn: 3.6523790\ttotal: 4.59s\tremaining: 2.49s\n",
      "648:\tlearn: 3.6519768\ttotal: 4.6s\tremaining: 2.49s\n",
      "649:\tlearn: 3.6514258\ttotal: 4.6s\tremaining: 2.48s\n",
      "650:\tlearn: 3.6510219\ttotal: 4.61s\tremaining: 2.47s\n",
      "651:\tlearn: 3.6505358\ttotal: 4.61s\tremaining: 2.46s\n",
      "652:\tlearn: 3.6500316\ttotal: 4.62s\tremaining: 2.46s\n",
      "653:\tlearn: 3.6495540\ttotal: 4.63s\tremaining: 2.45s\n",
      "654:\tlearn: 3.6491074\ttotal: 4.63s\tremaining: 2.44s\n",
      "655:\tlearn: 3.6486594\ttotal: 4.64s\tremaining: 2.43s\n",
      "656:\tlearn: 3.6481857\ttotal: 4.64s\tremaining: 2.42s\n",
      "657:\tlearn: 3.6477059\ttotal: 4.65s\tremaining: 2.42s\n",
      "658:\tlearn: 3.6474384\ttotal: 4.65s\tremaining: 2.41s\n",
      "659:\tlearn: 3.6470383\ttotal: 4.66s\tremaining: 2.4s\n",
      "660:\tlearn: 3.6465487\ttotal: 4.66s\tremaining: 2.39s\n",
      "661:\tlearn: 3.6459846\ttotal: 4.67s\tremaining: 2.38s\n",
      "662:\tlearn: 3.6456640\ttotal: 4.67s\tremaining: 2.38s\n",
      "663:\tlearn: 3.6451919\ttotal: 4.68s\tremaining: 2.37s\n",
      "664:\tlearn: 3.6449049\ttotal: 4.69s\tremaining: 2.36s\n",
      "665:\tlearn: 3.6446800\ttotal: 4.69s\tremaining: 2.35s\n",
      "666:\tlearn: 3.6440337\ttotal: 4.7s\tremaining: 2.35s\n",
      "667:\tlearn: 3.6434131\ttotal: 4.71s\tremaining: 2.34s\n",
      "668:\tlearn: 3.6429231\ttotal: 4.71s\tremaining: 2.33s\n",
      "669:\tlearn: 3.6426718\ttotal: 4.72s\tremaining: 2.32s\n",
      "670:\tlearn: 3.6423940\ttotal: 4.72s\tremaining: 2.32s\n",
      "671:\tlearn: 3.6420237\ttotal: 4.73s\tremaining: 2.31s\n",
      "672:\tlearn: 3.6417402\ttotal: 4.74s\tremaining: 2.3s\n",
      "673:\tlearn: 3.6414854\ttotal: 4.74s\tremaining: 2.29s\n",
      "674:\tlearn: 3.6410122\ttotal: 4.75s\tremaining: 2.29s\n",
      "675:\tlearn: 3.6405158\ttotal: 4.75s\tremaining: 2.28s\n",
      "676:\tlearn: 3.6398898\ttotal: 4.76s\tremaining: 2.27s\n",
      "677:\tlearn: 3.6394257\ttotal: 4.77s\tremaining: 2.26s\n",
      "678:\tlearn: 3.6390310\ttotal: 4.77s\tremaining: 2.25s\n",
      "679:\tlearn: 3.6384726\ttotal: 4.78s\tremaining: 2.25s\n",
      "680:\tlearn: 3.6380753\ttotal: 4.78s\tremaining: 2.24s\n",
      "681:\tlearn: 3.6376476\ttotal: 4.79s\tremaining: 2.23s\n",
      "682:\tlearn: 3.6373864\ttotal: 4.79s\tremaining: 2.22s\n",
      "683:\tlearn: 3.6371061\ttotal: 4.8s\tremaining: 2.22s\n",
      "684:\tlearn: 3.6367587\ttotal: 4.8s\tremaining: 2.21s\n",
      "685:\tlearn: 3.6363723\ttotal: 4.81s\tremaining: 2.2s\n",
      "686:\tlearn: 3.6358213\ttotal: 4.82s\tremaining: 2.19s\n",
      "687:\tlearn: 3.6352638\ttotal: 4.82s\tremaining: 2.19s\n",
      "688:\tlearn: 3.6349965\ttotal: 4.83s\tremaining: 2.18s\n",
      "689:\tlearn: 3.6345685\ttotal: 4.83s\tremaining: 2.17s\n",
      "690:\tlearn: 3.6340802\ttotal: 4.84s\tremaining: 2.16s\n",
      "691:\tlearn: 3.6337766\ttotal: 4.84s\tremaining: 2.16s\n",
      "692:\tlearn: 3.6327532\ttotal: 4.85s\tremaining: 2.15s\n",
      "693:\tlearn: 3.6323695\ttotal: 4.86s\tremaining: 2.14s\n",
      "694:\tlearn: 3.6318838\ttotal: 4.86s\tremaining: 2.13s\n",
      "695:\tlearn: 3.6314697\ttotal: 4.87s\tremaining: 2.13s\n",
      "696:\tlearn: 3.6311389\ttotal: 4.87s\tremaining: 2.12s\n",
      "697:\tlearn: 3.6306970\ttotal: 4.88s\tremaining: 2.11s\n",
      "698:\tlearn: 3.6301281\ttotal: 4.88s\tremaining: 2.1s\n",
      "699:\tlearn: 3.6297082\ttotal: 4.89s\tremaining: 2.1s\n",
      "700:\tlearn: 3.6292972\ttotal: 4.89s\tremaining: 2.09s\n",
      "701:\tlearn: 3.6289884\ttotal: 4.9s\tremaining: 2.08s\n",
      "702:\tlearn: 3.6286278\ttotal: 4.91s\tremaining: 2.07s\n",
      "703:\tlearn: 3.6282186\ttotal: 4.91s\tremaining: 2.07s\n",
      "704:\tlearn: 3.6278454\ttotal: 4.92s\tremaining: 2.06s\n",
      "705:\tlearn: 3.6275588\ttotal: 4.93s\tremaining: 2.05s\n",
      "706:\tlearn: 3.6271926\ttotal: 4.93s\tremaining: 2.04s\n",
      "707:\tlearn: 3.6268756\ttotal: 4.94s\tremaining: 2.04s\n",
      "708:\tlearn: 3.6264255\ttotal: 4.95s\tremaining: 2.03s\n",
      "709:\tlearn: 3.6261852\ttotal: 4.95s\tremaining: 2.02s\n",
      "710:\tlearn: 3.6256515\ttotal: 4.96s\tremaining: 2.01s\n",
      "711:\tlearn: 3.6253290\ttotal: 4.96s\tremaining: 2.01s\n",
      "712:\tlearn: 3.6248884\ttotal: 4.97s\tremaining: 2s\n",
      "713:\tlearn: 3.6240452\ttotal: 4.97s\tremaining: 1.99s\n",
      "714:\tlearn: 3.6234151\ttotal: 4.98s\tremaining: 1.98s\n",
      "715:\tlearn: 3.6231021\ttotal: 4.98s\tremaining: 1.98s\n",
      "716:\tlearn: 3.6225608\ttotal: 4.99s\tremaining: 1.97s\n",
      "717:\tlearn: 3.6221819\ttotal: 5s\tremaining: 1.96s\n",
      "718:\tlearn: 3.6218155\ttotal: 5s\tremaining: 1.95s\n",
      "719:\tlearn: 3.6214402\ttotal: 5.01s\tremaining: 1.95s\n",
      "720:\tlearn: 3.6209457\ttotal: 5.01s\tremaining: 1.94s\n",
      "721:\tlearn: 3.6205834\ttotal: 5.02s\tremaining: 1.93s\n",
      "722:\tlearn: 3.6203339\ttotal: 5.03s\tremaining: 1.93s\n",
      "723:\tlearn: 3.6199899\ttotal: 5.04s\tremaining: 1.92s\n",
      "724:\tlearn: 3.6196850\ttotal: 5.04s\tremaining: 1.91s\n",
      "725:\tlearn: 3.6193356\ttotal: 5.05s\tremaining: 1.91s\n",
      "726:\tlearn: 3.6187080\ttotal: 5.06s\tremaining: 1.9s\n",
      "727:\tlearn: 3.6182894\ttotal: 5.06s\tremaining: 1.89s\n",
      "728:\tlearn: 3.6178040\ttotal: 5.07s\tremaining: 1.88s\n",
      "729:\tlearn: 3.6173599\ttotal: 5.07s\tremaining: 1.88s\n",
      "730:\tlearn: 3.6169303\ttotal: 5.08s\tremaining: 1.87s\n",
      "731:\tlearn: 3.6164496\ttotal: 5.08s\tremaining: 1.86s\n",
      "732:\tlearn: 3.6161416\ttotal: 5.09s\tremaining: 1.85s\n",
      "733:\tlearn: 3.6158299\ttotal: 5.09s\tremaining: 1.85s\n",
      "734:\tlearn: 3.6152461\ttotal: 5.1s\tremaining: 1.84s\n",
      "735:\tlearn: 3.6150475\ttotal: 5.11s\tremaining: 1.83s\n",
      "736:\tlearn: 3.6147929\ttotal: 5.11s\tremaining: 1.82s\n",
      "737:\tlearn: 3.6143914\ttotal: 5.12s\tremaining: 1.82s\n",
      "738:\tlearn: 3.6141576\ttotal: 5.13s\tremaining: 1.81s\n",
      "739:\tlearn: 3.6137672\ttotal: 5.13s\tremaining: 1.8s\n",
      "740:\tlearn: 3.6131287\ttotal: 5.14s\tremaining: 1.8s\n",
      "741:\tlearn: 3.6127061\ttotal: 5.14s\tremaining: 1.79s\n",
      "742:\tlearn: 3.6123889\ttotal: 5.15s\tremaining: 1.78s\n",
      "743:\tlearn: 3.6119014\ttotal: 5.16s\tremaining: 1.77s\n",
      "744:\tlearn: 3.6114640\ttotal: 5.16s\tremaining: 1.77s\n",
      "745:\tlearn: 3.6111871\ttotal: 5.17s\tremaining: 1.76s\n",
      "746:\tlearn: 3.6108652\ttotal: 5.17s\tremaining: 1.75s\n",
      "747:\tlearn: 3.6105139\ttotal: 5.18s\tremaining: 1.74s\n",
      "748:\tlearn: 3.6101119\ttotal: 5.18s\tremaining: 1.74s\n",
      "749:\tlearn: 3.6096721\ttotal: 5.19s\tremaining: 1.73s\n",
      "750:\tlearn: 3.6093479\ttotal: 5.19s\tremaining: 1.72s\n",
      "751:\tlearn: 3.6088658\ttotal: 5.2s\tremaining: 1.72s\n",
      "752:\tlearn: 3.6083872\ttotal: 5.21s\tremaining: 1.71s\n",
      "753:\tlearn: 3.6079234\ttotal: 5.21s\tremaining: 1.7s\n",
      "754:\tlearn: 3.6075926\ttotal: 5.22s\tremaining: 1.69s\n",
      "755:\tlearn: 3.6072211\ttotal: 5.22s\tremaining: 1.69s\n",
      "756:\tlearn: 3.6066389\ttotal: 5.23s\tremaining: 1.68s\n",
      "757:\tlearn: 3.6063671\ttotal: 5.23s\tremaining: 1.67s\n",
      "758:\tlearn: 3.6060338\ttotal: 5.24s\tremaining: 1.66s\n",
      "759:\tlearn: 3.6055846\ttotal: 5.25s\tremaining: 1.66s\n",
      "760:\tlearn: 3.6051070\ttotal: 5.25s\tremaining: 1.65s\n",
      "761:\tlearn: 3.6046805\ttotal: 5.26s\tremaining: 1.64s\n",
      "762:\tlearn: 3.6044002\ttotal: 5.26s\tremaining: 1.63s\n",
      "763:\tlearn: 3.6039975\ttotal: 5.27s\tremaining: 1.63s\n",
      "764:\tlearn: 3.6036604\ttotal: 5.27s\tremaining: 1.62s\n",
      "765:\tlearn: 3.6033162\ttotal: 5.28s\tremaining: 1.61s\n",
      "766:\tlearn: 3.6028759\ttotal: 5.29s\tremaining: 1.61s\n",
      "767:\tlearn: 3.6024181\ttotal: 5.3s\tremaining: 1.6s\n",
      "768:\tlearn: 3.6019149\ttotal: 5.3s\tremaining: 1.59s\n",
      "769:\tlearn: 3.6015971\ttotal: 5.31s\tremaining: 1.58s\n",
      "770:\tlearn: 3.6011109\ttotal: 5.31s\tremaining: 1.58s\n",
      "771:\tlearn: 3.6007469\ttotal: 5.32s\tremaining: 1.57s\n",
      "772:\tlearn: 3.6002768\ttotal: 5.33s\tremaining: 1.56s\n",
      "773:\tlearn: 3.5996260\ttotal: 5.33s\tremaining: 1.56s\n",
      "774:\tlearn: 3.5992819\ttotal: 5.34s\tremaining: 1.55s\n",
      "775:\tlearn: 3.5988531\ttotal: 5.35s\tremaining: 1.54s\n",
      "776:\tlearn: 3.5984532\ttotal: 5.35s\tremaining: 1.54s\n",
      "777:\tlearn: 3.5980145\ttotal: 5.36s\tremaining: 1.53s\n",
      "778:\tlearn: 3.5975655\ttotal: 5.36s\tremaining: 1.52s\n",
      "779:\tlearn: 3.5972197\ttotal: 5.37s\tremaining: 1.51s\n",
      "780:\tlearn: 3.5968591\ttotal: 5.38s\tremaining: 1.51s\n",
      "781:\tlearn: 3.5963353\ttotal: 5.38s\tremaining: 1.5s\n",
      "782:\tlearn: 3.5957884\ttotal: 5.39s\tremaining: 1.49s\n",
      "783:\tlearn: 3.5954172\ttotal: 5.39s\tremaining: 1.49s\n",
      "784:\tlearn: 3.5949731\ttotal: 5.4s\tremaining: 1.48s\n",
      "785:\tlearn: 3.5944299\ttotal: 5.4s\tremaining: 1.47s\n",
      "786:\tlearn: 3.5939540\ttotal: 5.41s\tremaining: 1.46s\n",
      "787:\tlearn: 3.5935939\ttotal: 5.42s\tremaining: 1.46s\n",
      "788:\tlearn: 3.5932770\ttotal: 5.42s\tremaining: 1.45s\n",
      "789:\tlearn: 3.5929268\ttotal: 5.43s\tremaining: 1.44s\n",
      "790:\tlearn: 3.5925446\ttotal: 5.43s\tremaining: 1.44s\n",
      "791:\tlearn: 3.5920886\ttotal: 5.44s\tremaining: 1.43s\n",
      "792:\tlearn: 3.5915490\ttotal: 5.45s\tremaining: 1.42s\n",
      "793:\tlearn: 3.5911309\ttotal: 5.45s\tremaining: 1.41s\n",
      "794:\tlearn: 3.5905146\ttotal: 5.46s\tremaining: 1.41s\n",
      "795:\tlearn: 3.5901347\ttotal: 5.46s\tremaining: 1.4s\n",
      "796:\tlearn: 3.5897716\ttotal: 5.47s\tremaining: 1.39s\n",
      "797:\tlearn: 3.5892770\ttotal: 5.48s\tremaining: 1.39s\n",
      "798:\tlearn: 3.5888508\ttotal: 5.48s\tremaining: 1.38s\n",
      "799:\tlearn: 3.5883387\ttotal: 5.49s\tremaining: 1.37s\n",
      "800:\tlearn: 3.5879778\ttotal: 5.49s\tremaining: 1.36s\n",
      "801:\tlearn: 3.5877202\ttotal: 5.5s\tremaining: 1.36s\n",
      "802:\tlearn: 3.5874044\ttotal: 5.5s\tremaining: 1.35s\n",
      "803:\tlearn: 3.5871618\ttotal: 5.51s\tremaining: 1.34s\n",
      "804:\tlearn: 3.5868496\ttotal: 5.52s\tremaining: 1.34s\n",
      "805:\tlearn: 3.5864926\ttotal: 5.53s\tremaining: 1.33s\n",
      "806:\tlearn: 3.5860124\ttotal: 5.53s\tremaining: 1.32s\n",
      "807:\tlearn: 3.5851878\ttotal: 5.54s\tremaining: 1.31s\n",
      "808:\tlearn: 3.5845852\ttotal: 5.54s\tremaining: 1.31s\n",
      "809:\tlearn: 3.5842413\ttotal: 5.55s\tremaining: 1.3s\n",
      "810:\tlearn: 3.5837850\ttotal: 5.55s\tremaining: 1.29s\n",
      "811:\tlearn: 3.5833476\ttotal: 5.56s\tremaining: 1.29s\n",
      "812:\tlearn: 3.5828907\ttotal: 5.57s\tremaining: 1.28s\n",
      "813:\tlearn: 3.5824290\ttotal: 5.57s\tremaining: 1.27s\n",
      "814:\tlearn: 3.5820305\ttotal: 5.58s\tremaining: 1.27s\n",
      "815:\tlearn: 3.5816588\ttotal: 5.58s\tremaining: 1.26s\n",
      "816:\tlearn: 3.5812207\ttotal: 5.59s\tremaining: 1.25s\n",
      "817:\tlearn: 3.5807759\ttotal: 5.59s\tremaining: 1.24s\n",
      "818:\tlearn: 3.5804224\ttotal: 5.6s\tremaining: 1.24s\n",
      "819:\tlearn: 3.5801391\ttotal: 5.61s\tremaining: 1.23s\n",
      "820:\tlearn: 3.5795156\ttotal: 5.61s\tremaining: 1.22s\n",
      "821:\tlearn: 3.5791211\ttotal: 5.62s\tremaining: 1.22s\n",
      "822:\tlearn: 3.5786956\ttotal: 5.62s\tremaining: 1.21s\n",
      "823:\tlearn: 3.5784376\ttotal: 5.63s\tremaining: 1.2s\n",
      "824:\tlearn: 3.5780752\ttotal: 5.63s\tremaining: 1.19s\n",
      "825:\tlearn: 3.5776840\ttotal: 5.64s\tremaining: 1.19s\n",
      "826:\tlearn: 3.5769948\ttotal: 5.64s\tremaining: 1.18s\n",
      "827:\tlearn: 3.5766240\ttotal: 5.65s\tremaining: 1.17s\n",
      "828:\tlearn: 3.5761370\ttotal: 5.66s\tremaining: 1.17s\n",
      "829:\tlearn: 3.5759263\ttotal: 5.66s\tremaining: 1.16s\n",
      "830:\tlearn: 3.5755804\ttotal: 5.67s\tremaining: 1.15s\n",
      "831:\tlearn: 3.5751872\ttotal: 5.67s\tremaining: 1.15s\n",
      "832:\tlearn: 3.5748678\ttotal: 5.68s\tremaining: 1.14s\n",
      "833:\tlearn: 3.5744359\ttotal: 5.68s\tremaining: 1.13s\n",
      "834:\tlearn: 3.5739689\ttotal: 5.69s\tremaining: 1.12s\n",
      "835:\tlearn: 3.5735260\ttotal: 5.69s\tremaining: 1.12s\n",
      "836:\tlearn: 3.5732601\ttotal: 5.7s\tremaining: 1.11s\n",
      "837:\tlearn: 3.5730483\ttotal: 5.71s\tremaining: 1.1s\n",
      "838:\tlearn: 3.5727127\ttotal: 5.71s\tremaining: 1.1s\n",
      "839:\tlearn: 3.5723567\ttotal: 5.72s\tremaining: 1.09s\n",
      "840:\tlearn: 3.5718625\ttotal: 5.72s\tremaining: 1.08s\n",
      "841:\tlearn: 3.5715763\ttotal: 5.73s\tremaining: 1.07s\n",
      "842:\tlearn: 3.5711120\ttotal: 5.74s\tremaining: 1.07s\n",
      "843:\tlearn: 3.5707895\ttotal: 5.74s\tremaining: 1.06s\n",
      "844:\tlearn: 3.5702687\ttotal: 5.75s\tremaining: 1.05s\n",
      "845:\tlearn: 3.5700199\ttotal: 5.75s\tremaining: 1.05s\n",
      "846:\tlearn: 3.5696983\ttotal: 5.76s\tremaining: 1.04s\n",
      "847:\tlearn: 3.5693328\ttotal: 5.77s\tremaining: 1.03s\n",
      "848:\tlearn: 3.5690810\ttotal: 5.77s\tremaining: 1.03s\n",
      "849:\tlearn: 3.5687601\ttotal: 5.78s\tremaining: 1.02s\n",
      "850:\tlearn: 3.5683061\ttotal: 5.79s\tremaining: 1.01s\n",
      "851:\tlearn: 3.5679194\ttotal: 5.79s\tremaining: 1s\n",
      "852:\tlearn: 3.5675218\ttotal: 5.8s\tremaining: 999ms\n",
      "853:\tlearn: 3.5671084\ttotal: 5.8s\tremaining: 992ms\n",
      "854:\tlearn: 3.5668062\ttotal: 5.81s\tremaining: 985ms\n",
      "855:\tlearn: 3.5662576\ttotal: 5.81s\tremaining: 978ms\n",
      "856:\tlearn: 3.5658905\ttotal: 5.82s\tremaining: 971ms\n",
      "857:\tlearn: 3.5656076\ttotal: 5.82s\tremaining: 964ms\n",
      "858:\tlearn: 3.5652467\ttotal: 5.83s\tremaining: 957ms\n",
      "859:\tlearn: 3.5648948\ttotal: 5.84s\tremaining: 950ms\n",
      "860:\tlearn: 3.5647011\ttotal: 5.84s\tremaining: 943ms\n",
      "861:\tlearn: 3.5645145\ttotal: 5.85s\tremaining: 936ms\n",
      "862:\tlearn: 3.5642044\ttotal: 5.85s\tremaining: 929ms\n",
      "863:\tlearn: 3.5637773\ttotal: 5.86s\tremaining: 922ms\n",
      "864:\tlearn: 3.5635862\ttotal: 5.86s\tremaining: 915ms\n",
      "865:\tlearn: 3.5632836\ttotal: 5.87s\tremaining: 908ms\n",
      "866:\tlearn: 3.5629342\ttotal: 5.88s\tremaining: 901ms\n",
      "867:\tlearn: 3.5625521\ttotal: 5.88s\tremaining: 894ms\n",
      "868:\tlearn: 3.5621994\ttotal: 5.89s\tremaining: 887ms\n",
      "869:\tlearn: 3.5618674\ttotal: 5.89s\tremaining: 881ms\n",
      "870:\tlearn: 3.5613879\ttotal: 5.9s\tremaining: 874ms\n",
      "871:\tlearn: 3.5611899\ttotal: 5.91s\tremaining: 867ms\n",
      "872:\tlearn: 3.5600262\ttotal: 5.91s\tremaining: 860ms\n",
      "873:\tlearn: 3.5597859\ttotal: 5.92s\tremaining: 853ms\n",
      "874:\tlearn: 3.5592839\ttotal: 5.93s\tremaining: 847ms\n",
      "875:\tlearn: 3.5590270\ttotal: 5.93s\tremaining: 840ms\n",
      "876:\tlearn: 3.5587281\ttotal: 5.94s\tremaining: 833ms\n",
      "877:\tlearn: 3.5582239\ttotal: 5.95s\tremaining: 826ms\n",
      "878:\tlearn: 3.5578620\ttotal: 5.95s\tremaining: 819ms\n",
      "879:\tlearn: 3.5576048\ttotal: 5.96s\tremaining: 812ms\n",
      "880:\tlearn: 3.5571912\ttotal: 5.96s\tremaining: 805ms\n",
      "881:\tlearn: 3.5556689\ttotal: 5.97s\tremaining: 798ms\n",
      "882:\tlearn: 3.5553490\ttotal: 5.97s\tremaining: 792ms\n",
      "883:\tlearn: 3.5550878\ttotal: 5.98s\tremaining: 785ms\n",
      "884:\tlearn: 3.5547849\ttotal: 5.99s\tremaining: 778ms\n",
      "885:\tlearn: 3.5543999\ttotal: 5.99s\tremaining: 771ms\n",
      "886:\tlearn: 3.5540417\ttotal: 6s\tremaining: 764ms\n",
      "887:\tlearn: 3.5536986\ttotal: 6s\tremaining: 757ms\n",
      "888:\tlearn: 3.5532895\ttotal: 6.01s\tremaining: 750ms\n",
      "889:\tlearn: 3.5529354\ttotal: 6.01s\tremaining: 743ms\n",
      "890:\tlearn: 3.5525406\ttotal: 6.02s\tremaining: 736ms\n",
      "891:\tlearn: 3.5522535\ttotal: 6.03s\tremaining: 730ms\n",
      "892:\tlearn: 3.5519134\ttotal: 6.03s\tremaining: 723ms\n",
      "893:\tlearn: 3.5513853\ttotal: 6.04s\tremaining: 716ms\n",
      "894:\tlearn: 3.5510329\ttotal: 6.04s\tremaining: 709ms\n",
      "895:\tlearn: 3.5507480\ttotal: 6.05s\tremaining: 702ms\n",
      "896:\tlearn: 3.5502806\ttotal: 6.05s\tremaining: 695ms\n",
      "897:\tlearn: 3.5498988\ttotal: 6.06s\tremaining: 688ms\n",
      "898:\tlearn: 3.5496974\ttotal: 6.06s\tremaining: 681ms\n",
      "899:\tlearn: 3.5494439\ttotal: 6.07s\tremaining: 675ms\n",
      "900:\tlearn: 3.5491729\ttotal: 6.08s\tremaining: 668ms\n",
      "901:\tlearn: 3.5488967\ttotal: 6.08s\tremaining: 661ms\n",
      "902:\tlearn: 3.5482256\ttotal: 6.09s\tremaining: 654ms\n",
      "903:\tlearn: 3.5479031\ttotal: 6.09s\tremaining: 647ms\n",
      "904:\tlearn: 3.5476296\ttotal: 6.1s\tremaining: 640ms\n",
      "905:\tlearn: 3.5472768\ttotal: 6.1s\tremaining: 633ms\n",
      "906:\tlearn: 3.5469309\ttotal: 6.11s\tremaining: 626ms\n",
      "907:\tlearn: 3.5463393\ttotal: 6.11s\tremaining: 620ms\n",
      "908:\tlearn: 3.5460629\ttotal: 6.12s\tremaining: 613ms\n",
      "909:\tlearn: 3.5458391\ttotal: 6.13s\tremaining: 606ms\n",
      "910:\tlearn: 3.5455439\ttotal: 6.13s\tremaining: 599ms\n",
      "911:\tlearn: 3.5451915\ttotal: 6.14s\tremaining: 592ms\n",
      "912:\tlearn: 3.5446911\ttotal: 6.14s\tremaining: 586ms\n",
      "913:\tlearn: 3.5443433\ttotal: 6.15s\tremaining: 579ms\n",
      "914:\tlearn: 3.5440535\ttotal: 6.16s\tremaining: 572ms\n",
      "915:\tlearn: 3.5436713\ttotal: 6.16s\tremaining: 565ms\n",
      "916:\tlearn: 3.5432678\ttotal: 6.17s\tremaining: 558ms\n",
      "917:\tlearn: 3.5428336\ttotal: 6.17s\tremaining: 552ms\n",
      "918:\tlearn: 3.5426182\ttotal: 6.18s\tremaining: 545ms\n",
      "919:\tlearn: 3.5423267\ttotal: 6.19s\tremaining: 538ms\n",
      "920:\tlearn: 3.5420836\ttotal: 6.19s\tremaining: 531ms\n",
      "921:\tlearn: 3.5416465\ttotal: 6.2s\tremaining: 524ms\n",
      "922:\tlearn: 3.5413063\ttotal: 6.2s\tremaining: 517ms\n",
      "923:\tlearn: 3.5410679\ttotal: 6.21s\tremaining: 511ms\n",
      "924:\tlearn: 3.5407938\ttotal: 6.21s\tremaining: 504ms\n",
      "925:\tlearn: 3.5404768\ttotal: 6.22s\tremaining: 497ms\n",
      "926:\tlearn: 3.5400266\ttotal: 6.22s\tremaining: 490ms\n",
      "927:\tlearn: 3.5397366\ttotal: 6.23s\tremaining: 484ms\n",
      "928:\tlearn: 3.5392454\ttotal: 6.24s\tremaining: 477ms\n",
      "929:\tlearn: 3.5390359\ttotal: 6.25s\tremaining: 470ms\n",
      "930:\tlearn: 3.5387367\ttotal: 6.25s\tremaining: 463ms\n",
      "931:\tlearn: 3.5383323\ttotal: 6.26s\tremaining: 457ms\n",
      "932:\tlearn: 3.5377300\ttotal: 6.26s\tremaining: 450ms\n",
      "933:\tlearn: 3.5373003\ttotal: 6.27s\tremaining: 443ms\n",
      "934:\tlearn: 3.5369727\ttotal: 6.28s\tremaining: 436ms\n",
      "935:\tlearn: 3.5365891\ttotal: 6.28s\tremaining: 430ms\n",
      "936:\tlearn: 3.5361987\ttotal: 6.29s\tremaining: 423ms\n",
      "937:\tlearn: 3.5357598\ttotal: 6.29s\tremaining: 416ms\n",
      "938:\tlearn: 3.5353290\ttotal: 6.3s\tremaining: 409ms\n",
      "939:\tlearn: 3.5349332\ttotal: 6.3s\tremaining: 402ms\n",
      "940:\tlearn: 3.5345213\ttotal: 6.31s\tremaining: 396ms\n",
      "941:\tlearn: 3.5343142\ttotal: 6.32s\tremaining: 389ms\n",
      "942:\tlearn: 3.5341070\ttotal: 6.32s\tremaining: 382ms\n",
      "943:\tlearn: 3.5338010\ttotal: 6.33s\tremaining: 375ms\n",
      "944:\tlearn: 3.5335610\ttotal: 6.33s\tremaining: 369ms\n",
      "945:\tlearn: 3.5331123\ttotal: 6.34s\tremaining: 362ms\n",
      "946:\tlearn: 3.5327470\ttotal: 6.35s\tremaining: 355ms\n",
      "947:\tlearn: 3.5323395\ttotal: 6.35s\tremaining: 349ms\n",
      "948:\tlearn: 3.5319821\ttotal: 6.36s\tremaining: 342ms\n",
      "949:\tlearn: 3.5316233\ttotal: 6.37s\tremaining: 335ms\n",
      "950:\tlearn: 3.5312281\ttotal: 6.37s\tremaining: 328ms\n",
      "951:\tlearn: 3.5308257\ttotal: 6.38s\tremaining: 322ms\n",
      "952:\tlearn: 3.5305263\ttotal: 6.38s\tremaining: 315ms\n",
      "953:\tlearn: 3.5302044\ttotal: 6.39s\tremaining: 308ms\n",
      "954:\tlearn: 3.5296120\ttotal: 6.39s\tremaining: 301ms\n",
      "955:\tlearn: 3.5293356\ttotal: 6.4s\tremaining: 295ms\n",
      "956:\tlearn: 3.5289529\ttotal: 6.41s\tremaining: 288ms\n",
      "957:\tlearn: 3.5286084\ttotal: 6.41s\tremaining: 281ms\n",
      "958:\tlearn: 3.5283436\ttotal: 6.42s\tremaining: 274ms\n",
      "959:\tlearn: 3.5279322\ttotal: 6.42s\tremaining: 268ms\n",
      "960:\tlearn: 3.5275884\ttotal: 6.43s\tremaining: 261ms\n",
      "961:\tlearn: 3.5272636\ttotal: 6.43s\tremaining: 254ms\n",
      "962:\tlearn: 3.5270633\ttotal: 6.44s\tremaining: 247ms\n",
      "963:\tlearn: 3.5268541\ttotal: 6.44s\tremaining: 241ms\n",
      "964:\tlearn: 3.5266230\ttotal: 6.45s\tremaining: 234ms\n",
      "965:\tlearn: 3.5263188\ttotal: 6.46s\tremaining: 227ms\n",
      "966:\tlearn: 3.5258133\ttotal: 6.46s\tremaining: 221ms\n",
      "967:\tlearn: 3.5255449\ttotal: 6.47s\tremaining: 214ms\n",
      "968:\tlearn: 3.5252851\ttotal: 6.47s\tremaining: 207ms\n",
      "969:\tlearn: 3.5249972\ttotal: 6.48s\tremaining: 200ms\n",
      "970:\tlearn: 3.5245797\ttotal: 6.48s\tremaining: 194ms\n",
      "971:\tlearn: 3.5242182\ttotal: 6.49s\tremaining: 187ms\n",
      "972:\tlearn: 3.5238899\ttotal: 6.49s\tremaining: 180ms\n",
      "973:\tlearn: 3.5233674\ttotal: 6.5s\tremaining: 173ms\n",
      "974:\tlearn: 3.5230574\ttotal: 6.5s\tremaining: 167ms\n",
      "975:\tlearn: 3.5227777\ttotal: 6.51s\tremaining: 160ms\n",
      "976:\tlearn: 3.5225823\ttotal: 6.52s\tremaining: 153ms\n",
      "977:\tlearn: 3.5223471\ttotal: 6.53s\tremaining: 147ms\n",
      "978:\tlearn: 3.5220186\ttotal: 6.53s\tremaining: 140ms\n",
      "979:\tlearn: 3.5210144\ttotal: 6.54s\tremaining: 133ms\n",
      "980:\tlearn: 3.5205216\ttotal: 6.54s\tremaining: 127ms\n",
      "981:\tlearn: 3.5201409\ttotal: 6.55s\tremaining: 120ms\n",
      "982:\tlearn: 3.5197964\ttotal: 6.56s\tremaining: 113ms\n",
      "983:\tlearn: 3.5193190\ttotal: 6.56s\tremaining: 107ms\n",
      "984:\tlearn: 3.5188038\ttotal: 6.57s\tremaining: 100ms\n",
      "985:\tlearn: 3.5185567\ttotal: 6.58s\tremaining: 93.4ms\n",
      "986:\tlearn: 3.5169793\ttotal: 6.58s\tremaining: 86.7ms\n",
      "987:\tlearn: 3.5166970\ttotal: 6.59s\tremaining: 80ms\n",
      "988:\tlearn: 3.5163131\ttotal: 6.59s\tremaining: 73.3ms\n",
      "989:\tlearn: 3.5159039\ttotal: 6.6s\tremaining: 66.7ms\n",
      "990:\tlearn: 3.5155321\ttotal: 6.6s\tremaining: 60ms\n",
      "991:\tlearn: 3.5151792\ttotal: 6.61s\tremaining: 53.3ms\n",
      "992:\tlearn: 3.5147668\ttotal: 6.62s\tremaining: 46.6ms\n",
      "993:\tlearn: 3.5143101\ttotal: 6.62s\tremaining: 40ms\n",
      "994:\tlearn: 3.5139839\ttotal: 6.63s\tremaining: 33.3ms\n",
      "995:\tlearn: 3.5136722\ttotal: 6.63s\tremaining: 26.6ms\n",
      "996:\tlearn: 3.5132987\ttotal: 6.64s\tremaining: 20ms\n",
      "997:\tlearn: 3.5128376\ttotal: 6.64s\tremaining: 13.3ms\n",
      "998:\tlearn: 3.5125794\ttotal: 6.65s\tremaining: 6.66ms\n",
      "999:\tlearn: 3.5122772\ttotal: 6.65s\tremaining: 0us\n"
     ]
    },
    {
     "data": {
      "text/plain": [
       "<catboost.core.CatBoostRegressor at 0x21fdb31beb0>"
      ]
     },
     "execution_count": 9,
     "metadata": {},
     "output_type": "execute_result"
    }
   ],
   "source": [
    "from catboost import CatBoostRegressor\n",
    "cat = CatBoostRegressor()\n",
    "cat.fit(x_train,y_train)"
   ]
  },
  {
   "cell_type": "code",
   "execution_count": 10,
   "metadata": {},
   "outputs": [],
   "source": [
    "y_pred = cat.predict(x_test)"
   ]
  },
  {
   "cell_type": "code",
   "execution_count": 11,
   "metadata": {},
   "outputs": [
    {
     "data": {
      "application/vnd.plotly.v1+json": {
       "config": {
        "plotlyServerURL": "https://plot.ly"
       },
       "data": [
        {
         "marker": {
          "color": "green"
         },
         "mode": "markers",
         "name": "Actual",
         "type": "scatter",
         "x": [
          0,
          1,
          2,
          3,
          4,
          5,
          6,
          7,
          8,
          9,
          10,
          11,
          12,
          13,
          14,
          15,
          16,
          17,
          18,
          19,
          20,
          21,
          22,
          23,
          24,
          25,
          26,
          27,
          28,
          29,
          30,
          31,
          32,
          33,
          34,
          35,
          36,
          37,
          38,
          39,
          40,
          41,
          42,
          43,
          44,
          45,
          46,
          47,
          48,
          49
         ],
         "y": [
          33,
          28,
          22,
          25,
          35,
          27,
          48,
          27,
          24,
          18,
          39,
          26,
          26,
          18,
          19,
          19,
          33,
          39,
          10,
          37,
          37,
          24,
          26,
          44,
          24,
          23,
          30,
          50,
          36,
          28,
          28,
          42,
          52,
          35,
          36,
          15,
          44,
          11,
          26,
          26,
          32,
          16,
          22,
          28,
          15,
          19,
          20,
          41,
          27,
          25
         ]
        },
        {
         "marker": {
          "color": "red"
         },
         "mode": "markers",
         "name": "Predicted",
         "type": "scatter",
         "x": [
          0,
          1,
          2,
          3,
          4,
          5,
          6,
          7,
          8,
          9,
          10,
          11,
          12,
          13,
          14,
          15,
          16,
          17,
          18,
          19,
          20,
          21,
          22,
          23,
          24,
          25,
          26,
          27,
          28,
          29,
          30,
          31,
          32,
          33,
          34,
          35,
          36,
          37,
          38,
          39,
          40,
          41,
          42,
          43,
          44,
          45,
          46,
          47,
          48,
          49
         ],
         "y": [
          32.825045095480355,
          24.930012336707104,
          18.851415177894456,
          20.564559118263624,
          40.39549222767376,
          27.99413326525925,
          44.15286031129408,
          28.00610744564423,
          20.90722201340516,
          21.758976721593278,
          35.64571584409249,
          30.67612455006772,
          22.644134961694604,
          19.752163954314632,
          15.251910286354514,
          16.24222310707662,
          33.79616413092489,
          32.9007111813046,
          13.111356431417674,
          33.913106349962426,
          41.43141371933909,
          24.271220640215823,
          23.83186136797716,
          31.497301392651988,
          22.709460303992806,
          16.06424484976508,
          35.38686384254741,
          42.96321862064205,
          34.76909957410697,
          23.192813092131207,
          29.28379116521789,
          39.34466539934101,
          47.190935589770035,
          38.64527941525696,
          27.016602265709533,
          13.33450342565292,
          40.18606976026443,
          13.560148855648166,
          23.0081937591309,
          29.484565812080508,
          28.151268966272532,
          18.029227338964198,
          23.478387102477647,
          27.47625860886053,
          22.268582589926734,
          18.241573743191168,
          29.22354822476774,
          42.46650181523489,
          32.734315037648635,
          25.0794896054121
         ]
        },
        {
         "line": {
          "color": "blue",
          "width": 2
         },
         "mode": "lines",
         "name": "Regression line",
         "type": "scatter",
         "x": [
          0,
          1,
          2,
          3,
          4,
          5,
          6,
          7,
          8,
          9,
          10,
          11,
          12,
          13,
          14,
          15,
          16,
          17,
          18,
          19,
          20,
          21,
          22,
          23,
          24,
          25,
          26,
          27,
          28,
          29,
          30,
          31,
          32,
          33,
          34,
          35,
          36,
          37,
          38,
          39,
          40,
          41,
          42,
          43,
          44,
          45,
          46,
          47,
          48,
          49
         ],
         "y": [
          32.825045095480355,
          24.930012336707104,
          18.851415177894456,
          20.564559118263624,
          40.39549222767376,
          27.99413326525925,
          44.15286031129408,
          28.00610744564423,
          20.90722201340516,
          21.758976721593278,
          35.64571584409249,
          30.67612455006772,
          22.644134961694604,
          19.752163954314632,
          15.251910286354514,
          16.24222310707662,
          33.79616413092489,
          32.9007111813046,
          13.111356431417674,
          33.913106349962426,
          41.43141371933909,
          24.271220640215823,
          23.83186136797716,
          31.497301392651988,
          22.709460303992806,
          16.06424484976508,
          35.38686384254741,
          42.96321862064205,
          34.76909957410697,
          23.192813092131207,
          29.28379116521789,
          39.34466539934101,
          47.190935589770035,
          38.64527941525696,
          27.016602265709533,
          13.33450342565292,
          40.18606976026443,
          13.560148855648166,
          23.0081937591309,
          29.484565812080508,
          28.151268966272532,
          18.029227338964198,
          23.478387102477647,
          27.47625860886053,
          22.268582589926734,
          18.241573743191168,
          29.22354822476774,
          42.46650181523489,
          32.734315037648635,
          25.0794896054121
         ]
        }
       ],
       "layout": {
        "hovermode": "closest",
        "template": {
         "data": {
          "bar": [
           {
            "error_x": {
             "color": "#2a3f5f"
            },
            "error_y": {
             "color": "#2a3f5f"
            },
            "marker": {
             "line": {
              "color": "#E5ECF6",
              "width": 0.5
             },
             "pattern": {
              "fillmode": "overlay",
              "size": 10,
              "solidity": 0.2
             }
            },
            "type": "bar"
           }
          ],
          "barpolar": [
           {
            "marker": {
             "line": {
              "color": "#E5ECF6",
              "width": 0.5
             },
             "pattern": {
              "fillmode": "overlay",
              "size": 10,
              "solidity": 0.2
             }
            },
            "type": "barpolar"
           }
          ],
          "carpet": [
           {
            "aaxis": {
             "endlinecolor": "#2a3f5f",
             "gridcolor": "white",
             "linecolor": "white",
             "minorgridcolor": "white",
             "startlinecolor": "#2a3f5f"
            },
            "baxis": {
             "endlinecolor": "#2a3f5f",
             "gridcolor": "white",
             "linecolor": "white",
             "minorgridcolor": "white",
             "startlinecolor": "#2a3f5f"
            },
            "type": "carpet"
           }
          ],
          "choropleth": [
           {
            "colorbar": {
             "outlinewidth": 0,
             "ticks": ""
            },
            "type": "choropleth"
           }
          ],
          "contour": [
           {
            "colorbar": {
             "outlinewidth": 0,
             "ticks": ""
            },
            "colorscale": [
             [
              0,
              "#0d0887"
             ],
             [
              0.1111111111111111,
              "#46039f"
             ],
             [
              0.2222222222222222,
              "#7201a8"
             ],
             [
              0.3333333333333333,
              "#9c179e"
             ],
             [
              0.4444444444444444,
              "#bd3786"
             ],
             [
              0.5555555555555556,
              "#d8576b"
             ],
             [
              0.6666666666666666,
              "#ed7953"
             ],
             [
              0.7777777777777778,
              "#fb9f3a"
             ],
             [
              0.8888888888888888,
              "#fdca26"
             ],
             [
              1,
              "#f0f921"
             ]
            ],
            "type": "contour"
           }
          ],
          "contourcarpet": [
           {
            "colorbar": {
             "outlinewidth": 0,
             "ticks": ""
            },
            "type": "contourcarpet"
           }
          ],
          "heatmap": [
           {
            "colorbar": {
             "outlinewidth": 0,
             "ticks": ""
            },
            "colorscale": [
             [
              0,
              "#0d0887"
             ],
             [
              0.1111111111111111,
              "#46039f"
             ],
             [
              0.2222222222222222,
              "#7201a8"
             ],
             [
              0.3333333333333333,
              "#9c179e"
             ],
             [
              0.4444444444444444,
              "#bd3786"
             ],
             [
              0.5555555555555556,
              "#d8576b"
             ],
             [
              0.6666666666666666,
              "#ed7953"
             ],
             [
              0.7777777777777778,
              "#fb9f3a"
             ],
             [
              0.8888888888888888,
              "#fdca26"
             ],
             [
              1,
              "#f0f921"
             ]
            ],
            "type": "heatmap"
           }
          ],
          "heatmapgl": [
           {
            "colorbar": {
             "outlinewidth": 0,
             "ticks": ""
            },
            "colorscale": [
             [
              0,
              "#0d0887"
             ],
             [
              0.1111111111111111,
              "#46039f"
             ],
             [
              0.2222222222222222,
              "#7201a8"
             ],
             [
              0.3333333333333333,
              "#9c179e"
             ],
             [
              0.4444444444444444,
              "#bd3786"
             ],
             [
              0.5555555555555556,
              "#d8576b"
             ],
             [
              0.6666666666666666,
              "#ed7953"
             ],
             [
              0.7777777777777778,
              "#fb9f3a"
             ],
             [
              0.8888888888888888,
              "#fdca26"
             ],
             [
              1,
              "#f0f921"
             ]
            ],
            "type": "heatmapgl"
           }
          ],
          "histogram": [
           {
            "marker": {
             "pattern": {
              "fillmode": "overlay",
              "size": 10,
              "solidity": 0.2
             }
            },
            "type": "histogram"
           }
          ],
          "histogram2d": [
           {
            "colorbar": {
             "outlinewidth": 0,
             "ticks": ""
            },
            "colorscale": [
             [
              0,
              "#0d0887"
             ],
             [
              0.1111111111111111,
              "#46039f"
             ],
             [
              0.2222222222222222,
              "#7201a8"
             ],
             [
              0.3333333333333333,
              "#9c179e"
             ],
             [
              0.4444444444444444,
              "#bd3786"
             ],
             [
              0.5555555555555556,
              "#d8576b"
             ],
             [
              0.6666666666666666,
              "#ed7953"
             ],
             [
              0.7777777777777778,
              "#fb9f3a"
             ],
             [
              0.8888888888888888,
              "#fdca26"
             ],
             [
              1,
              "#f0f921"
             ]
            ],
            "type": "histogram2d"
           }
          ],
          "histogram2dcontour": [
           {
            "colorbar": {
             "outlinewidth": 0,
             "ticks": ""
            },
            "colorscale": [
             [
              0,
              "#0d0887"
             ],
             [
              0.1111111111111111,
              "#46039f"
             ],
             [
              0.2222222222222222,
              "#7201a8"
             ],
             [
              0.3333333333333333,
              "#9c179e"
             ],
             [
              0.4444444444444444,
              "#bd3786"
             ],
             [
              0.5555555555555556,
              "#d8576b"
             ],
             [
              0.6666666666666666,
              "#ed7953"
             ],
             [
              0.7777777777777778,
              "#fb9f3a"
             ],
             [
              0.8888888888888888,
              "#fdca26"
             ],
             [
              1,
              "#f0f921"
             ]
            ],
            "type": "histogram2dcontour"
           }
          ],
          "mesh3d": [
           {
            "colorbar": {
             "outlinewidth": 0,
             "ticks": ""
            },
            "type": "mesh3d"
           }
          ],
          "parcoords": [
           {
            "line": {
             "colorbar": {
              "outlinewidth": 0,
              "ticks": ""
             }
            },
            "type": "parcoords"
           }
          ],
          "pie": [
           {
            "automargin": true,
            "type": "pie"
           }
          ],
          "scatter": [
           {
            "fillpattern": {
             "fillmode": "overlay",
             "size": 10,
             "solidity": 0.2
            },
            "type": "scatter"
           }
          ],
          "scatter3d": [
           {
            "line": {
             "colorbar": {
              "outlinewidth": 0,
              "ticks": ""
             }
            },
            "marker": {
             "colorbar": {
              "outlinewidth": 0,
              "ticks": ""
             }
            },
            "type": "scatter3d"
           }
          ],
          "scattercarpet": [
           {
            "marker": {
             "colorbar": {
              "outlinewidth": 0,
              "ticks": ""
             }
            },
            "type": "scattercarpet"
           }
          ],
          "scattergeo": [
           {
            "marker": {
             "colorbar": {
              "outlinewidth": 0,
              "ticks": ""
             }
            },
            "type": "scattergeo"
           }
          ],
          "scattergl": [
           {
            "marker": {
             "colorbar": {
              "outlinewidth": 0,
              "ticks": ""
             }
            },
            "type": "scattergl"
           }
          ],
          "scattermapbox": [
           {
            "marker": {
             "colorbar": {
              "outlinewidth": 0,
              "ticks": ""
             }
            },
            "type": "scattermapbox"
           }
          ],
          "scatterpolar": [
           {
            "marker": {
             "colorbar": {
              "outlinewidth": 0,
              "ticks": ""
             }
            },
            "type": "scatterpolar"
           }
          ],
          "scatterpolargl": [
           {
            "marker": {
             "colorbar": {
              "outlinewidth": 0,
              "ticks": ""
             }
            },
            "type": "scatterpolargl"
           }
          ],
          "scatterternary": [
           {
            "marker": {
             "colorbar": {
              "outlinewidth": 0,
              "ticks": ""
             }
            },
            "type": "scatterternary"
           }
          ],
          "surface": [
           {
            "colorbar": {
             "outlinewidth": 0,
             "ticks": ""
            },
            "colorscale": [
             [
              0,
              "#0d0887"
             ],
             [
              0.1111111111111111,
              "#46039f"
             ],
             [
              0.2222222222222222,
              "#7201a8"
             ],
             [
              0.3333333333333333,
              "#9c179e"
             ],
             [
              0.4444444444444444,
              "#bd3786"
             ],
             [
              0.5555555555555556,
              "#d8576b"
             ],
             [
              0.6666666666666666,
              "#ed7953"
             ],
             [
              0.7777777777777778,
              "#fb9f3a"
             ],
             [
              0.8888888888888888,
              "#fdca26"
             ],
             [
              1,
              "#f0f921"
             ]
            ],
            "type": "surface"
           }
          ],
          "table": [
           {
            "cells": {
             "fill": {
              "color": "#EBF0F8"
             },
             "line": {
              "color": "white"
             }
            },
            "header": {
             "fill": {
              "color": "#C8D4E3"
             },
             "line": {
              "color": "white"
             }
            },
            "type": "table"
           }
          ]
         },
         "layout": {
          "annotationdefaults": {
           "arrowcolor": "#2a3f5f",
           "arrowhead": 0,
           "arrowwidth": 1
          },
          "autotypenumbers": "strict",
          "coloraxis": {
           "colorbar": {
            "outlinewidth": 0,
            "ticks": ""
           }
          },
          "colorscale": {
           "diverging": [
            [
             0,
             "#8e0152"
            ],
            [
             0.1,
             "#c51b7d"
            ],
            [
             0.2,
             "#de77ae"
            ],
            [
             0.3,
             "#f1b6da"
            ],
            [
             0.4,
             "#fde0ef"
            ],
            [
             0.5,
             "#f7f7f7"
            ],
            [
             0.6,
             "#e6f5d0"
            ],
            [
             0.7,
             "#b8e186"
            ],
            [
             0.8,
             "#7fbc41"
            ],
            [
             0.9,
             "#4d9221"
            ],
            [
             1,
             "#276419"
            ]
           ],
           "sequential": [
            [
             0,
             "#0d0887"
            ],
            [
             0.1111111111111111,
             "#46039f"
            ],
            [
             0.2222222222222222,
             "#7201a8"
            ],
            [
             0.3333333333333333,
             "#9c179e"
            ],
            [
             0.4444444444444444,
             "#bd3786"
            ],
            [
             0.5555555555555556,
             "#d8576b"
            ],
            [
             0.6666666666666666,
             "#ed7953"
            ],
            [
             0.7777777777777778,
             "#fb9f3a"
            ],
            [
             0.8888888888888888,
             "#fdca26"
            ],
            [
             1,
             "#f0f921"
            ]
           ],
           "sequentialminus": [
            [
             0,
             "#0d0887"
            ],
            [
             0.1111111111111111,
             "#46039f"
            ],
            [
             0.2222222222222222,
             "#7201a8"
            ],
            [
             0.3333333333333333,
             "#9c179e"
            ],
            [
             0.4444444444444444,
             "#bd3786"
            ],
            [
             0.5555555555555556,
             "#d8576b"
            ],
            [
             0.6666666666666666,
             "#ed7953"
            ],
            [
             0.7777777777777778,
             "#fb9f3a"
            ],
            [
             0.8888888888888888,
             "#fdca26"
            ],
            [
             1,
             "#f0f921"
            ]
           ]
          },
          "colorway": [
           "#636efa",
           "#EF553B",
           "#00cc96",
           "#ab63fa",
           "#FFA15A",
           "#19d3f3",
           "#FF6692",
           "#B6E880",
           "#FF97FF",
           "#FECB52"
          ],
          "font": {
           "color": "#2a3f5f"
          },
          "geo": {
           "bgcolor": "white",
           "lakecolor": "white",
           "landcolor": "#E5ECF6",
           "showlakes": true,
           "showland": true,
           "subunitcolor": "white"
          },
          "hoverlabel": {
           "align": "left"
          },
          "hovermode": "closest",
          "mapbox": {
           "style": "light"
          },
          "paper_bgcolor": "white",
          "plot_bgcolor": "#E5ECF6",
          "polar": {
           "angularaxis": {
            "gridcolor": "white",
            "linecolor": "white",
            "ticks": ""
           },
           "bgcolor": "#E5ECF6",
           "radialaxis": {
            "gridcolor": "white",
            "linecolor": "white",
            "ticks": ""
           }
          },
          "scene": {
           "xaxis": {
            "backgroundcolor": "#E5ECF6",
            "gridcolor": "white",
            "gridwidth": 2,
            "linecolor": "white",
            "showbackground": true,
            "ticks": "",
            "zerolinecolor": "white"
           },
           "yaxis": {
            "backgroundcolor": "#E5ECF6",
            "gridcolor": "white",
            "gridwidth": 2,
            "linecolor": "white",
            "showbackground": true,
            "ticks": "",
            "zerolinecolor": "white"
           },
           "zaxis": {
            "backgroundcolor": "#E5ECF6",
            "gridcolor": "white",
            "gridwidth": 2,
            "linecolor": "white",
            "showbackground": true,
            "ticks": "",
            "zerolinecolor": "white"
           }
          },
          "shapedefaults": {
           "line": {
            "color": "#2a3f5f"
           }
          },
          "ternary": {
           "aaxis": {
            "gridcolor": "white",
            "linecolor": "white",
            "ticks": ""
           },
           "baxis": {
            "gridcolor": "white",
            "linecolor": "white",
            "ticks": ""
           },
           "bgcolor": "#E5ECF6",
           "caxis": {
            "gridcolor": "white",
            "linecolor": "white",
            "ticks": ""
           }
          },
          "title": {
           "x": 0.05
          },
          "xaxis": {
           "automargin": true,
           "gridcolor": "white",
           "linecolor": "white",
           "ticks": "",
           "title": {
            "standoff": 15
           },
           "zerolinecolor": "white",
           "zerolinewidth": 2
          },
          "yaxis": {
           "automargin": true,
           "gridcolor": "white",
           "linecolor": "white",
           "ticks": "",
           "title": {
            "standoff": 15
           },
           "zerolinecolor": "white",
           "zerolinewidth": 2
          }
         }
        },
        "title": {
         "text": "Comparison of Actual and Predicted Data Points with CatBoostRegressor"
        },
        "xaxis": {
         "title": {
          "text": "Data Point Index"
         }
        },
        "yaxis": {
         "title": {
          "text": "y"
         }
        }
       }
      }
     },
     "metadata": {},
     "output_type": "display_data"
    }
   ],
   "source": [
    "import plotly.graph_objs as go\n",
    "#Conclusion :\n",
    "# 1] The regression model appears to capture the overall trend of the data but may struggle with certain data points, leading to larger prediction errors.\n",
    "# 2] The presence of outliers suggests that the model's performance could be improved either by addressing these outliers or by using a more robust regression technique.\n",
    "# 3] The jagged nature of the regression line indicates a close fit to the data points, which might be an issue if the model is overfitting.\n",
    "\n",
    "# Assuming you have y_test and y_pred defined\n",
    "\n",
    "# Assuming y_test and y_pred are already defined with 30 samples\n",
    "y_test_sample = y_test[:50]\n",
    "y_pred_sample = y_pred[:50]\n",
    "\n",
    "# Convert range to list for x-axis\n",
    "x_values = list(range(len(y_test_sample)))\n",
    "\n",
    "# Create traces for actual and predicted data points\n",
    "trace_actual = go.Scatter(x=x_values, y=y_test_sample, mode='markers', name='Actual', marker=dict(color='green'))\n",
    "trace_predicted = go.Scatter(x=x_values, y=y_pred_sample, mode='markers', name='Predicted', marker=dict(color='red'))\n",
    "\n",
    "# Create a trace for the regression line\n",
    "trace_regression = go.Scatter(x=x_values, y=y_pred_sample, mode='lines', name='Regression line', line=dict(color='blue', width=2))\n",
    "\n",
    "# Combine traces into a data list\n",
    "data = [trace_actual, trace_predicted, trace_regression]\n",
    "\n",
    "# Define layout for the plot\n",
    "layout = go.Layout(\n",
    "    title='Comparison of Actual and Predicted Data Points with CatBoostRegressor',\n",
    "    xaxis=dict(title='Data Point Index'),\n",
    "    yaxis=dict(title='y'),\n",
    "    hovermode='closest',  # Show closest data point's values upon hover\n",
    ")\n",
    "\n",
    "# Create figure object that combines data and layout\n",
    "fig = go.Figure(data=data, layout=layout)\n",
    "\n",
    "# Display the interactive plot\n",
    "fig.show()"
   ]
  },
  {
   "cell_type": "code",
   "execution_count": 12,
   "metadata": {},
   "outputs": [],
   "source": [
    "from sklearn.metrics import r2_score,mean_absolute_error,mean_squared_error\n",
    "import numpy as np\n",
    "mae=mean_absolute_error(y_pred, y_test)\n",
    "mse=mean_squared_error(y_pred, y_test)\n",
    "rmse= np.sqrt(mean_squared_error(y_pred, y_test))\n",
    "r2_square=r2_score(y_pred, y_test)"
   ]
  },
  {
   "cell_type": "code",
   "execution_count": 13,
   "metadata": {},
   "outputs": [
    {
     "name": "stdout",
     "output_type": "stream",
     "text": [
      "3.2110173690624015\n",
      "16.197201120793878\n",
      "4.02457465091578\n",
      "0.7720139991887034\n"
     ]
    }
   ],
   "source": [
    "print(mae)\n",
    "print(mse)\n",
    "print(rmse)\n",
    "print(r2_square)"
   ]
  },
  {
   "cell_type": "code",
   "execution_count": 14,
   "metadata": {},
   "outputs": [
    {
     "data": {
      "text/plain": [
       "0.8175725248281838"
      ]
     },
     "execution_count": 14,
     "metadata": {},
     "output_type": "execute_result"
    }
   ],
   "source": [
    "from sklearn.metrics import r2_score\n",
    "r2_score(y_test,y_pred)"
   ]
  },
  {
   "cell_type": "code",
   "execution_count": null,
   "metadata": {},
   "outputs": [],
   "source": []
  }
 ],
 "metadata": {
  "kernelspec": {
   "display_name": "Python 3",
   "language": "python",
   "name": "python3"
  },
  "language_info": {
   "codemirror_mode": {
    "name": "ipython",
    "version": 3
   },
   "file_extension": ".py",
   "mimetype": "text/x-python",
   "name": "python",
   "nbconvert_exporter": "python",
   "pygments_lexer": "ipython3",
   "version": "3.9.13"
  }
 },
 "nbformat": 4,
 "nbformat_minor": 2
}
