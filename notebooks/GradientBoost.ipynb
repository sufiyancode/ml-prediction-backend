{
 "cells": [
  {
   "cell_type": "code",
   "execution_count": 1,
   "metadata": {},
   "outputs": [],
   "source": [
    "import pandas as pd"
   ]
  },
  {
   "cell_type": "code",
   "execution_count": 2,
   "metadata": {},
   "outputs": [],
   "source": [
    "data = pd.read_csv(\"zomato_clean.csv\")"
   ]
  },
  {
   "cell_type": "code",
   "execution_count": 3,
   "metadata": {},
   "outputs": [
    {
     "name": "stdout",
     "output_type": "stream",
     "text": [
      "<class 'pandas.core.frame.DataFrame'>\n",
      "RangeIndex: 45584 entries, 0 to 45583\n",
      "Data columns (total 35 columns):\n",
      " #   Column                            Non-Null Count  Dtype  \n",
      "---  ------                            --------------  -----  \n",
      " 0   Delivery_person_Age               45584 non-null  float64\n",
      " 1   Delivery_person_Ratings           45584 non-null  float64\n",
      " 2   Restaurant_latitude               45584 non-null  float64\n",
      " 3   Restaurant_longitude              45584 non-null  float64\n",
      " 4   Delivery_location_latitude        45584 non-null  float64\n",
      " 5   Delivery_location_longitude       45584 non-null  float64\n",
      " 6   Road_traffic_density              45584 non-null  int64  \n",
      " 7   Vehicle_condition                 45584 non-null  int64  \n",
      " 8   multiple_deliveries               45584 non-null  float64\n",
      " 9   Festival                          45584 non-null  int64  \n",
      " 10  City                              45584 non-null  int64  \n",
      " 11  Time_taken (min)                  45584 non-null  int64  \n",
      " 12  Delivery_person_ID_encoded        45584 non-null  int64  \n",
      " 13  Day                               45584 non-null  int64  \n",
      " 14  Month                             45584 non-null  int64  \n",
      " 15  Year                              45584 non-null  int64  \n",
      " 16  Weather_conditions_Cloudy         45584 non-null  int64  \n",
      " 17  Weather_conditions_Fog            45584 non-null  int64  \n",
      " 18  Weather_conditions_Sandstorms     45584 non-null  int64  \n",
      " 19  Weather_conditions_Stormy         45584 non-null  int64  \n",
      " 20  Weather_conditions_Sunny          45584 non-null  int64  \n",
      " 21  Weather_conditions_Windy          45584 non-null  int64  \n",
      " 22  Time_Orderd_Hour                  45584 non-null  int64  \n",
      " 23  Time_Orderd_Minute                45584 non-null  int64  \n",
      " 24  Time_Order_picked_Hour            45584 non-null  float64\n",
      " 25  Time_Order_picked_Min             45584 non-null  int64  \n",
      " 26  Type_of_order_Buffet              45584 non-null  int64  \n",
      " 27  Type_of_order_Drinks              45584 non-null  int64  \n",
      " 28  Type_of_order_Meal                45584 non-null  int64  \n",
      " 29  Type_of_order_Snack               45584 non-null  int64  \n",
      " 30  Type_of_vehicle_bicycle           45584 non-null  int64  \n",
      " 31  Type_of_vehicle_electric_scooter  45584 non-null  int64  \n",
      " 32  Type_of_vehicle_motorcycle        45584 non-null  int64  \n",
      " 33  Type_of_vehicle_scooter           45584 non-null  int64  \n",
      " 34  distance                          45584 non-null  float64\n",
      "dtypes: float64(9), int64(26)\n",
      "memory usage: 12.2 MB\n"
     ]
    }
   ],
   "source": [
    "data.info()"
   ]
  },
  {
   "cell_type": "code",
   "execution_count": 4,
   "metadata": {},
   "outputs": [],
   "source": [
    "selected_columns = [\n",
    "    'Delivery_person_Age',\n",
    "    'Delivery_person_Ratings',\n",
    "    'Restaurant_latitude',\n",
    "    'Restaurant_longitude',\n",
    "    'Delivery_location_latitude',\n",
    "    'Delivery_location_longitude',\n",
    "    'Time_Orderd_Hour',\n",
    "                'Time_Orderd_Minute',\n",
    "    'Time_Order_picked_Hour',\n",
    "                'Time_Order_picked_Min',\n",
    "    'Weather_conditions_Cloudy',\n",
    "                'Weather_conditions_Fog',\n",
    "                'Weather_conditions_Sandstorms',\n",
    "                'Weather_conditions_Stormy',\n",
    "                'Weather_conditions_Sunny',\n",
    "                'Weather_conditions_Windy',\n",
    "    'multiple_deliveries',\n",
    "    'Festival',\n",
    "                'City',\n",
    "    'Road_traffic_density',\n",
    "    'Vehicle_condition',\n",
    "                'Type_of_vehicle_electric_scooter',\n",
    "    'Type_of_vehicle_motorcycle',\n",
    "    'Type_of_vehicle_scooter',\n",
    "    'distance',\n",
    "    'Time_taken (min)'\n",
    "]\n",
    "\n",
    "# Creating a new DataFrame with the selected columns\n",
    "new_data_frame = data[selected_columns]"
   ]
  },
  {
   "cell_type": "code",
   "execution_count": 5,
   "metadata": {},
   "outputs": [
    {
     "data": {
      "text/html": [
       "<div>\n",
       "<style scoped>\n",
       "    .dataframe tbody tr th:only-of-type {\n",
       "        vertical-align: middle;\n",
       "    }\n",
       "\n",
       "    .dataframe tbody tr th {\n",
       "        vertical-align: top;\n",
       "    }\n",
       "\n",
       "    .dataframe thead th {\n",
       "        text-align: right;\n",
       "    }\n",
       "</style>\n",
       "<table border=\"1\" class=\"dataframe\">\n",
       "  <thead>\n",
       "    <tr style=\"text-align: right;\">\n",
       "      <th></th>\n",
       "      <th>Delivery_person_Age</th>\n",
       "      <th>Delivery_person_Ratings</th>\n",
       "      <th>Restaurant_latitude</th>\n",
       "      <th>Restaurant_longitude</th>\n",
       "      <th>Delivery_location_latitude</th>\n",
       "      <th>Delivery_location_longitude</th>\n",
       "      <th>Time_Orderd_Hour</th>\n",
       "      <th>Time_Orderd_Minute</th>\n",
       "      <th>Time_Order_picked_Hour</th>\n",
       "      <th>Time_Order_picked_Min</th>\n",
       "      <th>...</th>\n",
       "      <th>multiple_deliveries</th>\n",
       "      <th>Festival</th>\n",
       "      <th>City</th>\n",
       "      <th>Road_traffic_density</th>\n",
       "      <th>Vehicle_condition</th>\n",
       "      <th>Type_of_vehicle_electric_scooter</th>\n",
       "      <th>Type_of_vehicle_motorcycle</th>\n",
       "      <th>Type_of_vehicle_scooter</th>\n",
       "      <th>distance</th>\n",
       "      <th>Time_taken (min)</th>\n",
       "    </tr>\n",
       "  </thead>\n",
       "  <tbody>\n",
       "    <tr>\n",
       "      <th>0</th>\n",
       "      <td>36.0</td>\n",
       "      <td>4.2</td>\n",
       "      <td>30.327968</td>\n",
       "      <td>78.046106</td>\n",
       "      <td>30.397968</td>\n",
       "      <td>78.116106</td>\n",
       "      <td>21</td>\n",
       "      <td>55</td>\n",
       "      <td>22.0</td>\n",
       "      <td>10</td>\n",
       "      <td>...</td>\n",
       "      <td>3.0</td>\n",
       "      <td>0</td>\n",
       "      <td>0</td>\n",
       "      <td>1</td>\n",
       "      <td>2</td>\n",
       "      <td>0</td>\n",
       "      <td>1</td>\n",
       "      <td>0</td>\n",
       "      <td>10.280582</td>\n",
       "      <td>46</td>\n",
       "    </tr>\n",
       "    <tr>\n",
       "      <th>1</th>\n",
       "      <td>21.0</td>\n",
       "      <td>4.7</td>\n",
       "      <td>10.003064</td>\n",
       "      <td>76.307589</td>\n",
       "      <td>10.043064</td>\n",
       "      <td>76.347589</td>\n",
       "      <td>14</td>\n",
       "      <td>55</td>\n",
       "      <td>15.0</td>\n",
       "      <td>5</td>\n",
       "      <td>...</td>\n",
       "      <td>1.0</td>\n",
       "      <td>0</td>\n",
       "      <td>0</td>\n",
       "      <td>0</td>\n",
       "      <td>1</td>\n",
       "      <td>0</td>\n",
       "      <td>1</td>\n",
       "      <td>0</td>\n",
       "      <td>6.242319</td>\n",
       "      <td>23</td>\n",
       "    </tr>\n",
       "    <tr>\n",
       "      <th>2</th>\n",
       "      <td>23.0</td>\n",
       "      <td>4.7</td>\n",
       "      <td>18.562450</td>\n",
       "      <td>73.916619</td>\n",
       "      <td>18.652450</td>\n",
       "      <td>74.006619</td>\n",
       "      <td>17</td>\n",
       "      <td>30</td>\n",
       "      <td>17.0</td>\n",
       "      <td>40</td>\n",
       "      <td>...</td>\n",
       "      <td>1.0</td>\n",
       "      <td>0</td>\n",
       "      <td>0</td>\n",
       "      <td>3</td>\n",
       "      <td>1</td>\n",
       "      <td>0</td>\n",
       "      <td>0</td>\n",
       "      <td>1</td>\n",
       "      <td>13.787860</td>\n",
       "      <td>21</td>\n",
       "    </tr>\n",
       "    <tr>\n",
       "      <th>3</th>\n",
       "      <td>34.0</td>\n",
       "      <td>4.3</td>\n",
       "      <td>30.899584</td>\n",
       "      <td>75.809346</td>\n",
       "      <td>30.919584</td>\n",
       "      <td>75.829346</td>\n",
       "      <td>9</td>\n",
       "      <td>20</td>\n",
       "      <td>9.0</td>\n",
       "      <td>30</td>\n",
       "      <td>...</td>\n",
       "      <td>0.0</td>\n",
       "      <td>0</td>\n",
       "      <td>0</td>\n",
       "      <td>2</td>\n",
       "      <td>0</td>\n",
       "      <td>0</td>\n",
       "      <td>1</td>\n",
       "      <td>0</td>\n",
       "      <td>2.930258</td>\n",
       "      <td>20</td>\n",
       "    </tr>\n",
       "    <tr>\n",
       "      <th>4</th>\n",
       "      <td>24.0</td>\n",
       "      <td>4.7</td>\n",
       "      <td>26.463504</td>\n",
       "      <td>80.372929</td>\n",
       "      <td>26.593504</td>\n",
       "      <td>80.502929</td>\n",
       "      <td>19</td>\n",
       "      <td>50</td>\n",
       "      <td>20.0</td>\n",
       "      <td>5</td>\n",
       "      <td>...</td>\n",
       "      <td>1.0</td>\n",
       "      <td>0</td>\n",
       "      <td>0</td>\n",
       "      <td>1</td>\n",
       "      <td>1</td>\n",
       "      <td>0</td>\n",
       "      <td>0</td>\n",
       "      <td>1</td>\n",
       "      <td>19.396618</td>\n",
       "      <td>41</td>\n",
       "    </tr>\n",
       "    <tr>\n",
       "      <th>...</th>\n",
       "      <td>...</td>\n",
       "      <td>...</td>\n",
       "      <td>...</td>\n",
       "      <td>...</td>\n",
       "      <td>...</td>\n",
       "      <td>...</td>\n",
       "      <td>...</td>\n",
       "      <td>...</td>\n",
       "      <td>...</td>\n",
       "      <td>...</td>\n",
       "      <td>...</td>\n",
       "      <td>...</td>\n",
       "      <td>...</td>\n",
       "      <td>...</td>\n",
       "      <td>...</td>\n",
       "      <td>...</td>\n",
       "      <td>...</td>\n",
       "      <td>...</td>\n",
       "      <td>...</td>\n",
       "      <td>...</td>\n",
       "      <td>...</td>\n",
       "    </tr>\n",
       "    <tr>\n",
       "      <th>45579</th>\n",
       "      <td>30.0</td>\n",
       "      <td>4.8</td>\n",
       "      <td>26.902328</td>\n",
       "      <td>75.794257</td>\n",
       "      <td>26.912328</td>\n",
       "      <td>75.804257</td>\n",
       "      <td>11</td>\n",
       "      <td>35</td>\n",
       "      <td>11.0</td>\n",
       "      <td>45</td>\n",
       "      <td>...</td>\n",
       "      <td>0.0</td>\n",
       "      <td>0</td>\n",
       "      <td>0</td>\n",
       "      <td>0</td>\n",
       "      <td>1</td>\n",
       "      <td>0</td>\n",
       "      <td>1</td>\n",
       "      <td>0</td>\n",
       "      <td>1.489846</td>\n",
       "      <td>32</td>\n",
       "    </tr>\n",
       "    <tr>\n",
       "      <th>45580</th>\n",
       "      <td>21.0</td>\n",
       "      <td>4.6</td>\n",
       "      <td>0.000000</td>\n",
       "      <td>0.000000</td>\n",
       "      <td>0.070000</td>\n",
       "      <td>0.070000</td>\n",
       "      <td>19</td>\n",
       "      <td>55</td>\n",
       "      <td>20.0</td>\n",
       "      <td>10</td>\n",
       "      <td>...</td>\n",
       "      <td>1.0</td>\n",
       "      <td>0</td>\n",
       "      <td>0</td>\n",
       "      <td>1</td>\n",
       "      <td>0</td>\n",
       "      <td>0</td>\n",
       "      <td>1</td>\n",
       "      <td>0</td>\n",
       "      <td>11.007735</td>\n",
       "      <td>36</td>\n",
       "    </tr>\n",
       "    <tr>\n",
       "      <th>45581</th>\n",
       "      <td>30.0</td>\n",
       "      <td>4.9</td>\n",
       "      <td>13.022394</td>\n",
       "      <td>80.242439</td>\n",
       "      <td>13.052394</td>\n",
       "      <td>80.272439</td>\n",
       "      <td>23</td>\n",
       "      <td>50</td>\n",
       "      <td>24.0</td>\n",
       "      <td>5</td>\n",
       "      <td>...</td>\n",
       "      <td>0.0</td>\n",
       "      <td>0</td>\n",
       "      <td>0</td>\n",
       "      <td>2</td>\n",
       "      <td>1</td>\n",
       "      <td>0</td>\n",
       "      <td>0</td>\n",
       "      <td>1</td>\n",
       "      <td>4.657195</td>\n",
       "      <td>16</td>\n",
       "    </tr>\n",
       "    <tr>\n",
       "      <th>45582</th>\n",
       "      <td>20.0</td>\n",
       "      <td>4.7</td>\n",
       "      <td>11.001753</td>\n",
       "      <td>76.986241</td>\n",
       "      <td>11.041753</td>\n",
       "      <td>77.026241</td>\n",
       "      <td>13</td>\n",
       "      <td>35</td>\n",
       "      <td>13.0</td>\n",
       "      <td>40</td>\n",
       "      <td>...</td>\n",
       "      <td>1.0</td>\n",
       "      <td>0</td>\n",
       "      <td>0</td>\n",
       "      <td>0</td>\n",
       "      <td>0</td>\n",
       "      <td>0</td>\n",
       "      <td>1</td>\n",
       "      <td>0</td>\n",
       "      <td>6.232393</td>\n",
       "      <td>26</td>\n",
       "    </tr>\n",
       "    <tr>\n",
       "      <th>45583</th>\n",
       "      <td>23.0</td>\n",
       "      <td>4.9</td>\n",
       "      <td>23.351058</td>\n",
       "      <td>85.325731</td>\n",
       "      <td>23.431058</td>\n",
       "      <td>85.405731</td>\n",
       "      <td>17</td>\n",
       "      <td>10</td>\n",
       "      <td>17.0</td>\n",
       "      <td>15</td>\n",
       "      <td>...</td>\n",
       "      <td>1.0</td>\n",
       "      <td>0</td>\n",
       "      <td>0</td>\n",
       "      <td>3</td>\n",
       "      <td>2</td>\n",
       "      <td>0</td>\n",
       "      <td>0</td>\n",
       "      <td>1</td>\n",
       "      <td>12.074396</td>\n",
       "      <td>36</td>\n",
       "    </tr>\n",
       "  </tbody>\n",
       "</table>\n",
       "<p>45584 rows × 26 columns</p>\n",
       "</div>"
      ],
      "text/plain": [
       "       Delivery_person_Age  Delivery_person_Ratings  Restaurant_latitude  \\\n",
       "0                     36.0                      4.2            30.327968   \n",
       "1                     21.0                      4.7            10.003064   \n",
       "2                     23.0                      4.7            18.562450   \n",
       "3                     34.0                      4.3            30.899584   \n",
       "4                     24.0                      4.7            26.463504   \n",
       "...                    ...                      ...                  ...   \n",
       "45579                 30.0                      4.8            26.902328   \n",
       "45580                 21.0                      4.6             0.000000   \n",
       "45581                 30.0                      4.9            13.022394   \n",
       "45582                 20.0                      4.7            11.001753   \n",
       "45583                 23.0                      4.9            23.351058   \n",
       "\n",
       "       Restaurant_longitude  Delivery_location_latitude  \\\n",
       "0                 78.046106                   30.397968   \n",
       "1                 76.307589                   10.043064   \n",
       "2                 73.916619                   18.652450   \n",
       "3                 75.809346                   30.919584   \n",
       "4                 80.372929                   26.593504   \n",
       "...                     ...                         ...   \n",
       "45579             75.794257                   26.912328   \n",
       "45580              0.000000                    0.070000   \n",
       "45581             80.242439                   13.052394   \n",
       "45582             76.986241                   11.041753   \n",
       "45583             85.325731                   23.431058   \n",
       "\n",
       "       Delivery_location_longitude  Time_Orderd_Hour  Time_Orderd_Minute  \\\n",
       "0                        78.116106                21                  55   \n",
       "1                        76.347589                14                  55   \n",
       "2                        74.006619                17                  30   \n",
       "3                        75.829346                 9                  20   \n",
       "4                        80.502929                19                  50   \n",
       "...                            ...               ...                 ...   \n",
       "45579                    75.804257                11                  35   \n",
       "45580                     0.070000                19                  55   \n",
       "45581                    80.272439                23                  50   \n",
       "45582                    77.026241                13                  35   \n",
       "45583                    85.405731                17                  10   \n",
       "\n",
       "       Time_Order_picked_Hour  Time_Order_picked_Min  ...  \\\n",
       "0                        22.0                     10  ...   \n",
       "1                        15.0                      5  ...   \n",
       "2                        17.0                     40  ...   \n",
       "3                         9.0                     30  ...   \n",
       "4                        20.0                      5  ...   \n",
       "...                       ...                    ...  ...   \n",
       "45579                    11.0                     45  ...   \n",
       "45580                    20.0                     10  ...   \n",
       "45581                    24.0                      5  ...   \n",
       "45582                    13.0                     40  ...   \n",
       "45583                    17.0                     15  ...   \n",
       "\n",
       "       multiple_deliveries  Festival  City  Road_traffic_density  \\\n",
       "0                      3.0         0     0                     1   \n",
       "1                      1.0         0     0                     0   \n",
       "2                      1.0         0     0                     3   \n",
       "3                      0.0         0     0                     2   \n",
       "4                      1.0         0     0                     1   \n",
       "...                    ...       ...   ...                   ...   \n",
       "45579                  0.0         0     0                     0   \n",
       "45580                  1.0         0     0                     1   \n",
       "45581                  0.0         0     0                     2   \n",
       "45582                  1.0         0     0                     0   \n",
       "45583                  1.0         0     0                     3   \n",
       "\n",
       "       Vehicle_condition  Type_of_vehicle_electric_scooter  \\\n",
       "0                      2                                 0   \n",
       "1                      1                                 0   \n",
       "2                      1                                 0   \n",
       "3                      0                                 0   \n",
       "4                      1                                 0   \n",
       "...                  ...                               ...   \n",
       "45579                  1                                 0   \n",
       "45580                  0                                 0   \n",
       "45581                  1                                 0   \n",
       "45582                  0                                 0   \n",
       "45583                  2                                 0   \n",
       "\n",
       "       Type_of_vehicle_motorcycle  Type_of_vehicle_scooter   distance  \\\n",
       "0                               1                        0  10.280582   \n",
       "1                               1                        0   6.242319   \n",
       "2                               0                        1  13.787860   \n",
       "3                               1                        0   2.930258   \n",
       "4                               0                        1  19.396618   \n",
       "...                           ...                      ...        ...   \n",
       "45579                           1                        0   1.489846   \n",
       "45580                           1                        0  11.007735   \n",
       "45581                           0                        1   4.657195   \n",
       "45582                           1                        0   6.232393   \n",
       "45583                           0                        1  12.074396   \n",
       "\n",
       "       Time_taken (min)  \n",
       "0                    46  \n",
       "1                    23  \n",
       "2                    21  \n",
       "3                    20  \n",
       "4                    41  \n",
       "...                 ...  \n",
       "45579                32  \n",
       "45580                36  \n",
       "45581                16  \n",
       "45582                26  \n",
       "45583                36  \n",
       "\n",
       "[45584 rows x 26 columns]"
      ]
     },
     "execution_count": 5,
     "metadata": {},
     "output_type": "execute_result"
    }
   ],
   "source": [
    "new_data_frame"
   ]
  },
  {
   "cell_type": "code",
   "execution_count": 6,
   "metadata": {},
   "outputs": [],
   "source": [
    "#Divide the dataset into train and test dataset\n",
    "from sklearn.model_selection import train_test_split"
   ]
  },
  {
   "cell_type": "code",
   "execution_count": 7,
   "metadata": {},
   "outputs": [],
   "source": [
    "#Divide the dataset into independent and dependent dataset\n",
    "X = new_data_frame.iloc[:,:-1] #Independent features\n",
    "y = new_data_frame.iloc[:,-1]  #Dependent or Target feature"
   ]
  },
  {
   "cell_type": "code",
   "execution_count": 8,
   "metadata": {},
   "outputs": [
    {
     "data": {
      "text/html": [
       "<div>\n",
       "<style scoped>\n",
       "    .dataframe tbody tr th:only-of-type {\n",
       "        vertical-align: middle;\n",
       "    }\n",
       "\n",
       "    .dataframe tbody tr th {\n",
       "        vertical-align: top;\n",
       "    }\n",
       "\n",
       "    .dataframe thead th {\n",
       "        text-align: right;\n",
       "    }\n",
       "</style>\n",
       "<table border=\"1\" class=\"dataframe\">\n",
       "  <thead>\n",
       "    <tr style=\"text-align: right;\">\n",
       "      <th></th>\n",
       "      <th>Delivery_person_Age</th>\n",
       "      <th>Delivery_person_Ratings</th>\n",
       "      <th>Restaurant_latitude</th>\n",
       "      <th>Restaurant_longitude</th>\n",
       "      <th>Delivery_location_latitude</th>\n",
       "      <th>Delivery_location_longitude</th>\n",
       "      <th>Time_Orderd_Hour</th>\n",
       "      <th>Time_Orderd_Minute</th>\n",
       "      <th>Time_Order_picked_Hour</th>\n",
       "      <th>Time_Order_picked_Min</th>\n",
       "      <th>...</th>\n",
       "      <th>Weather_conditions_Windy</th>\n",
       "      <th>multiple_deliveries</th>\n",
       "      <th>Festival</th>\n",
       "      <th>City</th>\n",
       "      <th>Road_traffic_density</th>\n",
       "      <th>Vehicle_condition</th>\n",
       "      <th>Type_of_vehicle_electric_scooter</th>\n",
       "      <th>Type_of_vehicle_motorcycle</th>\n",
       "      <th>Type_of_vehicle_scooter</th>\n",
       "      <th>distance</th>\n",
       "    </tr>\n",
       "  </thead>\n",
       "  <tbody>\n",
       "    <tr>\n",
       "      <th>0</th>\n",
       "      <td>36.0</td>\n",
       "      <td>4.2</td>\n",
       "      <td>30.327968</td>\n",
       "      <td>78.046106</td>\n",
       "      <td>30.397968</td>\n",
       "      <td>78.116106</td>\n",
       "      <td>21</td>\n",
       "      <td>55</td>\n",
       "      <td>22.0</td>\n",
       "      <td>10</td>\n",
       "      <td>...</td>\n",
       "      <td>0</td>\n",
       "      <td>3.0</td>\n",
       "      <td>0</td>\n",
       "      <td>0</td>\n",
       "      <td>1</td>\n",
       "      <td>2</td>\n",
       "      <td>0</td>\n",
       "      <td>1</td>\n",
       "      <td>0</td>\n",
       "      <td>10.280582</td>\n",
       "    </tr>\n",
       "    <tr>\n",
       "      <th>1</th>\n",
       "      <td>21.0</td>\n",
       "      <td>4.7</td>\n",
       "      <td>10.003064</td>\n",
       "      <td>76.307589</td>\n",
       "      <td>10.043064</td>\n",
       "      <td>76.347589</td>\n",
       "      <td>14</td>\n",
       "      <td>55</td>\n",
       "      <td>15.0</td>\n",
       "      <td>5</td>\n",
       "      <td>...</td>\n",
       "      <td>0</td>\n",
       "      <td>1.0</td>\n",
       "      <td>0</td>\n",
       "      <td>0</td>\n",
       "      <td>0</td>\n",
       "      <td>1</td>\n",
       "      <td>0</td>\n",
       "      <td>1</td>\n",
       "      <td>0</td>\n",
       "      <td>6.242319</td>\n",
       "    </tr>\n",
       "    <tr>\n",
       "      <th>2</th>\n",
       "      <td>23.0</td>\n",
       "      <td>4.7</td>\n",
       "      <td>18.562450</td>\n",
       "      <td>73.916619</td>\n",
       "      <td>18.652450</td>\n",
       "      <td>74.006619</td>\n",
       "      <td>17</td>\n",
       "      <td>30</td>\n",
       "      <td>17.0</td>\n",
       "      <td>40</td>\n",
       "      <td>...</td>\n",
       "      <td>0</td>\n",
       "      <td>1.0</td>\n",
       "      <td>0</td>\n",
       "      <td>0</td>\n",
       "      <td>3</td>\n",
       "      <td>1</td>\n",
       "      <td>0</td>\n",
       "      <td>0</td>\n",
       "      <td>1</td>\n",
       "      <td>13.787860</td>\n",
       "    </tr>\n",
       "    <tr>\n",
       "      <th>3</th>\n",
       "      <td>34.0</td>\n",
       "      <td>4.3</td>\n",
       "      <td>30.899584</td>\n",
       "      <td>75.809346</td>\n",
       "      <td>30.919584</td>\n",
       "      <td>75.829346</td>\n",
       "      <td>9</td>\n",
       "      <td>20</td>\n",
       "      <td>9.0</td>\n",
       "      <td>30</td>\n",
       "      <td>...</td>\n",
       "      <td>0</td>\n",
       "      <td>0.0</td>\n",
       "      <td>0</td>\n",
       "      <td>0</td>\n",
       "      <td>2</td>\n",
       "      <td>0</td>\n",
       "      <td>0</td>\n",
       "      <td>1</td>\n",
       "      <td>0</td>\n",
       "      <td>2.930258</td>\n",
       "    </tr>\n",
       "    <tr>\n",
       "      <th>4</th>\n",
       "      <td>24.0</td>\n",
       "      <td>4.7</td>\n",
       "      <td>26.463504</td>\n",
       "      <td>80.372929</td>\n",
       "      <td>26.593504</td>\n",
       "      <td>80.502929</td>\n",
       "      <td>19</td>\n",
       "      <td>50</td>\n",
       "      <td>20.0</td>\n",
       "      <td>5</td>\n",
       "      <td>...</td>\n",
       "      <td>0</td>\n",
       "      <td>1.0</td>\n",
       "      <td>0</td>\n",
       "      <td>0</td>\n",
       "      <td>1</td>\n",
       "      <td>1</td>\n",
       "      <td>0</td>\n",
       "      <td>0</td>\n",
       "      <td>1</td>\n",
       "      <td>19.396618</td>\n",
       "    </tr>\n",
       "    <tr>\n",
       "      <th>...</th>\n",
       "      <td>...</td>\n",
       "      <td>...</td>\n",
       "      <td>...</td>\n",
       "      <td>...</td>\n",
       "      <td>...</td>\n",
       "      <td>...</td>\n",
       "      <td>...</td>\n",
       "      <td>...</td>\n",
       "      <td>...</td>\n",
       "      <td>...</td>\n",
       "      <td>...</td>\n",
       "      <td>...</td>\n",
       "      <td>...</td>\n",
       "      <td>...</td>\n",
       "      <td>...</td>\n",
       "      <td>...</td>\n",
       "      <td>...</td>\n",
       "      <td>...</td>\n",
       "      <td>...</td>\n",
       "      <td>...</td>\n",
       "      <td>...</td>\n",
       "    </tr>\n",
       "    <tr>\n",
       "      <th>45579</th>\n",
       "      <td>30.0</td>\n",
       "      <td>4.8</td>\n",
       "      <td>26.902328</td>\n",
       "      <td>75.794257</td>\n",
       "      <td>26.912328</td>\n",
       "      <td>75.804257</td>\n",
       "      <td>11</td>\n",
       "      <td>35</td>\n",
       "      <td>11.0</td>\n",
       "      <td>45</td>\n",
       "      <td>...</td>\n",
       "      <td>1</td>\n",
       "      <td>0.0</td>\n",
       "      <td>0</td>\n",
       "      <td>0</td>\n",
       "      <td>0</td>\n",
       "      <td>1</td>\n",
       "      <td>0</td>\n",
       "      <td>1</td>\n",
       "      <td>0</td>\n",
       "      <td>1.489846</td>\n",
       "    </tr>\n",
       "    <tr>\n",
       "      <th>45580</th>\n",
       "      <td>21.0</td>\n",
       "      <td>4.6</td>\n",
       "      <td>0.000000</td>\n",
       "      <td>0.000000</td>\n",
       "      <td>0.070000</td>\n",
       "      <td>0.070000</td>\n",
       "      <td>19</td>\n",
       "      <td>55</td>\n",
       "      <td>20.0</td>\n",
       "      <td>10</td>\n",
       "      <td>...</td>\n",
       "      <td>1</td>\n",
       "      <td>1.0</td>\n",
       "      <td>0</td>\n",
       "      <td>0</td>\n",
       "      <td>1</td>\n",
       "      <td>0</td>\n",
       "      <td>0</td>\n",
       "      <td>1</td>\n",
       "      <td>0</td>\n",
       "      <td>11.007735</td>\n",
       "    </tr>\n",
       "    <tr>\n",
       "      <th>45581</th>\n",
       "      <td>30.0</td>\n",
       "      <td>4.9</td>\n",
       "      <td>13.022394</td>\n",
       "      <td>80.242439</td>\n",
       "      <td>13.052394</td>\n",
       "      <td>80.272439</td>\n",
       "      <td>23</td>\n",
       "      <td>50</td>\n",
       "      <td>24.0</td>\n",
       "      <td>5</td>\n",
       "      <td>...</td>\n",
       "      <td>0</td>\n",
       "      <td>0.0</td>\n",
       "      <td>0</td>\n",
       "      <td>0</td>\n",
       "      <td>2</td>\n",
       "      <td>1</td>\n",
       "      <td>0</td>\n",
       "      <td>0</td>\n",
       "      <td>1</td>\n",
       "      <td>4.657195</td>\n",
       "    </tr>\n",
       "    <tr>\n",
       "      <th>45582</th>\n",
       "      <td>20.0</td>\n",
       "      <td>4.7</td>\n",
       "      <td>11.001753</td>\n",
       "      <td>76.986241</td>\n",
       "      <td>11.041753</td>\n",
       "      <td>77.026241</td>\n",
       "      <td>13</td>\n",
       "      <td>35</td>\n",
       "      <td>13.0</td>\n",
       "      <td>40</td>\n",
       "      <td>...</td>\n",
       "      <td>0</td>\n",
       "      <td>1.0</td>\n",
       "      <td>0</td>\n",
       "      <td>0</td>\n",
       "      <td>0</td>\n",
       "      <td>0</td>\n",
       "      <td>0</td>\n",
       "      <td>1</td>\n",
       "      <td>0</td>\n",
       "      <td>6.232393</td>\n",
       "    </tr>\n",
       "    <tr>\n",
       "      <th>45583</th>\n",
       "      <td>23.0</td>\n",
       "      <td>4.9</td>\n",
       "      <td>23.351058</td>\n",
       "      <td>85.325731</td>\n",
       "      <td>23.431058</td>\n",
       "      <td>85.405731</td>\n",
       "      <td>17</td>\n",
       "      <td>10</td>\n",
       "      <td>17.0</td>\n",
       "      <td>15</td>\n",
       "      <td>...</td>\n",
       "      <td>0</td>\n",
       "      <td>1.0</td>\n",
       "      <td>0</td>\n",
       "      <td>0</td>\n",
       "      <td>3</td>\n",
       "      <td>2</td>\n",
       "      <td>0</td>\n",
       "      <td>0</td>\n",
       "      <td>1</td>\n",
       "      <td>12.074396</td>\n",
       "    </tr>\n",
       "  </tbody>\n",
       "</table>\n",
       "<p>45584 rows × 25 columns</p>\n",
       "</div>"
      ],
      "text/plain": [
       "       Delivery_person_Age  Delivery_person_Ratings  Restaurant_latitude  \\\n",
       "0                     36.0                      4.2            30.327968   \n",
       "1                     21.0                      4.7            10.003064   \n",
       "2                     23.0                      4.7            18.562450   \n",
       "3                     34.0                      4.3            30.899584   \n",
       "4                     24.0                      4.7            26.463504   \n",
       "...                    ...                      ...                  ...   \n",
       "45579                 30.0                      4.8            26.902328   \n",
       "45580                 21.0                      4.6             0.000000   \n",
       "45581                 30.0                      4.9            13.022394   \n",
       "45582                 20.0                      4.7            11.001753   \n",
       "45583                 23.0                      4.9            23.351058   \n",
       "\n",
       "       Restaurant_longitude  Delivery_location_latitude  \\\n",
       "0                 78.046106                   30.397968   \n",
       "1                 76.307589                   10.043064   \n",
       "2                 73.916619                   18.652450   \n",
       "3                 75.809346                   30.919584   \n",
       "4                 80.372929                   26.593504   \n",
       "...                     ...                         ...   \n",
       "45579             75.794257                   26.912328   \n",
       "45580              0.000000                    0.070000   \n",
       "45581             80.242439                   13.052394   \n",
       "45582             76.986241                   11.041753   \n",
       "45583             85.325731                   23.431058   \n",
       "\n",
       "       Delivery_location_longitude  Time_Orderd_Hour  Time_Orderd_Minute  \\\n",
       "0                        78.116106                21                  55   \n",
       "1                        76.347589                14                  55   \n",
       "2                        74.006619                17                  30   \n",
       "3                        75.829346                 9                  20   \n",
       "4                        80.502929                19                  50   \n",
       "...                            ...               ...                 ...   \n",
       "45579                    75.804257                11                  35   \n",
       "45580                     0.070000                19                  55   \n",
       "45581                    80.272439                23                  50   \n",
       "45582                    77.026241                13                  35   \n",
       "45583                    85.405731                17                  10   \n",
       "\n",
       "       Time_Order_picked_Hour  Time_Order_picked_Min  ...  \\\n",
       "0                        22.0                     10  ...   \n",
       "1                        15.0                      5  ...   \n",
       "2                        17.0                     40  ...   \n",
       "3                         9.0                     30  ...   \n",
       "4                        20.0                      5  ...   \n",
       "...                       ...                    ...  ...   \n",
       "45579                    11.0                     45  ...   \n",
       "45580                    20.0                     10  ...   \n",
       "45581                    24.0                      5  ...   \n",
       "45582                    13.0                     40  ...   \n",
       "45583                    17.0                     15  ...   \n",
       "\n",
       "       Weather_conditions_Windy  multiple_deliveries  Festival  City  \\\n",
       "0                             0                  3.0         0     0   \n",
       "1                             0                  1.0         0     0   \n",
       "2                             0                  1.0         0     0   \n",
       "3                             0                  0.0         0     0   \n",
       "4                             0                  1.0         0     0   \n",
       "...                         ...                  ...       ...   ...   \n",
       "45579                         1                  0.0         0     0   \n",
       "45580                         1                  1.0         0     0   \n",
       "45581                         0                  0.0         0     0   \n",
       "45582                         0                  1.0         0     0   \n",
       "45583                         0                  1.0         0     0   \n",
       "\n",
       "       Road_traffic_density  Vehicle_condition  \\\n",
       "0                         1                  2   \n",
       "1                         0                  1   \n",
       "2                         3                  1   \n",
       "3                         2                  0   \n",
       "4                         1                  1   \n",
       "...                     ...                ...   \n",
       "45579                     0                  1   \n",
       "45580                     1                  0   \n",
       "45581                     2                  1   \n",
       "45582                     0                  0   \n",
       "45583                     3                  2   \n",
       "\n",
       "       Type_of_vehicle_electric_scooter  Type_of_vehicle_motorcycle  \\\n",
       "0                                     0                           1   \n",
       "1                                     0                           1   \n",
       "2                                     0                           0   \n",
       "3                                     0                           1   \n",
       "4                                     0                           0   \n",
       "...                                 ...                         ...   \n",
       "45579                                 0                           1   \n",
       "45580                                 0                           1   \n",
       "45581                                 0                           0   \n",
       "45582                                 0                           1   \n",
       "45583                                 0                           0   \n",
       "\n",
       "       Type_of_vehicle_scooter   distance  \n",
       "0                            0  10.280582  \n",
       "1                            0   6.242319  \n",
       "2                            1  13.787860  \n",
       "3                            0   2.930258  \n",
       "4                            1  19.396618  \n",
       "...                        ...        ...  \n",
       "45579                        0   1.489846  \n",
       "45580                        0  11.007735  \n",
       "45581                        1   4.657195  \n",
       "45582                        0   6.232393  \n",
       "45583                        1  12.074396  \n",
       "\n",
       "[45584 rows x 25 columns]"
      ]
     },
     "execution_count": 8,
     "metadata": {},
     "output_type": "execute_result"
    }
   ],
   "source": [
    "X"
   ]
  },
  {
   "cell_type": "code",
   "execution_count": 9,
   "metadata": {},
   "outputs": [
    {
     "data": {
      "text/plain": [
       "0        46\n",
       "1        23\n",
       "2        21\n",
       "3        20\n",
       "4        41\n",
       "         ..\n",
       "45579    32\n",
       "45580    36\n",
       "45581    16\n",
       "45582    26\n",
       "45583    36\n",
       "Name: Time_taken (min), Length: 45584, dtype: int64"
      ]
     },
     "execution_count": 9,
     "metadata": {},
     "output_type": "execute_result"
    }
   ],
   "source": [
    "y"
   ]
  },
  {
   "cell_type": "code",
   "execution_count": 16,
   "metadata": {},
   "outputs": [],
   "source": [
    "x_train, x_test, y_train, y_test = train_test_split(X, y, test_size=0.32, random_state=42)"
   ]
  },
  {
   "cell_type": "code",
   "execution_count": 17,
   "metadata": {},
   "outputs": [
    {
     "name": "stdout",
     "output_type": "stream",
     "text": [
      "(30997, 25) (30997,)\n"
     ]
    }
   ],
   "source": [
    "print(x_train.shape,y_train.shape)"
   ]
  },
  {
   "cell_type": "code",
   "execution_count": 18,
   "metadata": {},
   "outputs": [],
   "source": [
    "from sklearn.ensemble import GradientBoostingRegressor\n",
    "gb = GradientBoostingRegressor()"
   ]
  },
  {
   "cell_type": "code",
   "execution_count": 19,
   "metadata": {},
   "outputs": [
    {
     "data": {
      "text/plain": [
       "GradientBoostingRegressor()"
      ]
     },
     "execution_count": 19,
     "metadata": {},
     "output_type": "execute_result"
    }
   ],
   "source": [
    "gb.fit(x_train, y_train)"
   ]
  },
  {
   "cell_type": "code",
   "execution_count": 20,
   "metadata": {},
   "outputs": [],
   "source": [
    "y_pred = gb.predict(x_test)"
   ]
  },
  {
   "cell_type": "code",
   "execution_count": 27,
   "metadata": {},
   "outputs": [
    {
     "data": {
      "application/vnd.plotly.v1+json": {
       "config": {
        "plotlyServerURL": "https://plot.ly"
       },
       "data": [
        {
         "marker": {
          "color": "green"
         },
         "mode": "markers",
         "name": "Actual",
         "type": "scatter",
         "x": [
          0,
          1,
          2,
          3,
          4,
          5,
          6,
          7,
          8,
          9,
          10,
          11,
          12,
          13,
          14,
          15,
          16,
          17,
          18,
          19,
          20,
          21,
          22,
          23,
          24,
          25,
          26,
          27,
          28,
          29,
          30,
          31,
          32,
          33,
          34,
          35,
          36,
          37,
          38,
          39,
          40,
          41,
          42,
          43,
          44,
          45,
          46,
          47,
          48,
          49
         ],
         "y": [
          33,
          28,
          22,
          25,
          35,
          27,
          48,
          27,
          24,
          18,
          39,
          26,
          26,
          18,
          19,
          19,
          33,
          39,
          10,
          37,
          37,
          24,
          26,
          44,
          24,
          23,
          30,
          50,
          36,
          28,
          28,
          42,
          52,
          35,
          36,
          15,
          44,
          11,
          26,
          26,
          32,
          16,
          22,
          28,
          15,
          19,
          20,
          41,
          27,
          25
         ]
        },
        {
         "marker": {
          "color": "red"
         },
         "mode": "markers",
         "name": "Predicted",
         "type": "scatter",
         "x": [
          0,
          1,
          2,
          3,
          4,
          5,
          6,
          7,
          8,
          9,
          10,
          11,
          12,
          13,
          14,
          15,
          16,
          17,
          18,
          19,
          20,
          21,
          22,
          23,
          24,
          25,
          26,
          27,
          28,
          29,
          30,
          31,
          32,
          33,
          34,
          35,
          36,
          37,
          38,
          39,
          40,
          41,
          42,
          43,
          44,
          45,
          46,
          47,
          48,
          49
         ],
         "y": [
          31.994552007887467,
          22.79224398313454,
          20.257292071961782,
          17.984844964755183,
          38.730458579442114,
          26.831679436342007,
          40.80649745721056,
          28.79214092730527,
          20.21296604109965,
          21.279820937389626,
          34.7581495197422,
          28.690803110733174,
          21.714963428065236,
          19.271463603642133,
          18.152868064692534,
          19.03163193265517,
          34.65600943237378,
          31.668538522281988,
          13.190955684482102,
          31.41821460721605,
          36.630124341322265,
          24.543214171795803,
          21.522296682806374,
          32.033515722780365,
          19.274474267106434,
          17.664096972627764,
          33.57713120199001,
          37.17380317442221,
          34.89040629015212,
          21.951827945539495,
          25.450328098362558,
          39.756073843342776,
          44.11513053272352,
          37.41565006339461,
          26.856945770164486,
          12.79880636154928,
          38.02402475009213,
          16.88139526248535,
          23.424974688969673,
          32.34996997794918,
          27.857003429372373,
          20.827539046386697,
          20.11679421830889,
          27.634066712692235,
          22.365418443040564,
          20.827539046386697,
          28.653382266728176,
          40.36292096841046,
          35.32621894496097,
          27.09541687604192
         ]
        },
        {
         "line": {
          "color": "blue",
          "width": 2
         },
         "mode": "lines",
         "name": "Regression line",
         "type": "scatter",
         "x": [
          0,
          1,
          2,
          3,
          4,
          5,
          6,
          7,
          8,
          9,
          10,
          11,
          12,
          13,
          14,
          15,
          16,
          17,
          18,
          19,
          20,
          21,
          22,
          23,
          24,
          25,
          26,
          27,
          28,
          29,
          30,
          31,
          32,
          33,
          34,
          35,
          36,
          37,
          38,
          39,
          40,
          41,
          42,
          43,
          44,
          45,
          46,
          47,
          48,
          49
         ],
         "y": [
          31.994552007887467,
          22.79224398313454,
          20.257292071961782,
          17.984844964755183,
          38.730458579442114,
          26.831679436342007,
          40.80649745721056,
          28.79214092730527,
          20.21296604109965,
          21.279820937389626,
          34.7581495197422,
          28.690803110733174,
          21.714963428065236,
          19.271463603642133,
          18.152868064692534,
          19.03163193265517,
          34.65600943237378,
          31.668538522281988,
          13.190955684482102,
          31.41821460721605,
          36.630124341322265,
          24.543214171795803,
          21.522296682806374,
          32.033515722780365,
          19.274474267106434,
          17.664096972627764,
          33.57713120199001,
          37.17380317442221,
          34.89040629015212,
          21.951827945539495,
          25.450328098362558,
          39.756073843342776,
          44.11513053272352,
          37.41565006339461,
          26.856945770164486,
          12.79880636154928,
          38.02402475009213,
          16.88139526248535,
          23.424974688969673,
          32.34996997794918,
          27.857003429372373,
          20.827539046386697,
          20.11679421830889,
          27.634066712692235,
          22.365418443040564,
          20.827539046386697,
          28.653382266728176,
          40.36292096841046,
          35.32621894496097,
          27.09541687604192
         ]
        }
       ],
       "layout": {
        "hovermode": "closest",
        "template": {
         "data": {
          "bar": [
           {
            "error_x": {
             "color": "#2a3f5f"
            },
            "error_y": {
             "color": "#2a3f5f"
            },
            "marker": {
             "line": {
              "color": "#E5ECF6",
              "width": 0.5
             },
             "pattern": {
              "fillmode": "overlay",
              "size": 10,
              "solidity": 0.2
             }
            },
            "type": "bar"
           }
          ],
          "barpolar": [
           {
            "marker": {
             "line": {
              "color": "#E5ECF6",
              "width": 0.5
             },
             "pattern": {
              "fillmode": "overlay",
              "size": 10,
              "solidity": 0.2
             }
            },
            "type": "barpolar"
           }
          ],
          "carpet": [
           {
            "aaxis": {
             "endlinecolor": "#2a3f5f",
             "gridcolor": "white",
             "linecolor": "white",
             "minorgridcolor": "white",
             "startlinecolor": "#2a3f5f"
            },
            "baxis": {
             "endlinecolor": "#2a3f5f",
             "gridcolor": "white",
             "linecolor": "white",
             "minorgridcolor": "white",
             "startlinecolor": "#2a3f5f"
            },
            "type": "carpet"
           }
          ],
          "choropleth": [
           {
            "colorbar": {
             "outlinewidth": 0,
             "ticks": ""
            },
            "type": "choropleth"
           }
          ],
          "contour": [
           {
            "colorbar": {
             "outlinewidth": 0,
             "ticks": ""
            },
            "colorscale": [
             [
              0,
              "#0d0887"
             ],
             [
              0.1111111111111111,
              "#46039f"
             ],
             [
              0.2222222222222222,
              "#7201a8"
             ],
             [
              0.3333333333333333,
              "#9c179e"
             ],
             [
              0.4444444444444444,
              "#bd3786"
             ],
             [
              0.5555555555555556,
              "#d8576b"
             ],
             [
              0.6666666666666666,
              "#ed7953"
             ],
             [
              0.7777777777777778,
              "#fb9f3a"
             ],
             [
              0.8888888888888888,
              "#fdca26"
             ],
             [
              1,
              "#f0f921"
             ]
            ],
            "type": "contour"
           }
          ],
          "contourcarpet": [
           {
            "colorbar": {
             "outlinewidth": 0,
             "ticks": ""
            },
            "type": "contourcarpet"
           }
          ],
          "heatmap": [
           {
            "colorbar": {
             "outlinewidth": 0,
             "ticks": ""
            },
            "colorscale": [
             [
              0,
              "#0d0887"
             ],
             [
              0.1111111111111111,
              "#46039f"
             ],
             [
              0.2222222222222222,
              "#7201a8"
             ],
             [
              0.3333333333333333,
              "#9c179e"
             ],
             [
              0.4444444444444444,
              "#bd3786"
             ],
             [
              0.5555555555555556,
              "#d8576b"
             ],
             [
              0.6666666666666666,
              "#ed7953"
             ],
             [
              0.7777777777777778,
              "#fb9f3a"
             ],
             [
              0.8888888888888888,
              "#fdca26"
             ],
             [
              1,
              "#f0f921"
             ]
            ],
            "type": "heatmap"
           }
          ],
          "heatmapgl": [
           {
            "colorbar": {
             "outlinewidth": 0,
             "ticks": ""
            },
            "colorscale": [
             [
              0,
              "#0d0887"
             ],
             [
              0.1111111111111111,
              "#46039f"
             ],
             [
              0.2222222222222222,
              "#7201a8"
             ],
             [
              0.3333333333333333,
              "#9c179e"
             ],
             [
              0.4444444444444444,
              "#bd3786"
             ],
             [
              0.5555555555555556,
              "#d8576b"
             ],
             [
              0.6666666666666666,
              "#ed7953"
             ],
             [
              0.7777777777777778,
              "#fb9f3a"
             ],
             [
              0.8888888888888888,
              "#fdca26"
             ],
             [
              1,
              "#f0f921"
             ]
            ],
            "type": "heatmapgl"
           }
          ],
          "histogram": [
           {
            "marker": {
             "pattern": {
              "fillmode": "overlay",
              "size": 10,
              "solidity": 0.2
             }
            },
            "type": "histogram"
           }
          ],
          "histogram2d": [
           {
            "colorbar": {
             "outlinewidth": 0,
             "ticks": ""
            },
            "colorscale": [
             [
              0,
              "#0d0887"
             ],
             [
              0.1111111111111111,
              "#46039f"
             ],
             [
              0.2222222222222222,
              "#7201a8"
             ],
             [
              0.3333333333333333,
              "#9c179e"
             ],
             [
              0.4444444444444444,
              "#bd3786"
             ],
             [
              0.5555555555555556,
              "#d8576b"
             ],
             [
              0.6666666666666666,
              "#ed7953"
             ],
             [
              0.7777777777777778,
              "#fb9f3a"
             ],
             [
              0.8888888888888888,
              "#fdca26"
             ],
             [
              1,
              "#f0f921"
             ]
            ],
            "type": "histogram2d"
           }
          ],
          "histogram2dcontour": [
           {
            "colorbar": {
             "outlinewidth": 0,
             "ticks": ""
            },
            "colorscale": [
             [
              0,
              "#0d0887"
             ],
             [
              0.1111111111111111,
              "#46039f"
             ],
             [
              0.2222222222222222,
              "#7201a8"
             ],
             [
              0.3333333333333333,
              "#9c179e"
             ],
             [
              0.4444444444444444,
              "#bd3786"
             ],
             [
              0.5555555555555556,
              "#d8576b"
             ],
             [
              0.6666666666666666,
              "#ed7953"
             ],
             [
              0.7777777777777778,
              "#fb9f3a"
             ],
             [
              0.8888888888888888,
              "#fdca26"
             ],
             [
              1,
              "#f0f921"
             ]
            ],
            "type": "histogram2dcontour"
           }
          ],
          "mesh3d": [
           {
            "colorbar": {
             "outlinewidth": 0,
             "ticks": ""
            },
            "type": "mesh3d"
           }
          ],
          "parcoords": [
           {
            "line": {
             "colorbar": {
              "outlinewidth": 0,
              "ticks": ""
             }
            },
            "type": "parcoords"
           }
          ],
          "pie": [
           {
            "automargin": true,
            "type": "pie"
           }
          ],
          "scatter": [
           {
            "fillpattern": {
             "fillmode": "overlay",
             "size": 10,
             "solidity": 0.2
            },
            "type": "scatter"
           }
          ],
          "scatter3d": [
           {
            "line": {
             "colorbar": {
              "outlinewidth": 0,
              "ticks": ""
             }
            },
            "marker": {
             "colorbar": {
              "outlinewidth": 0,
              "ticks": ""
             }
            },
            "type": "scatter3d"
           }
          ],
          "scattercarpet": [
           {
            "marker": {
             "colorbar": {
              "outlinewidth": 0,
              "ticks": ""
             }
            },
            "type": "scattercarpet"
           }
          ],
          "scattergeo": [
           {
            "marker": {
             "colorbar": {
              "outlinewidth": 0,
              "ticks": ""
             }
            },
            "type": "scattergeo"
           }
          ],
          "scattergl": [
           {
            "marker": {
             "colorbar": {
              "outlinewidth": 0,
              "ticks": ""
             }
            },
            "type": "scattergl"
           }
          ],
          "scattermapbox": [
           {
            "marker": {
             "colorbar": {
              "outlinewidth": 0,
              "ticks": ""
             }
            },
            "type": "scattermapbox"
           }
          ],
          "scatterpolar": [
           {
            "marker": {
             "colorbar": {
              "outlinewidth": 0,
              "ticks": ""
             }
            },
            "type": "scatterpolar"
           }
          ],
          "scatterpolargl": [
           {
            "marker": {
             "colorbar": {
              "outlinewidth": 0,
              "ticks": ""
             }
            },
            "type": "scatterpolargl"
           }
          ],
          "scatterternary": [
           {
            "marker": {
             "colorbar": {
              "outlinewidth": 0,
              "ticks": ""
             }
            },
            "type": "scatterternary"
           }
          ],
          "surface": [
           {
            "colorbar": {
             "outlinewidth": 0,
             "ticks": ""
            },
            "colorscale": [
             [
              0,
              "#0d0887"
             ],
             [
              0.1111111111111111,
              "#46039f"
             ],
             [
              0.2222222222222222,
              "#7201a8"
             ],
             [
              0.3333333333333333,
              "#9c179e"
             ],
             [
              0.4444444444444444,
              "#bd3786"
             ],
             [
              0.5555555555555556,
              "#d8576b"
             ],
             [
              0.6666666666666666,
              "#ed7953"
             ],
             [
              0.7777777777777778,
              "#fb9f3a"
             ],
             [
              0.8888888888888888,
              "#fdca26"
             ],
             [
              1,
              "#f0f921"
             ]
            ],
            "type": "surface"
           }
          ],
          "table": [
           {
            "cells": {
             "fill": {
              "color": "#EBF0F8"
             },
             "line": {
              "color": "white"
             }
            },
            "header": {
             "fill": {
              "color": "#C8D4E3"
             },
             "line": {
              "color": "white"
             }
            },
            "type": "table"
           }
          ]
         },
         "layout": {
          "annotationdefaults": {
           "arrowcolor": "#2a3f5f",
           "arrowhead": 0,
           "arrowwidth": 1
          },
          "autotypenumbers": "strict",
          "coloraxis": {
           "colorbar": {
            "outlinewidth": 0,
            "ticks": ""
           }
          },
          "colorscale": {
           "diverging": [
            [
             0,
             "#8e0152"
            ],
            [
             0.1,
             "#c51b7d"
            ],
            [
             0.2,
             "#de77ae"
            ],
            [
             0.3,
             "#f1b6da"
            ],
            [
             0.4,
             "#fde0ef"
            ],
            [
             0.5,
             "#f7f7f7"
            ],
            [
             0.6,
             "#e6f5d0"
            ],
            [
             0.7,
             "#b8e186"
            ],
            [
             0.8,
             "#7fbc41"
            ],
            [
             0.9,
             "#4d9221"
            ],
            [
             1,
             "#276419"
            ]
           ],
           "sequential": [
            [
             0,
             "#0d0887"
            ],
            [
             0.1111111111111111,
             "#46039f"
            ],
            [
             0.2222222222222222,
             "#7201a8"
            ],
            [
             0.3333333333333333,
             "#9c179e"
            ],
            [
             0.4444444444444444,
             "#bd3786"
            ],
            [
             0.5555555555555556,
             "#d8576b"
            ],
            [
             0.6666666666666666,
             "#ed7953"
            ],
            [
             0.7777777777777778,
             "#fb9f3a"
            ],
            [
             0.8888888888888888,
             "#fdca26"
            ],
            [
             1,
             "#f0f921"
            ]
           ],
           "sequentialminus": [
            [
             0,
             "#0d0887"
            ],
            [
             0.1111111111111111,
             "#46039f"
            ],
            [
             0.2222222222222222,
             "#7201a8"
            ],
            [
             0.3333333333333333,
             "#9c179e"
            ],
            [
             0.4444444444444444,
             "#bd3786"
            ],
            [
             0.5555555555555556,
             "#d8576b"
            ],
            [
             0.6666666666666666,
             "#ed7953"
            ],
            [
             0.7777777777777778,
             "#fb9f3a"
            ],
            [
             0.8888888888888888,
             "#fdca26"
            ],
            [
             1,
             "#f0f921"
            ]
           ]
          },
          "colorway": [
           "#636efa",
           "#EF553B",
           "#00cc96",
           "#ab63fa",
           "#FFA15A",
           "#19d3f3",
           "#FF6692",
           "#B6E880",
           "#FF97FF",
           "#FECB52"
          ],
          "font": {
           "color": "#2a3f5f"
          },
          "geo": {
           "bgcolor": "white",
           "lakecolor": "white",
           "landcolor": "#E5ECF6",
           "showlakes": true,
           "showland": true,
           "subunitcolor": "white"
          },
          "hoverlabel": {
           "align": "left"
          },
          "hovermode": "closest",
          "mapbox": {
           "style": "light"
          },
          "paper_bgcolor": "white",
          "plot_bgcolor": "#E5ECF6",
          "polar": {
           "angularaxis": {
            "gridcolor": "white",
            "linecolor": "white",
            "ticks": ""
           },
           "bgcolor": "#E5ECF6",
           "radialaxis": {
            "gridcolor": "white",
            "linecolor": "white",
            "ticks": ""
           }
          },
          "scene": {
           "xaxis": {
            "backgroundcolor": "#E5ECF6",
            "gridcolor": "white",
            "gridwidth": 2,
            "linecolor": "white",
            "showbackground": true,
            "ticks": "",
            "zerolinecolor": "white"
           },
           "yaxis": {
            "backgroundcolor": "#E5ECF6",
            "gridcolor": "white",
            "gridwidth": 2,
            "linecolor": "white",
            "showbackground": true,
            "ticks": "",
            "zerolinecolor": "white"
           },
           "zaxis": {
            "backgroundcolor": "#E5ECF6",
            "gridcolor": "white",
            "gridwidth": 2,
            "linecolor": "white",
            "showbackground": true,
            "ticks": "",
            "zerolinecolor": "white"
           }
          },
          "shapedefaults": {
           "line": {
            "color": "#2a3f5f"
           }
          },
          "ternary": {
           "aaxis": {
            "gridcolor": "white",
            "linecolor": "white",
            "ticks": ""
           },
           "baxis": {
            "gridcolor": "white",
            "linecolor": "white",
            "ticks": ""
           },
           "bgcolor": "#E5ECF6",
           "caxis": {
            "gridcolor": "white",
            "linecolor": "white",
            "ticks": ""
           }
          },
          "title": {
           "x": 0.05
          },
          "xaxis": {
           "automargin": true,
           "gridcolor": "white",
           "linecolor": "white",
           "ticks": "",
           "title": {
            "standoff": 15
           },
           "zerolinecolor": "white",
           "zerolinewidth": 2
          },
          "yaxis": {
           "automargin": true,
           "gridcolor": "white",
           "linecolor": "white",
           "ticks": "",
           "title": {
            "standoff": 15
           },
           "zerolinecolor": "white",
           "zerolinewidth": 2
          }
         }
        },
        "title": {
         "text": "Comparison of Actual and Predicted Data Points with Gradient Boost"
        },
        "xaxis": {
         "title": {
          "text": "Data Point Index"
         }
        },
        "yaxis": {
         "title": {
          "text": "y"
         }
        }
       }
      }
     },
     "metadata": {},
     "output_type": "display_data"
    }
   ],
   "source": [
    "import plotly.graph_objs as go\n",
    "#Conclusion :\n",
    "# 1] The regression model appears to capture the overall trend of the data but may struggle with certain data points, leading to larger prediction errors.\n",
    "# 2] The presence of outliers suggests that the model's performance could be improved either by addressing these outliers or by using a more robust regression technique.\n",
    "# 3] The jagged nature of the regression line indicates a close fit to the data points, which might be an issue if the model is overfitting.\n",
    "\n",
    "# Assuming you have y_test and y_pred defined\n",
    "\n",
    "# Assuming y_test and y_pred are already defined with 30 samples\n",
    "y_test_sample = y_test[:50]\n",
    "y_pred_sample = y_pred[:50]\n",
    "\n",
    "# Convert range to list for x-axis\n",
    "x_values = list(range(len(y_test_sample)))\n",
    "\n",
    "# Create traces for actual and predicted data points\n",
    "trace_actual = go.Scatter(x=x_values, y=y_test_sample, mode='markers', name='Actual', marker=dict(color='green'))\n",
    "trace_predicted = go.Scatter(x=x_values, y=y_pred_sample, mode='markers', name='Predicted', marker=dict(color='red'))\n",
    "\n",
    "# Create a trace for the regression line\n",
    "trace_regression = go.Scatter(x=x_values, y=y_pred_sample, mode='lines', name='Regression line', line=dict(color='blue', width=2))\n",
    "\n",
    "# Combine traces into a data list\n",
    "data = [trace_actual, trace_predicted, trace_regression]\n",
    "\n",
    "# Define layout for the plot\n",
    "layout = go.Layout(\n",
    "    title='Comparison of Actual and Predicted Data Points with Gradient Boost',\n",
    "    xaxis=dict(title='Data Point Index'),\n",
    "    yaxis=dict(title='y'),\n",
    "    hovermode='closest',  # Show closest data point's values upon hover\n",
    ")\n",
    "\n",
    "# Create figure object that combines data and layout\n",
    "fig = go.Figure(data=data, layout=layout)\n",
    "\n",
    "# Display the interactive plot\n",
    "fig.show()"
   ]
  },
  {
   "cell_type": "code",
   "execution_count": 24,
   "metadata": {},
   "outputs": [],
   "source": [
    "from sklearn.metrics import r2_score,mean_absolute_error,mean_squared_error\n",
    "import numpy as np\n",
    "mae=mean_absolute_error(y_pred, y_test)\n",
    "mse=mean_squared_error(y_pred, y_test)\n",
    "rmse= np.sqrt(mean_squared_error(y_pred, y_test))\n",
    "r2_square=r2_score(y_pred, y_test)"
   ]
  },
  {
   "cell_type": "code",
   "execution_count": 25,
   "metadata": {},
   "outputs": [
    {
     "name": "stdout",
     "output_type": "stream",
     "text": [
      "3.708496787625313\n",
      "21.274022513681242\n",
      "4.612377100116733\n",
      "0.6541587204200625\n"
     ]
    }
   ],
   "source": [
    "print(mae)\n",
    "print(mse)\n",
    "print(rmse)\n",
    "print(r2_square)"
   ]
  },
  {
   "cell_type": "code",
   "execution_count": 26,
   "metadata": {},
   "outputs": [
    {
     "data": {
      "text/plain": [
       "0.7603927873108348"
      ]
     },
     "execution_count": 26,
     "metadata": {},
     "output_type": "execute_result"
    }
   ],
   "source": [
    "from sklearn.metrics import r2_score\n",
    "r2_score(y_test,y_pred)"
   ]
  },
  {
   "cell_type": "code",
   "execution_count": null,
   "metadata": {},
   "outputs": [],
   "source": []
  }
 ],
 "metadata": {
  "kernelspec": {
   "display_name": "base",
   "language": "python",
   "name": "python3"
  },
  "language_info": {
   "codemirror_mode": {
    "name": "ipython",
    "version": 3
   },
   "file_extension": ".py",
   "mimetype": "text/x-python",
   "name": "python",
   "nbconvert_exporter": "python",
   "pygments_lexer": "ipython3",
   "version": "3.9.13"
  }
 },
 "nbformat": 4,
 "nbformat_minor": 2
}
